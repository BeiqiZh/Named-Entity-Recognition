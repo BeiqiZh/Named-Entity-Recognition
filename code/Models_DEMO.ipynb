{
 "cells": [
  {
   "cell_type": "markdown",
   "id": "cheap-gibraltar",
   "metadata": {},
   "source": [
    "# Named Entity Recognition Model\n",
    "# Examples\n"
   ]
  },
  {
   "cell_type": "code",
   "execution_count": 1,
   "id": "organic-smile",
   "metadata": {},
   "outputs": [],
   "source": [
    "import spacy\n",
    "import pandas as pd\n",
    "import numpy as np\n",
    "from spacy import displacy\n",
    "%load_ext autoreload\n",
    "%autoreload 2\n",
    "from data_prep import search_keyword_loc_old,filter_spans,convert_to_spacy"
   ]
  },
  {
   "cell_type": "code",
   "execution_count": 2,
   "id": "widespread-twist",
   "metadata": {},
   "outputs": [
    {
     "data": {
      "text/html": [
       "<span class=\"tex2jax_ignore\"><div class=\"entities\" style=\"line-height: 2.5; direction: ltr\">When \n",
       "<mark class=\"entity\" style=\"background: #aa9cfc; padding: 0.45em 0.6em; margin: 0 0.25em; line-height: 1; border-radius: 0.35em;\">\n",
       "    Sebastian Thrun\n",
       "    <span style=\"font-size: 0.8em; font-weight: bold; line-height: 1; border-radius: 0.35em; vertical-align: middle; margin-left: 0.5rem\">PERSON</span>\n",
       "</mark>\n",
       " started working on self-driving cars at Google in \n",
       "<mark class=\"entity\" style=\"background: #bfe1d9; padding: 0.45em 0.6em; margin: 0 0.25em; line-height: 1; border-radius: 0.35em;\">\n",
       "    2007\n",
       "    <span style=\"font-size: 0.8em; font-weight: bold; line-height: 1; border-radius: 0.35em; vertical-align: middle; margin-left: 0.5rem\">DATE</span>\n",
       "</mark>\n",
       ", few people outside of the company took him seriously.</div></span>"
      ],
      "text/plain": [
       "<IPython.core.display.HTML object>"
      ]
     },
     "metadata": {},
     "output_type": "display_data"
    }
   ],
   "source": [
    "\n",
    "\n",
    "text = \"When Sebastian Thrun started working on self-driving cars at Google in 2007, few people outside of the company took him seriously.\"\n",
    "\n",
    "nlp = spacy.load(\"en_core_web_sm\")\n",
    "doc = nlp(text)\n",
    "displacy.render(doc, style=\"ent\")\n"
   ]
  },
  {
   "cell_type": "code",
   "execution_count": 3,
   "id": "silver-prince",
   "metadata": {
    "scrolled": true
   },
   "outputs": [
    {
     "name": "stderr",
     "output_type": "stream",
     "text": [
      "<ipython-input-3-02f3202cf741>:1: FutureWarning: Your version of xlrd is 1.2.0. In xlrd >= 2.0, only the xls format is supported. As a result, the openpyxl engine will be used if it is installed and the engine argument is not specified. Install openpyxl instead.\n",
      "  df=pd.read_excel('data_masking.xlsx')\n"
     ]
    }
   ],
   "source": [
    "df=pd.read_excel('data_masking.xlsx')"
   ]
  },
  {
   "cell_type": "code",
   "execution_count": 4,
   "id": "accompanied-sterling",
   "metadata": {},
   "outputs": [
    {
     "data": {
      "text/plain": [
       "'[First Amendment effective 01-May-17 to DOW For Compare Test - Org Confirmations effective 12-Sep-16 to RR Agreement effective 01-Jan-12 to SN Agreement effective 01-Jan-12 between ABC and  XYZ, Inc.]'"
      ]
     },
     "execution_count": 4,
     "metadata": {},
     "output_type": "execute_result"
    }
   ],
   "source": [
    "df['description'][1]"
   ]
  },
  {
   "cell_type": "code",
   "execution_count": 5,
   "id": "anticipated-amendment",
   "metadata": {
    "scrolled": false
   },
   "outputs": [
    {
     "name": "stdout",
     "output_type": "stream",
     "text": [
      "12 66 68 CARDINAL\n",
      "01-Jan-12 102 111 DATE\n",
      "01-Jan-12 138 147 DATE\n",
      "ABC 156 159 ORG\n",
      "XYZ 164 167 ORG\n",
      "months 241 247 DATE\n",
      "& Renewal Notes 260 275 ORG\n"
     ]
    },
    {
     "data": {
      "text/html": [
       "<span class=\"tex2jax_ignore\"><div class=\"entities\" style=\"line-height: 2.5; direction: ltr\">[Statement of Work For Compare Test - Org Confirmations effective \n",
       "<mark class=\"entity\" style=\"background: #e4e7d2; padding: 0.45em 0.6em; margin: 0 0.25em; line-height: 1; border-radius: 0.35em;\">\n",
       "    12\n",
       "    <span style=\"font-size: 0.8em; font-weight: bold; line-height: 1; border-radius: 0.35em; vertical-align: middle; margin-left: 0.5rem\">CARDINAL</span>\n",
       "</mark>\n",
       "-Sep-16 to RR Agreement effective \n",
       "<mark class=\"entity\" style=\"background: #bfe1d9; padding: 0.45em 0.6em; margin: 0 0.25em; line-height: 1; border-radius: 0.35em;\">\n",
       "    01-Jan-12\n",
       "    <span style=\"font-size: 0.8em; font-weight: bold; line-height: 1; border-radius: 0.35em; vertical-align: middle; margin-left: 0.5rem\">DATE</span>\n",
       "</mark>\n",
       " to SN Agreement effective \n",
       "<mark class=\"entity\" style=\"background: #bfe1d9; padding: 0.45em 0.6em; margin: 0 0.25em; line-height: 1; border-radius: 0.35em;\">\n",
       "    01-Jan-12\n",
       "    <span style=\"font-size: 0.8em; font-weight: bold; line-height: 1; border-radius: 0.35em; vertical-align: middle; margin-left: 0.5rem\">DATE</span>\n",
       "</mark>\n",
       " between \n",
       "<mark class=\"entity\" style=\"background: #7aecec; padding: 0.45em 0.6em; margin: 0 0.25em; line-height: 1; border-radius: 0.35em;\">\n",
       "    ABC\n",
       "    <span style=\"font-size: 0.8em; font-weight: bold; line-height: 1; border-radius: 0.35em; vertical-align: middle; margin-left: 0.5rem\">ORG</span>\n",
       "</mark>\n",
       " and \n",
       "<mark class=\"entity\" style=\"background: #7aecec; padding: 0.45em 0.6em; margin: 0 0.25em; line-height: 1; border-radius: 0.35em;\">\n",
       "    XYZ\n",
       "    <span style=\"font-size: 0.8em; font-weight: bold; line-height: 1; border-radius: 0.35em; vertical-align: middle; margin-left: 0.5rem\">ORG</span>\n",
       "</mark>\n",
       ", Inc];[Notice Timeframe: Prior to Expiration Date];[Renewal Interval (in \n",
       "<mark class=\"entity\" style=\"background: #bfe1d9; padding: 0.45em 0.6em; margin: 0 0.25em; line-height: 1; border-radius: 0.35em;\">\n",
       "    months\n",
       "    <span style=\"font-size: 0.8em; font-weight: bold; line-height: 1; border-radius: 0.35em; vertical-align: middle; margin-left: 0.5rem\">DATE</span>\n",
       "</mark>\n",
       "): 12];[Term \n",
       "<mark class=\"entity\" style=\"background: #7aecec; padding: 0.45em 0.6em; margin: 0 0.25em; line-height: 1; border-radius: 0.35em;\">\n",
       "    &amp; Renewal Notes\n",
       "    <span style=\"font-size: 0.8em; font-weight: bold; line-height: 1; border-radius: 0.35em; vertical-align: middle; margin-left: 0.5rem\">ORG</span>\n",
       "</mark>\n",
       ": ]</div></span>"
      ],
      "text/plain": [
       "<IPython.core.display.HTML object>"
      ]
     },
     "metadata": {},
     "output_type": "display_data"
    },
    {
     "name": "stdout",
     "output_type": "stream",
     "text": [
      "First Amendment 1 16 ORG\n",
      "01 27 29 CARDINAL\n",
      "Compare Test - Org Confirmations 48 80 ORG\n",
      "12 91 93 CARDINAL\n",
      "01-Jan-12 127 136 DATE\n",
      "01-Jan-12 163 172 DATE\n",
      "ABC 181 184 ORG\n",
      "XYZ, Inc. 190 199 ORG\n"
     ]
    },
    {
     "data": {
      "text/html": [
       "<span class=\"tex2jax_ignore\"><div class=\"entities\" style=\"line-height: 2.5; direction: ltr\">[\n",
       "<mark class=\"entity\" style=\"background: #7aecec; padding: 0.45em 0.6em; margin: 0 0.25em; line-height: 1; border-radius: 0.35em;\">\n",
       "    First Amendment\n",
       "    <span style=\"font-size: 0.8em; font-weight: bold; line-height: 1; border-radius: 0.35em; vertical-align: middle; margin-left: 0.5rem\">ORG</span>\n",
       "</mark>\n",
       " effective \n",
       "<mark class=\"entity\" style=\"background: #e4e7d2; padding: 0.45em 0.6em; margin: 0 0.25em; line-height: 1; border-radius: 0.35em;\">\n",
       "    01\n",
       "    <span style=\"font-size: 0.8em; font-weight: bold; line-height: 1; border-radius: 0.35em; vertical-align: middle; margin-left: 0.5rem\">CARDINAL</span>\n",
       "</mark>\n",
       "-May-17 to DOW For \n",
       "<mark class=\"entity\" style=\"background: #7aecec; padding: 0.45em 0.6em; margin: 0 0.25em; line-height: 1; border-radius: 0.35em;\">\n",
       "    Compare Test - Org Confirmations\n",
       "    <span style=\"font-size: 0.8em; font-weight: bold; line-height: 1; border-radius: 0.35em; vertical-align: middle; margin-left: 0.5rem\">ORG</span>\n",
       "</mark>\n",
       " effective \n",
       "<mark class=\"entity\" style=\"background: #e4e7d2; padding: 0.45em 0.6em; margin: 0 0.25em; line-height: 1; border-radius: 0.35em;\">\n",
       "    12\n",
       "    <span style=\"font-size: 0.8em; font-weight: bold; line-height: 1; border-radius: 0.35em; vertical-align: middle; margin-left: 0.5rem\">CARDINAL</span>\n",
       "</mark>\n",
       "-Sep-16 to RR Agreement effective \n",
       "<mark class=\"entity\" style=\"background: #bfe1d9; padding: 0.45em 0.6em; margin: 0 0.25em; line-height: 1; border-radius: 0.35em;\">\n",
       "    01-Jan-12\n",
       "    <span style=\"font-size: 0.8em; font-weight: bold; line-height: 1; border-radius: 0.35em; vertical-align: middle; margin-left: 0.5rem\">DATE</span>\n",
       "</mark>\n",
       " to SN Agreement effective \n",
       "<mark class=\"entity\" style=\"background: #bfe1d9; padding: 0.45em 0.6em; margin: 0 0.25em; line-height: 1; border-radius: 0.35em;\">\n",
       "    01-Jan-12\n",
       "    <span style=\"font-size: 0.8em; font-weight: bold; line-height: 1; border-radius: 0.35em; vertical-align: middle; margin-left: 0.5rem\">DATE</span>\n",
       "</mark>\n",
       " between \n",
       "<mark class=\"entity\" style=\"background: #7aecec; padding: 0.45em 0.6em; margin: 0 0.25em; line-height: 1; border-radius: 0.35em;\">\n",
       "    ABC\n",
       "    <span style=\"font-size: 0.8em; font-weight: bold; line-height: 1; border-radius: 0.35em; vertical-align: middle; margin-left: 0.5rem\">ORG</span>\n",
       "</mark>\n",
       " and  \n",
       "<mark class=\"entity\" style=\"background: #7aecec; padding: 0.45em 0.6em; margin: 0 0.25em; line-height: 1; border-radius: 0.35em;\">\n",
       "    XYZ, Inc.\n",
       "    <span style=\"font-size: 0.8em; font-weight: bold; line-height: 1; border-radius: 0.35em; vertical-align: middle; margin-left: 0.5rem\">ORG</span>\n",
       "</mark>\n",
       "]</div></span>"
      ],
      "text/plain": [
       "<IPython.core.display.HTML object>"
      ]
     },
     "metadata": {},
     "output_type": "display_data"
    },
    {
     "name": "stdout",
     "output_type": "stream",
     "text": [
      "31 69 71 CARDINAL\n",
      "01-Jan-26 105 114 TIME\n",
      "01-Jan-12 141 150 DATE\n",
      "ABC 159 162 ORG\n",
      "XYZ 168 171 ORG\n",
      "External Party Current Name 219 246 ORG\n",
      "0069082-XYZ 248 259 PERSON\n",
      "90];[Notice 310 321 CARDINAL\n",
      "months 381 387 DATE\n",
      "& Renewal Notes 400 415 ORG\n"
     ]
    },
    {
     "data": {
      "text/html": [
       "<span class=\"tex2jax_ignore\"><div class=\"entities\" style=\"line-height: 2.5; direction: ltr\">[Contract Description: [Statement of Work for Compare Test effective \n",
       "<mark class=\"entity\" style=\"background: #e4e7d2; padding: 0.45em 0.6em; margin: 0 0.25em; line-height: 1; border-radius: 0.35em;\">\n",
       "    31\n",
       "    <span style=\"font-size: 0.8em; font-weight: bold; line-height: 1; border-radius: 0.35em; vertical-align: middle; margin-left: 0.5rem\">CARDINAL</span>\n",
       "</mark>\n",
       "-Jun-27 to RR Agreement effective \n",
       "<mark class=\"entity\" style=\"background: #bfe1d9; padding: 0.45em 0.6em; margin: 0 0.25em; line-height: 1; border-radius: 0.35em;\">\n",
       "    01-Jan-26\n",
       "    <span style=\"font-size: 0.8em; font-weight: bold; line-height: 1; border-radius: 0.35em; vertical-align: middle; margin-left: 0.5rem\">TIME</span>\n",
       "</mark>\n",
       " to SN Agreement effective \n",
       "<mark class=\"entity\" style=\"background: #bfe1d9; padding: 0.45em 0.6em; margin: 0 0.25em; line-height: 1; border-radius: 0.35em;\">\n",
       "    01-Jan-12\n",
       "    <span style=\"font-size: 0.8em; font-weight: bold; line-height: 1; border-radius: 0.35em; vertical-align: middle; margin-left: 0.5rem\">DATE</span>\n",
       "</mark>\n",
       " between \n",
       "<mark class=\"entity\" style=\"background: #7aecec; padding: 0.45em 0.6em; margin: 0 0.25em; line-height: 1; border-radius: 0.35em;\">\n",
       "    ABC\n",
       "    <span style=\"font-size: 0.8em; font-weight: bold; line-height: 1; border-radius: 0.35em; vertical-align: middle; margin-left: 0.5rem\">ORG</span>\n",
       "</mark>\n",
       " and  \n",
       "<mark class=\"entity\" style=\"background: #7aecec; padding: 0.45em 0.6em; margin: 0 0.25em; line-height: 1; border-radius: 0.35em;\">\n",
       "    XYZ\n",
       "    <span style=\"font-size: 0.8em; font-weight: bold; line-height: 1; border-radius: 0.35em; vertical-align: middle; margin-left: 0.5rem\">ORG</span>\n",
       "</mark>\n",
       ", Inc.]];[Contract No.: ];[CMG Contract No.: ];[\n",
       "<mark class=\"entity\" style=\"background: #7aecec; padding: 0.45em 0.6em; margin: 0 0.25em; line-height: 1; border-radius: 0.35em;\">\n",
       "    External Party Current Name\n",
       "    <span style=\"font-size: 0.8em; font-weight: bold; line-height: 1; border-radius: 0.35em; vertical-align: middle; margin-left: 0.5rem\">ORG</span>\n",
       "</mark>\n",
       ": \n",
       "<mark class=\"entity\" style=\"background: #aa9cfc; padding: 0.45em 0.6em; margin: 0 0.25em; line-height: 1; border-radius: 0.35em;\">\n",
       "    0069082-XYZ\n",
       "    <span style=\"font-size: 0.8em; font-weight: bold; line-height: 1; border-radius: 0.35em; vertical-align: middle; margin-left: 0.5rem\">PERSON</span>\n",
       "</mark>\n",
       " INC];[Term Type: Fixed];[Notice Period (in days): \n",
       "<mark class=\"entity\" style=\"background: #e4e7d2; padding: 0.45em 0.6em; margin: 0 0.25em; line-height: 1; border-radius: 0.35em;\">\n",
       "    90];[Notice\n",
       "    <span style=\"font-size: 0.8em; font-weight: bold; line-height: 1; border-radius: 0.35em; vertical-align: middle; margin-left: 0.5rem\">CARDINAL</span>\n",
       "</mark>\n",
       " Timeframe: Prior to Expiration Date];[Renewal Interval (in \n",
       "<mark class=\"entity\" style=\"background: #bfe1d9; padding: 0.45em 0.6em; margin: 0 0.25em; line-height: 1; border-radius: 0.35em;\">\n",
       "    months\n",
       "    <span style=\"font-size: 0.8em; font-weight: bold; line-height: 1; border-radius: 0.35em; vertical-align: middle; margin-left: 0.5rem\">DATE</span>\n",
       "</mark>\n",
       "): 12];[Term \n",
       "<mark class=\"entity\" style=\"background: #7aecec; padding: 0.45em 0.6em; margin: 0 0.25em; line-height: 1; border-radius: 0.35em;\">\n",
       "    &amp; Renewal Notes\n",
       "    <span style=\"font-size: 0.8em; font-weight: bold; line-height: 1; border-radius: 0.35em; vertical-align: middle; margin-left: 0.5rem\">ORG</span>\n",
       "</mark>\n",
       ": ]</div></span>"
      ],
      "text/plain": [
       "<IPython.core.display.HTML object>"
      ]
     },
     "metadata": {},
     "output_type": "display_data"
    },
    {
     "name": "stdout",
     "output_type": "stream",
     "text": [
      "Tenth Amendment 1 16 LAW\n",
      "01 27 29 CARDINAL\n",
      "31 85 87 CARDINAL\n",
      "01-Jan-12 121 130 DATE\n",
      "01-Jan-12 157 166 DATE\n",
      "ABC 175 178 ORG\n",
      "XYZ, Inc. 184 193 ORG\n"
     ]
    },
    {
     "data": {
      "text/html": [
       "<span class=\"tex2jax_ignore\"><div class=\"entities\" style=\"line-height: 2.5; direction: ltr\">[\n",
       "<mark class=\"entity\" style=\"background: #ff8197; padding: 0.45em 0.6em; margin: 0 0.25em; line-height: 1; border-radius: 0.35em;\">\n",
       "    Tenth Amendment\n",
       "    <span style=\"font-size: 0.8em; font-weight: bold; line-height: 1; border-radius: 0.35em; vertical-align: middle; margin-left: 0.5rem\">LAW</span>\n",
       "</mark>\n",
       " effective \n",
       "<mark class=\"entity\" style=\"background: #e4e7d2; padding: 0.45em 0.6em; margin: 0 0.25em; line-height: 1; border-radius: 0.35em;\">\n",
       "    01\n",
       "    <span style=\"font-size: 0.8em; font-weight: bold; line-height: 1; border-radius: 0.35em; vertical-align: middle; margin-left: 0.5rem\">CARDINAL</span>\n",
       "</mark>\n",
       "-May-18 to Statement of Work for Compare Test effective \n",
       "<mark class=\"entity\" style=\"background: #e4e7d2; padding: 0.45em 0.6em; margin: 0 0.25em; line-height: 1; border-radius: 0.35em;\">\n",
       "    31\n",
       "    <span style=\"font-size: 0.8em; font-weight: bold; line-height: 1; border-radius: 0.35em; vertical-align: middle; margin-left: 0.5rem\">CARDINAL</span>\n",
       "</mark>\n",
       "-Mar-16 to RR Agreement effective \n",
       "<mark class=\"entity\" style=\"background: #bfe1d9; padding: 0.45em 0.6em; margin: 0 0.25em; line-height: 1; border-radius: 0.35em;\">\n",
       "    01-Jan-12\n",
       "    <span style=\"font-size: 0.8em; font-weight: bold; line-height: 1; border-radius: 0.35em; vertical-align: middle; margin-left: 0.5rem\">DATE</span>\n",
       "</mark>\n",
       " to SN Agreement effective \n",
       "<mark class=\"entity\" style=\"background: #bfe1d9; padding: 0.45em 0.6em; margin: 0 0.25em; line-height: 1; border-radius: 0.35em;\">\n",
       "    01-Jan-12\n",
       "    <span style=\"font-size: 0.8em; font-weight: bold; line-height: 1; border-radius: 0.35em; vertical-align: middle; margin-left: 0.5rem\">DATE</span>\n",
       "</mark>\n",
       " between \n",
       "<mark class=\"entity\" style=\"background: #7aecec; padding: 0.45em 0.6em; margin: 0 0.25em; line-height: 1; border-radius: 0.35em;\">\n",
       "    ABC\n",
       "    <span style=\"font-size: 0.8em; font-weight: bold; line-height: 1; border-radius: 0.35em; vertical-align: middle; margin-left: 0.5rem\">ORG</span>\n",
       "</mark>\n",
       " and  \n",
       "<mark class=\"entity\" style=\"background: #7aecec; padding: 0.45em 0.6em; margin: 0 0.25em; line-height: 1; border-radius: 0.35em;\">\n",
       "    XYZ, Inc.\n",
       "    <span style=\"font-size: 0.8em; font-weight: bold; line-height: 1; border-radius: 0.35em; vertical-align: middle; margin-left: 0.5rem\">ORG</span>\n",
       "</mark>\n",
       "]</div></span>"
      ],
      "text/plain": [
       "<IPython.core.display.HTML object>"
      ]
     },
     "metadata": {},
     "output_type": "display_data"
    },
    {
     "name": "stdout",
     "output_type": "stream",
     "text": [
      "Tenth Amendment 1 16 LAW\n",
      "07-Jul-16 27 36 DATE\n",
      "31 85 87 CARDINAL\n",
      "01-Jan-12 121 130 DATE\n",
      "01-Jan-12 157 166 DATE\n",
      "ABC 175 178 ORG\n",
      "XYZ, Inc. 183 192 ORG\n"
     ]
    },
    {
     "data": {
      "text/html": [
       "<span class=\"tex2jax_ignore\"><div class=\"entities\" style=\"line-height: 2.5; direction: ltr\">[\n",
       "<mark class=\"entity\" style=\"background: #ff8197; padding: 0.45em 0.6em; margin: 0 0.25em; line-height: 1; border-radius: 0.35em;\">\n",
       "    Tenth Amendment\n",
       "    <span style=\"font-size: 0.8em; font-weight: bold; line-height: 1; border-radius: 0.35em; vertical-align: middle; margin-left: 0.5rem\">LAW</span>\n",
       "</mark>\n",
       " effective \n",
       "<mark class=\"entity\" style=\"background: #bfe1d9; padding: 0.45em 0.6em; margin: 0 0.25em; line-height: 1; border-radius: 0.35em;\">\n",
       "    07-Jul-16\n",
       "    <span style=\"font-size: 0.8em; font-weight: bold; line-height: 1; border-radius: 0.35em; vertical-align: middle; margin-left: 0.5rem\">DATE</span>\n",
       "</mark>\n",
       " to Statement of Work for Compare Test effective \n",
       "<mark class=\"entity\" style=\"background: #e4e7d2; padding: 0.45em 0.6em; margin: 0 0.25em; line-height: 1; border-radius: 0.35em;\">\n",
       "    31\n",
       "    <span style=\"font-size: 0.8em; font-weight: bold; line-height: 1; border-radius: 0.35em; vertical-align: middle; margin-left: 0.5rem\">CARDINAL</span>\n",
       "</mark>\n",
       "-Mar-16 to RR Agreement effective \n",
       "<mark class=\"entity\" style=\"background: #bfe1d9; padding: 0.45em 0.6em; margin: 0 0.25em; line-height: 1; border-radius: 0.35em;\">\n",
       "    01-Jan-12\n",
       "    <span style=\"font-size: 0.8em; font-weight: bold; line-height: 1; border-radius: 0.35em; vertical-align: middle; margin-left: 0.5rem\">DATE</span>\n",
       "</mark>\n",
       " to SN Agreement effective \n",
       "<mark class=\"entity\" style=\"background: #bfe1d9; padding: 0.45em 0.6em; margin: 0 0.25em; line-height: 1; border-radius: 0.35em;\">\n",
       "    01-Jan-12\n",
       "    <span style=\"font-size: 0.8em; font-weight: bold; line-height: 1; border-radius: 0.35em; vertical-align: middle; margin-left: 0.5rem\">DATE</span>\n",
       "</mark>\n",
       " between \n",
       "<mark class=\"entity\" style=\"background: #7aecec; padding: 0.45em 0.6em; margin: 0 0.25em; line-height: 1; border-radius: 0.35em;\">\n",
       "    ABC\n",
       "    <span style=\"font-size: 0.8em; font-weight: bold; line-height: 1; border-radius: 0.35em; vertical-align: middle; margin-left: 0.5rem\">ORG</span>\n",
       "</mark>\n",
       " and \n",
       "<mark class=\"entity\" style=\"background: #7aecec; padding: 0.45em 0.6em; margin: 0 0.25em; line-height: 1; border-radius: 0.35em;\">\n",
       "    XYZ, Inc.\n",
       "    <span style=\"font-size: 0.8em; font-weight: bold; line-height: 1; border-radius: 0.35em; vertical-align: middle; margin-left: 0.5rem\">ORG</span>\n",
       "</mark>\n",
       "]</div></span>"
      ],
      "text/plain": [
       "<IPython.core.display.HTML object>"
      ]
     },
     "metadata": {},
     "output_type": "display_data"
    },
    {
     "name": "stdout",
     "output_type": "stream",
     "text": [
      "BT Application Management Services 32 66 ORG\n",
      "01 77 79 CARDINAL\n",
      "01-Jun-13 120 129 DATE\n",
      "ABC 138 141 ORG\n",
      "XYZ Inc.]];[Contract No 146 169 ORG\n",
      "External Party Current Name 196 223 ORG\n",
      "90];[Notice 284 295 CARDINAL\n",
      "months 355 361 DATE\n",
      "& Renewal Notes 374 389 ORG\n"
     ]
    },
    {
     "data": {
      "text/html": [
       "<span class=\"tex2jax_ignore\"><div class=\"entities\" style=\"line-height: 2.5; direction: ltr\">[Contract Description: [DOW for \n",
       "<mark class=\"entity\" style=\"background: #7aecec; padding: 0.45em 0.6em; margin: 0 0.25em; line-height: 1; border-radius: 0.35em;\">\n",
       "    BT Application Management Services\n",
       "    <span style=\"font-size: 0.8em; font-weight: bold; line-height: 1; border-radius: 0.35em; vertical-align: middle; margin-left: 0.5rem\">ORG</span>\n",
       "</mark>\n",
       " effective \n",
       "<mark class=\"entity\" style=\"background: #e4e7d2; padding: 0.45em 0.6em; margin: 0 0.25em; line-height: 1; border-radius: 0.35em;\">\n",
       "    01\n",
       "    <span style=\"font-size: 0.8em; font-weight: bold; line-height: 1; border-radius: 0.35em; vertical-align: middle; margin-left: 0.5rem\">CARDINAL</span>\n",
       "</mark>\n",
       "-Dec-16 to AMS Tower Agreement effective \n",
       "<mark class=\"entity\" style=\"background: #bfe1d9; padding: 0.45em 0.6em; margin: 0 0.25em; line-height: 1; border-radius: 0.35em;\">\n",
       "    01-Jun-13\n",
       "    <span style=\"font-size: 0.8em; font-weight: bold; line-height: 1; border-radius: 0.35em; vertical-align: middle; margin-left: 0.5rem\">DATE</span>\n",
       "</mark>\n",
       " between \n",
       "<mark class=\"entity\" style=\"background: #7aecec; padding: 0.45em 0.6em; margin: 0 0.25em; line-height: 1; border-radius: 0.35em;\">\n",
       "    ABC\n",
       "    <span style=\"font-size: 0.8em; font-weight: bold; line-height: 1; border-radius: 0.35em; vertical-align: middle; margin-left: 0.5rem\">ORG</span>\n",
       "</mark>\n",
       " and \n",
       "<mark class=\"entity\" style=\"background: #7aecec; padding: 0.45em 0.6em; margin: 0 0.25em; line-height: 1; border-radius: 0.35em;\">\n",
       "    XYZ Inc.]];[Contract No\n",
       "    <span style=\"font-size: 0.8em; font-weight: bold; line-height: 1; border-radius: 0.35em; vertical-align: middle; margin-left: 0.5rem\">ORG</span>\n",
       "</mark>\n",
       ".: ];[CMG Contract No.: ];[\n",
       "<mark class=\"entity\" style=\"background: #7aecec; padding: 0.45em 0.6em; margin: 0 0.25em; line-height: 1; border-radius: 0.35em;\">\n",
       "    External Party Current Name\n",
       "    <span style=\"font-size: 0.8em; font-weight: bold; line-height: 1; border-radius: 0.35em; vertical-align: middle; margin-left: 0.5rem\">ORG</span>\n",
       "</mark>\n",
       ": 0062-XYZ INC];[Term Type: Fixed];[Notice Period (in days): \n",
       "<mark class=\"entity\" style=\"background: #e4e7d2; padding: 0.45em 0.6em; margin: 0 0.25em; line-height: 1; border-radius: 0.35em;\">\n",
       "    90];[Notice\n",
       "    <span style=\"font-size: 0.8em; font-weight: bold; line-height: 1; border-radius: 0.35em; vertical-align: middle; margin-left: 0.5rem\">CARDINAL</span>\n",
       "</mark>\n",
       " Timeframe: Prior to Expiration Date];[Renewal Interval (in \n",
       "<mark class=\"entity\" style=\"background: #bfe1d9; padding: 0.45em 0.6em; margin: 0 0.25em; line-height: 1; border-radius: 0.35em;\">\n",
       "    months\n",
       "    <span style=\"font-size: 0.8em; font-weight: bold; line-height: 1; border-radius: 0.35em; vertical-align: middle; margin-left: 0.5rem\">DATE</span>\n",
       "</mark>\n",
       "): 12];[Term \n",
       "<mark class=\"entity\" style=\"background: #7aecec; padding: 0.45em 0.6em; margin: 0 0.25em; line-height: 1; border-radius: 0.35em;\">\n",
       "    &amp; Renewal Notes\n",
       "    <span style=\"font-size: 0.8em; font-weight: bold; line-height: 1; border-radius: 0.35em; vertical-align: middle; margin-left: 0.5rem\">ORG</span>\n",
       "</mark>\n",
       ": ]</div></span>"
      ],
      "text/plain": [
       "<IPython.core.display.HTML object>"
      ]
     },
     "metadata": {},
     "output_type": "display_data"
    },
    {
     "name": "stdout",
     "output_type": "stream",
     "text": [
      "100279 10 16 DATE\n",
      "01 46 48 CARDINAL\n",
      "BCBT Application Management Services 67 103 ORG\n",
      "01 114 116 CARDINAL\n",
      "01-Jun-13 157 166 DATE\n",
      "ABC 175 178 ORG\n",
      "XYZ Inc. 183 191 ORG\n",
      "1 212 213 CARDINAL\n",
      "1 year 235 241 DATE\n"
     ]
    },
    {
     "data": {
      "text/html": [
       "<span class=\"tex2jax_ignore\"><div class=\"entities\" style=\"line-height: 2.5; direction: ltr\">[Parent = \n",
       "<mark class=\"entity\" style=\"background: #bfe1d9; padding: 0.45em 0.6em; margin: 0 0.25em; line-height: 1; border-radius: 0.35em;\">\n",
       "    100279\n",
       "    <span style=\"font-size: 0.8em; font-weight: bold; line-height: 1; border-radius: 0.35em; vertical-align: middle; margin-left: 0.5rem\">DATE</span>\n",
       "</mark>\n",
       "] [Second Amendment effective \n",
       "<mark class=\"entity\" style=\"background: #e4e7d2; padding: 0.45em 0.6em; margin: 0 0.25em; line-height: 1; border-radius: 0.35em;\">\n",
       "    01\n",
       "    <span style=\"font-size: 0.8em; font-weight: bold; line-height: 1; border-radius: 0.35em; vertical-align: middle; margin-left: 0.5rem\">CARDINAL</span>\n",
       "</mark>\n",
       "-Dec-19 to DOW for \n",
       "<mark class=\"entity\" style=\"background: #7aecec; padding: 0.45em 0.6em; margin: 0 0.25em; line-height: 1; border-radius: 0.35em;\">\n",
       "    BCBT Application Management Services\n",
       "    <span style=\"font-size: 0.8em; font-weight: bold; line-height: 1; border-radius: 0.35em; vertical-align: middle; margin-left: 0.5rem\">ORG</span>\n",
       "</mark>\n",
       " effective \n",
       "<mark class=\"entity\" style=\"background: #e4e7d2; padding: 0.45em 0.6em; margin: 0 0.25em; line-height: 1; border-radius: 0.35em;\">\n",
       "    01\n",
       "    <span style=\"font-size: 0.8em; font-weight: bold; line-height: 1; border-radius: 0.35em; vertical-align: middle; margin-left: 0.5rem\">CARDINAL</span>\n",
       "</mark>\n",
       "-Dec-16 to AMS Tower Agreement effective \n",
       "<mark class=\"entity\" style=\"background: #bfe1d9; padding: 0.45em 0.6em; margin: 0 0.25em; line-height: 1; border-radius: 0.35em;\">\n",
       "    01-Jun-13\n",
       "    <span style=\"font-size: 0.8em; font-weight: bold; line-height: 1; border-radius: 0.35em; vertical-align: middle; margin-left: 0.5rem\">DATE</span>\n",
       "</mark>\n",
       " between \n",
       "<mark class=\"entity\" style=\"background: #7aecec; padding: 0.45em 0.6em; margin: 0 0.25em; line-height: 1; border-radius: 0.35em;\">\n",
       "    ABC\n",
       "    <span style=\"font-size: 0.8em; font-weight: bold; line-height: 1; border-radius: 0.35em; vertical-align: middle; margin-left: 0.5rem\">ORG</span>\n",
       "</mark>\n",
       " and \n",
       "<mark class=\"entity\" style=\"background: #7aecec; padding: 0.45em 0.6em; margin: 0 0.25em; line-height: 1; border-radius: 0.35em;\">\n",
       "    XYZ Inc.\n",
       "    <span style=\"font-size: 0.8em; font-weight: bold; line-height: 1; border-radius: 0.35em; vertical-align: middle; margin-left: 0.5rem\">ORG</span>\n",
       "</mark>\n",
       "] [Renewal Interval: \n",
       "<mark class=\"entity\" style=\"background: #e4e7d2; padding: 0.45em 0.6em; margin: 0 0.25em; line-height: 1; border-radius: 0.35em;\">\n",
       "    1\n",
       "    <span style=\"font-size: 0.8em; font-weight: bold; line-height: 1; border-radius: 0.35em; vertical-align: middle; margin-left: 0.5rem\">CARDINAL</span>\n",
       "</mark>\n",
       " additional period of \n",
       "<mark class=\"entity\" style=\"background: #bfe1d9; padding: 0.45em 0.6em; margin: 0 0.25em; line-height: 1; border-radius: 0.35em;\">\n",
       "    1 year\n",
       "    <span style=\"font-size: 0.8em; font-weight: bold; line-height: 1; border-radius: 0.35em; vertical-align: middle; margin-left: 0.5rem\">DATE</span>\n",
       "</mark>\n",
       "]</div></span>"
      ],
      "text/plain": [
       "<IPython.core.display.HTML object>"
      ]
     },
     "metadata": {},
     "output_type": "display_data"
    },
    {
     "name": "stdout",
     "output_type": "stream",
     "text": [
      "01-Dec-20 27 36 DATE\n",
      "BCBT Application Management Services 48 84 ORG\n",
      "01 95 97 CARDINAL\n",
      "01-Jun-13 138 147 DATE\n",
      "ABC 156 159 ORG\n",
      "XYZ Inc. 164 172 ORG\n"
     ]
    },
    {
     "data": {
      "text/html": [
       "<span class=\"tex2jax_ignore\"><div class=\"entities\" style=\"line-height: 2.5; direction: ltr\">[Third Amendment effective \n",
       "<mark class=\"entity\" style=\"background: #bfe1d9; padding: 0.45em 0.6em; margin: 0 0.25em; line-height: 1; border-radius: 0.35em;\">\n",
       "    01-Dec-20\n",
       "    <span style=\"font-size: 0.8em; font-weight: bold; line-height: 1; border-radius: 0.35em; vertical-align: middle; margin-left: 0.5rem\">DATE</span>\n",
       "</mark>\n",
       " to DOW for \n",
       "<mark class=\"entity\" style=\"background: #7aecec; padding: 0.45em 0.6em; margin: 0 0.25em; line-height: 1; border-radius: 0.35em;\">\n",
       "    BCBT Application Management Services\n",
       "    <span style=\"font-size: 0.8em; font-weight: bold; line-height: 1; border-radius: 0.35em; vertical-align: middle; margin-left: 0.5rem\">ORG</span>\n",
       "</mark>\n",
       " effective \n",
       "<mark class=\"entity\" style=\"background: #e4e7d2; padding: 0.45em 0.6em; margin: 0 0.25em; line-height: 1; border-radius: 0.35em;\">\n",
       "    01\n",
       "    <span style=\"font-size: 0.8em; font-weight: bold; line-height: 1; border-radius: 0.35em; vertical-align: middle; margin-left: 0.5rem\">CARDINAL</span>\n",
       "</mark>\n",
       "-Dec-16 to AMS Tower Agreement effective \n",
       "<mark class=\"entity\" style=\"background: #bfe1d9; padding: 0.45em 0.6em; margin: 0 0.25em; line-height: 1; border-radius: 0.35em;\">\n",
       "    01-Jun-13\n",
       "    <span style=\"font-size: 0.8em; font-weight: bold; line-height: 1; border-radius: 0.35em; vertical-align: middle; margin-left: 0.5rem\">DATE</span>\n",
       "</mark>\n",
       " between \n",
       "<mark class=\"entity\" style=\"background: #7aecec; padding: 0.45em 0.6em; margin: 0 0.25em; line-height: 1; border-radius: 0.35em;\">\n",
       "    ABC\n",
       "    <span style=\"font-size: 0.8em; font-weight: bold; line-height: 1; border-radius: 0.35em; vertical-align: middle; margin-left: 0.5rem\">ORG</span>\n",
       "</mark>\n",
       " and \n",
       "<mark class=\"entity\" style=\"background: #7aecec; padding: 0.45em 0.6em; margin: 0 0.25em; line-height: 1; border-radius: 0.35em;\">\n",
       "    XYZ Inc.\n",
       "    <span style=\"font-size: 0.8em; font-weight: bold; line-height: 1; border-radius: 0.35em; vertical-align: middle; margin-left: 0.5rem\">ORG</span>\n",
       "</mark>\n",
       "]</div></span>"
      ],
      "text/plain": [
       "<IPython.core.display.HTML object>"
      ]
     },
     "metadata": {},
     "output_type": "display_data"
    },
    {
     "name": "stdout",
     "output_type": "stream",
     "text": [
      "01 45 47 CARDINAL\n",
      "ABC 63 66 ORG\n",
      "XYZ (Canada 71 82 ORG\n",
      "TAT-32998];[External Party Current Name 108 147 ORG\n",
      "30];[Notice 212 223 CARDINAL\n",
      "months 285 291 DATE\n",
      "& Renewal Notes 303 318 ORG\n"
     ]
    },
    {
     "data": {
      "text/html": [
       "<span class=\"tex2jax_ignore\"><div class=\"entities\" style=\"line-height: 2.5; direction: ltr\">[Master Network Services Agreement effective \n",
       "<mark class=\"entity\" style=\"background: #e4e7d2; padding: 0.45em 0.6em; margin: 0 0.25em; line-height: 1; border-radius: 0.35em;\">\n",
       "    01\n",
       "    <span style=\"font-size: 0.8em; font-weight: bold; line-height: 1; border-radius: 0.35em; vertical-align: middle; margin-left: 0.5rem\">CARDINAL</span>\n",
       "</mark>\n",
       "-Oct-11 between \n",
       "<mark class=\"entity\" style=\"background: #7aecec; padding: 0.45em 0.6em; margin: 0 0.25em; line-height: 1; border-radius: 0.35em;\">\n",
       "    ABC\n",
       "    <span style=\"font-size: 0.8em; font-weight: bold; line-height: 1; border-radius: 0.35em; vertical-align: middle; margin-left: 0.5rem\">ORG</span>\n",
       "</mark>\n",
       " and \n",
       "<mark class=\"entity\" style=\"background: #7aecec; padding: 0.45em 0.6em; margin: 0 0.25em; line-height: 1; border-radius: 0.35em;\">\n",
       "    XYZ (Canada\n",
       "    <span style=\"font-size: 0.8em; font-weight: bold; line-height: 1; border-radius: 0.35em; vertical-align: middle; margin-left: 0.5rem\">ORG</span>\n",
       "</mark>\n",
       ") Ltd];[CMG Contract No.: \n",
       "<mark class=\"entity\" style=\"background: #7aecec; padding: 0.45em 0.6em; margin: 0 0.25em; line-height: 1; border-radius: 0.35em;\">\n",
       "    TAT-32998];[External Party Current Name\n",
       "    <span style=\"font-size: 0.8em; font-weight: bold; line-height: 1; border-radius: 0.35em; vertical-align: middle; margin-left: 0.5rem\">ORG</span>\n",
       "</mark>\n",
       ": 00093-XYZ];[Term Type: Auto-renewal];[Notice Period (in days): \n",
       "<mark class=\"entity\" style=\"background: #e4e7d2; padding: 0.45em 0.6em; margin: 0 0.25em; line-height: 1; border-radius: 0.35em;\">\n",
       "    30];[Notice\n",
       "    <span style=\"font-size: 0.8em; font-weight: bold; line-height: 1; border-radius: 0.35em; vertical-align: middle; margin-left: 0.5rem\">CARDINAL</span>\n",
       "</mark>\n",
       " Timeframe: ];Prior to Expiration Date];[Renewal Interval (in \n",
       "<mark class=\"entity\" style=\"background: #bfe1d9; padding: 0.45em 0.6em; margin: 0 0.25em; line-height: 1; border-radius: 0.35em;\">\n",
       "    months\n",
       "    <span style=\"font-size: 0.8em; font-weight: bold; line-height: 1; border-radius: 0.35em; vertical-align: middle; margin-left: 0.5rem\">DATE</span>\n",
       "</mark>\n",
       "): 6];[Term \n",
       "<mark class=\"entity\" style=\"background: #7aecec; padding: 0.45em 0.6em; margin: 0 0.25em; line-height: 1; border-radius: 0.35em;\">\n",
       "    &amp; Renewal Notes\n",
       "    <span style=\"font-size: 0.8em; font-weight: bold; line-height: 1; border-radius: 0.35em; vertical-align: middle; margin-left: 0.5rem\">ORG</span>\n",
       "</mark>\n",
       ": ]</div></span>"
      ],
      "text/plain": [
       "<IPython.core.display.HTML object>"
      ]
     },
     "metadata": {},
     "output_type": "display_data"
    },
    {
     "name": "stdout",
     "output_type": "stream",
     "text": [
      "Data Integrity Services 23 46 ORG\n",
      "03-Oct-16 57 66 DATE\n",
      "01-Jan-12 93 102 DATE\n",
      "01-Jan-12 129 138 DATE\n",
      "ABC 147 150 ORG\n",
      "XYZ 156 159 ORG\n",
      "months 234 240 DATE\n",
      "& Renewal Notes 253 268 ORG\n"
     ]
    },
    {
     "data": {
      "text/html": [
       "<span class=\"tex2jax_ignore\"><div class=\"entities\" style=\"line-height: 2.5; direction: ltr\">[Statement of Work for \n",
       "<mark class=\"entity\" style=\"background: #7aecec; padding: 0.45em 0.6em; margin: 0 0.25em; line-height: 1; border-radius: 0.35em;\">\n",
       "    Data Integrity Services\n",
       "    <span style=\"font-size: 0.8em; font-weight: bold; line-height: 1; border-radius: 0.35em; vertical-align: middle; margin-left: 0.5rem\">ORG</span>\n",
       "</mark>\n",
       " effective \n",
       "<mark class=\"entity\" style=\"background: #bfe1d9; padding: 0.45em 0.6em; margin: 0 0.25em; line-height: 1; border-radius: 0.35em;\">\n",
       "    03-Oct-16\n",
       "    <span style=\"font-size: 0.8em; font-weight: bold; line-height: 1; border-radius: 0.35em; vertical-align: middle; margin-left: 0.5rem\">DATE</span>\n",
       "</mark>\n",
       " to RR Agreement effective \n",
       "<mark class=\"entity\" style=\"background: #bfe1d9; padding: 0.45em 0.6em; margin: 0 0.25em; line-height: 1; border-radius: 0.35em;\">\n",
       "    01-Jan-12\n",
       "    <span style=\"font-size: 0.8em; font-weight: bold; line-height: 1; border-radius: 0.35em; vertical-align: middle; margin-left: 0.5rem\">DATE</span>\n",
       "</mark>\n",
       " to SN Agreement effective \n",
       "<mark class=\"entity\" style=\"background: #bfe1d9; padding: 0.45em 0.6em; margin: 0 0.25em; line-height: 1; border-radius: 0.35em;\">\n",
       "    01-Jan-12\n",
       "    <span style=\"font-size: 0.8em; font-weight: bold; line-height: 1; border-radius: 0.35em; vertical-align: middle; margin-left: 0.5rem\">DATE</span>\n",
       "</mark>\n",
       " between \n",
       "<mark class=\"entity\" style=\"background: #7aecec; padding: 0.45em 0.6em; margin: 0 0.25em; line-height: 1; border-radius: 0.35em;\">\n",
       "    ABC\n",
       "    <span style=\"font-size: 0.8em; font-weight: bold; line-height: 1; border-radius: 0.35em; vertical-align: middle; margin-left: 0.5rem\">ORG</span>\n",
       "</mark>\n",
       " and  \n",
       "<mark class=\"entity\" style=\"background: #7aecec; padding: 0.45em 0.6em; margin: 0 0.25em; line-height: 1; border-radius: 0.35em;\">\n",
       "    XYZ\n",
       "    <span style=\"font-size: 0.8em; font-weight: bold; line-height: 1; border-radius: 0.35em; vertical-align: middle; margin-left: 0.5rem\">ORG</span>\n",
       "</mark>\n",
       ", Inc.];[Notice Timeframe: Prior to Expiration Date];[Renewal Interval (in \n",
       "<mark class=\"entity\" style=\"background: #bfe1d9; padding: 0.45em 0.6em; margin: 0 0.25em; line-height: 1; border-radius: 0.35em;\">\n",
       "    months\n",
       "    <span style=\"font-size: 0.8em; font-weight: bold; line-height: 1; border-radius: 0.35em; vertical-align: middle; margin-left: 0.5rem\">DATE</span>\n",
       "</mark>\n",
       "): 12];[Term \n",
       "<mark class=\"entity\" style=\"background: #7aecec; padding: 0.45em 0.6em; margin: 0 0.25em; line-height: 1; border-radius: 0.35em;\">\n",
       "    &amp; Renewal Notes\n",
       "    <span style=\"font-size: 0.8em; font-weight: bold; line-height: 1; border-radius: 0.35em; vertical-align: middle; margin-left: 0.5rem\">ORG</span>\n",
       "</mark>\n",
       ": ]</div></span>"
      ],
      "text/plain": [
       "<IPython.core.display.HTML object>"
      ]
     },
     "metadata": {},
     "output_type": "display_data"
    }
   ],
   "source": [
    "for i in df['description']:\n",
    "    text = i\n",
    "    nlp = spacy.load(\"en_core_web_sm\")\n",
    "    doc = nlp(text)\n",
    "    for ent in doc.ents:\n",
    "        print(ent.text, ent.start_char, ent.end_char,ent.label_)\n",
    "    displacy.render(doc, style=\"ent\")"
   ]
  },
  {
   "cell_type": "markdown",
   "id": "hydraulic-keeping",
   "metadata": {},
   "source": [
    "# Contract Description: \n",
    "The information we would like to extract: \n",
    "\n",
    "\n",
    "|e_contract_type|e_service_type|effective_date| e_parent_contract_type|parent_effective_date| internal_party| external_party_name| <div style=\"width:100px\"> Renew <div style=\"width:100px\">   |\n",
    "|--------------|-----------------|-------------------|-----------------|-----------------|-----------------|-----------------|-----------------------|\n",
    "|Important Property, we mainly focus on **published contracts** with: **Admendment, SOW, Master Contract, Tower Contract and Confidentiality** type|Based on which **agreement** (EX: Network Service agreement)|Made on \"date\" excuted on \"date\", Start date|We might have **multiple** parent contracts but with **parent-child relationship**|made on \"date\" excuted on \"date\"|Our CIBC Department/ Team| Supplier Name| The renew period (in month, in year, in week)|\n",
    "\n",
    "    \n",
    "**Note**:<br>\n",
    "    1. For Confidentiality: We don't care about the effective date, and no parent contract <br>\n",
    "    2. For Admendment Contract: We need effective date, parent contract name and internnal/ external parties.<br>\n",
    "    3. Bridge letter: is a tempeorary contract, we don't need to extract information from them.\n"
   ]
  },
  {
   "cell_type": "code",
   "execution_count": 2,
   "id": "selective-appliance",
   "metadata": {},
   "outputs": [],
   "source": [
    "\n",
    "import pandas as pd\n",
    "from tqdm.notebook import tqdm\n",
    "import spacy\n",
    "from spacy.tokens import DocBin\n",
    "\n",
    "def search_keyword_loc_old(texts,dict_keywords_label):\n",
    "    '''\n",
    "    This Function is used to:\n",
    "    Locate the keyword we want\n",
    "    dict_indext: The dictionary including the keyword and their corresponding label\n",
    "    return: the list with input text data with location of keywords(start and end position)\n",
    "    '''\n",
    "    list_res=[]\n",
    "    for text in texts:\n",
    "        dict_index={\"entity\":list()}\n",
    "        for i in range(len(dict_keywords_label)):\n",
    "\n",
    "            for key, label in dict_keywords_label[i].items():\n",
    "                if text.find(key)!=-1:\n",
    "                    dict_index[\"entity\"].append((text.find(key),\n",
    "                                                    (len(key)+text.find(key)),   label))\n",
    "\n",
    "        list_res.append((text,dict_index))\n",
    "    return list_res\n",
    "\n",
    "\n",
    "\n",
    "def filter_spans(spans):\n",
    "#  \"\"\"Filter a sequence of spans and remove duplicates or overlaps. Useful for\n",
    "#  creating named entities (where one token can only be part of one entity) or\n",
    "#  when merging spans with `Retokenizer.merge`. When spans overlap, the (first)\n",
    "#  longest span is preferred over shorter spans.\n",
    "\n",
    "#  spans (iterable): The spans to filter.\n",
    "#  RETURNS (list): The filtered spans.\n",
    "#  \"\"\"\n",
    "    get_sort_key = lambda span: (span.end - span.start, -span.start)\n",
    "    sorted_spans = sorted(spans, key=get_sort_key, reverse=True)\n",
    "    result = []\n",
    "    seen_tokens = set()\n",
    "    for span in sorted_spans:\n",
    "     # Check for end - 1 here because boundaries are inclusive\n",
    "     if span.start not in seen_tokens and span.end - 1 not in seen_tokens:\n",
    "            result.append(span)\n",
    "            seen_tokens.update(range(span.start, span.end))\n",
    "    result = sorted(result, key=lambda span: span.start)\n",
    "    return result\n",
    "    get_sort_key = lambda span: (span.end - span.start, -span.start)\n",
    "    sorted_spans = sorted(spans, key=get_sort_key, reverse=True)\n",
    "    result = []\n",
    "    seen_tokens = set()\n",
    "    for span in sorted_spans:\n",
    "     # Check for end - 1 here because boundaries are inclusive\n",
    "     if span.start not in seen_tokens and span.end - 1 not in seen_tokens:\n",
    "            result.append(span)\n",
    "            seen_tokens.update(range(span.start, span.end))\n",
    "    result = sorted(result, key=lambda span: span.start)\n",
    "    return result\n",
    "\n",
    "\n",
    "def convert_to_spacy(data,path=\"/Users/fandi/Desktop/cibc_test/corups/train.spacy\"):\n",
    "    nlp = spacy.blank(\"en\") # load a new spacy model\n",
    "    db = DocBin() # create a DocBin object\n",
    "    for text, annot in tqdm(data): # data in previous format\n",
    "        doc = nlp.make_doc(text) # create doc object from text\n",
    "        ents = []\n",
    "        \n",
    "        for start, end, label in annot[\"entity\"]: # add character indexes\n",
    "            span = doc.char_span(start, end, label=label, alignment_mode=\"contract\")\n",
    "            if span is None:\n",
    "                print(\"Skipping entity\")\n",
    "            else:\n",
    "                ents.append(span)\n",
    "        ents = filter_spans(ents)\n",
    "        doc.set_ents(ents) # label the text with the ents\n",
    "        db.add(doc)\n",
    "\n",
    "    db.to_disk(path) # save the docbin object"
   ]
  },
  {
   "cell_type": "code",
   "execution_count": 44,
   "id": "rolled-services",
   "metadata": {},
   "outputs": [],
   "source": [
    "dict_index_tr=[{'Statement of Work':'Contract_type','effective 01-May-17':\"Start_date\",\"For Compare Test - Org Confirmations\":\"Service type\",\n",
    "            'RR Agreement':'Parent_contract',\"SN Agreement\":\"Parent_contract\",\n",
    "          \"01-Jan-12\":\"Parent_Start_date\",\" 12];[Term & Renewal Notes: ]\":\"Renew\",\n",
    "            \"ABC\":\"Internal Party\",\"XYZ\":\"External Party\"},{'Tenth Amendment':'Contract_type','effective 01-May-18':\"Start_date\",\n",
    "            'Statement of Work':'Parent_contract',\"for Compare Test effective\": \"Service type\",\"RR Agreement\":\"Parent_contract\",\n",
    "          \"31-Mar-16\":\"Parent_Start_date\",\"01-Jan-12\":\"Parent_Start_date\",\"SN Agreement\":\"Parent_contract\",\"01-Jan-12\":\"Parent_Start_date\",\n",
    "            \"ABC\":\"Internal Party\",\"XYZ\":\"External Party\"},{\"Master Network Services Agreement\":\"Contract_type\",\"effective 01-Oct-11\":\"Start_date\",\n",
    "                                                           \"ABC\":\"Internal Party\",\"XYZ (Canada) Ltd\":\"External Party\",\n",
    "                                                            \"(in months): 6];[Term & Renewal Notes: ]\": \"Renew\"}]\n",
    "dict_index_t=[{'First Amendment':'Contract_type','effective 01-01-May-17':\"Start_date\",\"DOW\": \"Parent_contract\",\n",
    "            'For Compare Test - Org':'Service type',\"RR Agreement\":\"Parent_contract\",\n",
    "          \"12-Sep-16\":\"Parent_Start_date\",\"RR Agreement\":\"Parent_contract\",\"01-Jan-12\":\"Parent_Start_date\",\n",
    "            \"SN Agreement\":\"Parent_contract\",\"01-Jan-12\":\"Parent_Start_date\",\n",
    "            \"ABC\":\"Internal Party\",\"XYZ\":\"External Party\"},{\"Master Network Services Agreement\":\"Contract_type\",\"effective 01-Oct-11\":\"Start_date\",\n",
    "                                                           \"ABC\":\"Internal Party\",\"XYZ (Canada) Ltd\":\"External Party\",\n",
    "                                                            \"(in months): 6];[Term & Renewal Notes: ]\": \"Renew\"}]"
   ]
  },
  {
   "cell_type": "code",
   "execution_count": 45,
   "id": "revolutionary-tactics",
   "metadata": {},
   "outputs": [],
   "source": [
    "train=search_keyword_loc_old([df['description'][0],df['description'][3],df['description'][8]],dict_index_tr)\n"
   ]
  },
  {
   "cell_type": "code",
   "execution_count": 46,
   "id": "fresh-bicycle",
   "metadata": {},
   "outputs": [],
   "source": [
    "test=search_keyword_loc_old([df['description'][1],df['description'][8]],dict_index_t)"
   ]
  },
  {
   "cell_type": "code",
   "execution_count": 49,
   "id": "ranking-ancient",
   "metadata": {},
   "outputs": [
    {
     "data": {
      "application/vnd.jupyter.widget-view+json": {
       "model_id": "dad80880c5aa4bb4a099e15e73f9eb52",
       "version_major": 2,
       "version_minor": 0
      },
      "text/plain": [
       "  0%|          | 0/3 [00:00<?, ?it/s]"
      ]
     },
     "metadata": {},
     "output_type": "display_data"
    },
    {
     "data": {
      "application/vnd.jupyter.widget-view+json": {
       "model_id": "c24eecf100d643fea27151fec3dbebae",
       "version_major": 2,
       "version_minor": 0
      },
      "text/plain": [
       "  0%|          | 0/2 [00:00<?, ?it/s]"
      ]
     },
     "metadata": {},
     "output_type": "display_data"
    }
   ],
   "source": [
    "convert_to_spacy(data=train,path=\"/Users/fandi/Desktop/cibc_test/corups/train.spacy\")\n",
    "convert_to_spacy(data=test,path=\"/Users/fandi/Desktop/cibc_test/corups/dev.spacy\")"
   ]
  },
  {
   "cell_type": "code",
   "execution_count": 50,
   "id": "impressed-placement",
   "metadata": {},
   "outputs": [
    {
     "name": "stdout",
     "output_type": "stream",
     "text": [
      "[!] To generate a more effective transformer-based config (GPU-only), install\n",
      "the spacy-transformers package and re-run this command. The config generated now\n",
      "does not use transformers.\n",
      "[i] Generated config template specific for your use case\n",
      "- Language: en\n",
      "- Pipeline: ner\n",
      "- Optimize for: efficiency\n",
      "- Hardware: CPU\n",
      "- Transformer: None\n",
      "[+] Auto-filled config with all values\n",
      "[+] Saved config\n",
      "C:\\Users\\fandi\\Desktop\\cibc_test\\config.cfg\n",
      "You can now add your data and train your pipeline:\n",
      "python -m spacy train config.cfg --paths.train ./train.spacy --paths.dev ./dev.spacy\n"
     ]
    },
    {
     "name": "stderr",
     "output_type": "stream",
     "text": [
      "2021-05-31 11:17:42.027605: W tensorflow/stream_executor/platform/default/dso_loader.cc:60] Could not load dynamic library 'cudart64_110.dll'; dlerror: cudart64_110.dll not found\n",
      "2021-05-31 11:17:42.027674: I tensorflow/stream_executor/cuda/cudart_stub.cc:29] Ignore above cudart dlerror if you do not have a GPU set up on your machine.\n",
      "Error processing line 7 of C:\\Users\\fandi\\Anaconda3\\Anaconda3\\lib\\site-packages\\pywin32.pth:\n",
      "\n",
      "  Traceback (most recent call last):\n",
      "    File \"C:\\Users\\fandi\\Anaconda3\\Anaconda3\\lib\\site.py\", line 168, in addpackage\n",
      "      exec(line)\n",
      "    File \"<string>\", line 1, in <module>\n",
      "  ModuleNotFoundError: No module named 'pywin32_bootstrap'\n",
      "\n",
      "Remainder of file ignored\n"
     ]
    }
   ],
   "source": [
    "!python -m spacy init config --lang en --pipeline ner C:/Users/fandi/Desktop/cibc_test/config.cfg --force"
   ]
  },
  {
   "cell_type": "code",
   "execution_count": 51,
   "id": "initial-pearl",
   "metadata": {},
   "outputs": [
    {
     "name": "stdout",
     "output_type": "stream",
     "text": [
      "[i] Using CPU\n",
      "\u001b[1m\n",
      "=========================== Initializing pipeline ===========================\u001b[0m\n",
      "[+] Initialized pipeline\n",
      "\u001b[1m\n",
      "============================= Training pipeline =============================\u001b[0m\n",
      "[i] Pipeline: ['tok2vec', 'ner']\n",
      "[i] Initial learn rate: 0.001\n",
      "E    #       LOSS TOK2VEC  LOSS NER  ENTS_F  ENTS_P  ENTS_R  SCORE \n",
      "---  ------  ------------  --------  ------  ------  ------  ------\n",
      "  0       0          0.00     28.50    0.00    0.00    0.00    0.00\n",
      "  7      15          4.78    771.27    0.00    0.00    0.00    0.00\n",
      " 15      30        314.59    617.47   26.09   33.33   21.43    0.26\n",
      " 22      45          5.73    255.92   52.17   66.67   42.86    0.52\n",
      " 30      60       1122.75    726.75   37.04   38.46   35.71    0.37\n",
      " 37      75        285.52    413.11   50.00   60.00   42.86    0.50\n",
      " 45      90       1693.20    305.44   75.86   73.33   78.57    0.76\n",
      " 52     105          4.64     91.10   75.86   73.33   78.57    0.76\n",
      " 60     120          2.53     35.57   74.07   76.92   71.43    0.74\n",
      " 67     135          2.63     28.99   74.07   76.92   71.43    0.74\n",
      " 75     150          1.66     17.47   78.57   78.57   78.57    0.79\n",
      "[+] Saved pipeline to output directory\n",
      "C:\\Users\\fandi\\Desktop\\cibc_test\\corups\\model-last\n"
     ]
    },
    {
     "name": "stderr",
     "output_type": "stream",
     "text": [
      "2021-05-31 11:17:56.562173: W tensorflow/stream_executor/platform/default/dso_loader.cc:60] Could not load dynamic library 'cudart64_110.dll'; dlerror: cudart64_110.dll not found\n",
      "2021-05-31 11:17:56.562294: I tensorflow/stream_executor/cuda/cudart_stub.cc:29] Ignore above cudart dlerror if you do not have a GPU set up on your machine.\n",
      "Error processing line 7 of C:\\Users\\fandi\\Anaconda3\\Anaconda3\\lib\\site-packages\\pywin32.pth:\n",
      "\n",
      "  Traceback (most recent call last):\n",
      "    File \"C:\\Users\\fandi\\Anaconda3\\Anaconda3\\lib\\site.py\", line 168, in addpackage\n",
      "      exec(line)\n",
      "    File \"<string>\", line 1, in <module>\n",
      "  ModuleNotFoundError: No module named 'pywin32_bootstrap'\n",
      "\n",
      "Remainder of file ignored\n",
      "[2021-05-31 11:18:03,254] [INFO] Set up nlp object from config\n",
      "[2021-05-31 11:18:03,272] [INFO] Pipeline: ['tok2vec', 'ner']\n",
      "[2021-05-31 11:18:03,278] [INFO] Created vocabulary\n",
      "[2021-05-31 11:18:03,278] [INFO] Finished initializing nlp object\n",
      "[2021-05-31 11:18:03,532] [INFO] Initialized pipeline components: ['tok2vec', 'ner']\n"
     ]
    }
   ],
   "source": [
    "!python -m spacy train C:/Users/fandi/Desktop/cibc_test/config.cfg \\\n",
    "    --output C:/Users/fandi/Desktop/cibc_test/corups/  \\\n",
    "        --paths.train C:/Users/fandi/Desktop/cibc_test/corups/train.spacy \\\n",
    "            --paths.dev C:/Users/fandi/Desktop/cibc_test/corups/dev.spacy \\\n",
    "                --training.eval_frequency 15 --training.max_steps 150\n",
    "#                \n",
    "            "
   ]
  },
  {
   "cell_type": "code",
   "execution_count": 52,
   "id": "unexpected-screening",
   "metadata": {},
   "outputs": [],
   "source": [
    "nlp1 = spacy.load(R\"C:\\Users\\fandi\\Desktop\\cibc_test\\corups\\model-best\") #Load the model"
   ]
  },
  {
   "cell_type": "code",
   "execution_count": 53,
   "id": "actual-shakespeare",
   "metadata": {},
   "outputs": [],
   "source": [
    "def test_model(data,model):\n",
    "    doc_list=[]\n",
    "    dict_res={\"\"}\n",
    "    for i in data:\n",
    "        doc=model(i)\n",
    "        doc_list.append(model(i))\n",
    "        for ent in doc.ents:\n",
    "            print(ent.text, ent.label_)\n",
    "        spacy.displacy.render(doc, style=\"ent\", jupyter=True) # display in Jupyter\n",
    "        print(\"=\"*60)\n",
    "    return doc_list"
   ]
  },
  {
   "cell_type": "code",
   "execution_count": 54,
   "id": "dominant-alarm",
   "metadata": {
    "scrolled": false
   },
   "outputs": [
    {
     "name": "stdout",
     "output_type": "stream",
     "text": [
      "Statement of Work Contract_type\n",
      "For Compare Test - Org Confirmations Service type\n",
      "RR Agreement Parent_contract\n",
      "01-Jan-12 Parent_Start_date\n",
      "SN Agreement Parent_contract\n",
      "ABC Internal Party\n",
      "XYZ External Party\n",
      "(in months): Renew\n",
      "12];[Term & Renewal Notes: ] Renew\n"
     ]
    },
    {
     "data": {
      "text/html": [
       "<span class=\"tex2jax_ignore\"><div class=\"entities\" style=\"line-height: 2.5; direction: ltr\">[\n",
       "<mark class=\"entity\" style=\"background: #ddd; padding: 0.45em 0.6em; margin: 0 0.25em; line-height: 1; border-radius: 0.35em;\">\n",
       "    Statement of Work\n",
       "    <span style=\"font-size: 0.8em; font-weight: bold; line-height: 1; border-radius: 0.35em; vertical-align: middle; margin-left: 0.5rem\">Contract_type</span>\n",
       "</mark>\n",
       " \n",
       "<mark class=\"entity\" style=\"background: #ddd; padding: 0.45em 0.6em; margin: 0 0.25em; line-height: 1; border-radius: 0.35em;\">\n",
       "    For Compare Test - Org Confirmations\n",
       "    <span style=\"font-size: 0.8em; font-weight: bold; line-height: 1; border-radius: 0.35em; vertical-align: middle; margin-left: 0.5rem\">Service type</span>\n",
       "</mark>\n",
       " effective 12-Sep-16 to \n",
       "<mark class=\"entity\" style=\"background: #ddd; padding: 0.45em 0.6em; margin: 0 0.25em; line-height: 1; border-radius: 0.35em;\">\n",
       "    RR Agreement\n",
       "    <span style=\"font-size: 0.8em; font-weight: bold; line-height: 1; border-radius: 0.35em; vertical-align: middle; margin-left: 0.5rem\">Parent_contract</span>\n",
       "</mark>\n",
       " effective \n",
       "<mark class=\"entity\" style=\"background: #ddd; padding: 0.45em 0.6em; margin: 0 0.25em; line-height: 1; border-radius: 0.35em;\">\n",
       "    01-Jan-12\n",
       "    <span style=\"font-size: 0.8em; font-weight: bold; line-height: 1; border-radius: 0.35em; vertical-align: middle; margin-left: 0.5rem\">Parent_Start_date</span>\n",
       "</mark>\n",
       " to \n",
       "<mark class=\"entity\" style=\"background: #ddd; padding: 0.45em 0.6em; margin: 0 0.25em; line-height: 1; border-radius: 0.35em;\">\n",
       "    SN Agreement\n",
       "    <span style=\"font-size: 0.8em; font-weight: bold; line-height: 1; border-radius: 0.35em; vertical-align: middle; margin-left: 0.5rem\">Parent_contract</span>\n",
       "</mark>\n",
       " effective 01-Jan-12 between \n",
       "<mark class=\"entity\" style=\"background: #ddd; padding: 0.45em 0.6em; margin: 0 0.25em; line-height: 1; border-radius: 0.35em;\">\n",
       "    ABC\n",
       "    <span style=\"font-size: 0.8em; font-weight: bold; line-height: 1; border-radius: 0.35em; vertical-align: middle; margin-left: 0.5rem\">Internal Party</span>\n",
       "</mark>\n",
       " and \n",
       "<mark class=\"entity\" style=\"background: #ddd; padding: 0.45em 0.6em; margin: 0 0.25em; line-height: 1; border-radius: 0.35em;\">\n",
       "    XYZ\n",
       "    <span style=\"font-size: 0.8em; font-weight: bold; line-height: 1; border-radius: 0.35em; vertical-align: middle; margin-left: 0.5rem\">External Party</span>\n",
       "</mark>\n",
       ", Inc];[Notice Timeframe: Prior to Expiration Date];[Renewal Interval \n",
       "<mark class=\"entity\" style=\"background: #ddd; padding: 0.45em 0.6em; margin: 0 0.25em; line-height: 1; border-radius: 0.35em;\">\n",
       "    (in months):\n",
       "    <span style=\"font-size: 0.8em; font-weight: bold; line-height: 1; border-radius: 0.35em; vertical-align: middle; margin-left: 0.5rem\">Renew</span>\n",
       "</mark>\n",
       " \n",
       "<mark class=\"entity\" style=\"background: #ddd; padding: 0.45em 0.6em; margin: 0 0.25em; line-height: 1; border-radius: 0.35em;\">\n",
       "    12];[Term &amp; Renewal Notes: ]\n",
       "    <span style=\"font-size: 0.8em; font-weight: bold; line-height: 1; border-radius: 0.35em; vertical-align: middle; margin-left: 0.5rem\">Renew</span>\n",
       "</mark>\n",
       "</div></span>"
      ],
      "text/plain": [
       "<IPython.core.display.HTML object>"
      ]
     },
     "metadata": {},
     "output_type": "display_data"
    },
    {
     "name": "stdout",
     "output_type": "stream",
     "text": [
      "============================================================\n",
      "First Amendment Contract_type\n",
      "effective 01-May-17 Start_date\n",
      "DOW For Parent_contract\n",
      "Compare Test - Org Confirmations Parent_Start_date\n",
      "RR Agreement Parent_contract\n",
      "01-Jan-12 Parent_Start_date\n",
      "SN Agreement Parent_contract\n",
      "ABC Internal Party\n",
      "XYZ External Party\n"
     ]
    },
    {
     "data": {
      "text/html": [
       "<span class=\"tex2jax_ignore\"><div class=\"entities\" style=\"line-height: 2.5; direction: ltr\">[\n",
       "<mark class=\"entity\" style=\"background: #ddd; padding: 0.45em 0.6em; margin: 0 0.25em; line-height: 1; border-radius: 0.35em;\">\n",
       "    First Amendment\n",
       "    <span style=\"font-size: 0.8em; font-weight: bold; line-height: 1; border-radius: 0.35em; vertical-align: middle; margin-left: 0.5rem\">Contract_type</span>\n",
       "</mark>\n",
       " \n",
       "<mark class=\"entity\" style=\"background: #ddd; padding: 0.45em 0.6em; margin: 0 0.25em; line-height: 1; border-radius: 0.35em;\">\n",
       "    effective 01-May-17\n",
       "    <span style=\"font-size: 0.8em; font-weight: bold; line-height: 1; border-radius: 0.35em; vertical-align: middle; margin-left: 0.5rem\">Start_date</span>\n",
       "</mark>\n",
       " to \n",
       "<mark class=\"entity\" style=\"background: #ddd; padding: 0.45em 0.6em; margin: 0 0.25em; line-height: 1; border-radius: 0.35em;\">\n",
       "    DOW For\n",
       "    <span style=\"font-size: 0.8em; font-weight: bold; line-height: 1; border-radius: 0.35em; vertical-align: middle; margin-left: 0.5rem\">Parent_contract</span>\n",
       "</mark>\n",
       " \n",
       "<mark class=\"entity\" style=\"background: #ddd; padding: 0.45em 0.6em; margin: 0 0.25em; line-height: 1; border-radius: 0.35em;\">\n",
       "    Compare Test - Org Confirmations\n",
       "    <span style=\"font-size: 0.8em; font-weight: bold; line-height: 1; border-radius: 0.35em; vertical-align: middle; margin-left: 0.5rem\">Parent_Start_date</span>\n",
       "</mark>\n",
       " effective 12-Sep-16 to \n",
       "<mark class=\"entity\" style=\"background: #ddd; padding: 0.45em 0.6em; margin: 0 0.25em; line-height: 1; border-radius: 0.35em;\">\n",
       "    RR Agreement\n",
       "    <span style=\"font-size: 0.8em; font-weight: bold; line-height: 1; border-radius: 0.35em; vertical-align: middle; margin-left: 0.5rem\">Parent_contract</span>\n",
       "</mark>\n",
       " effective \n",
       "<mark class=\"entity\" style=\"background: #ddd; padding: 0.45em 0.6em; margin: 0 0.25em; line-height: 1; border-radius: 0.35em;\">\n",
       "    01-Jan-12\n",
       "    <span style=\"font-size: 0.8em; font-weight: bold; line-height: 1; border-radius: 0.35em; vertical-align: middle; margin-left: 0.5rem\">Parent_Start_date</span>\n",
       "</mark>\n",
       " to \n",
       "<mark class=\"entity\" style=\"background: #ddd; padding: 0.45em 0.6em; margin: 0 0.25em; line-height: 1; border-radius: 0.35em;\">\n",
       "    SN Agreement\n",
       "    <span style=\"font-size: 0.8em; font-weight: bold; line-height: 1; border-radius: 0.35em; vertical-align: middle; margin-left: 0.5rem\">Parent_contract</span>\n",
       "</mark>\n",
       " effective 01-Jan-12 between \n",
       "<mark class=\"entity\" style=\"background: #ddd; padding: 0.45em 0.6em; margin: 0 0.25em; line-height: 1; border-radius: 0.35em;\">\n",
       "    ABC\n",
       "    <span style=\"font-size: 0.8em; font-weight: bold; line-height: 1; border-radius: 0.35em; vertical-align: middle; margin-left: 0.5rem\">Internal Party</span>\n",
       "</mark>\n",
       " and  \n",
       "<mark class=\"entity\" style=\"background: #ddd; padding: 0.45em 0.6em; margin: 0 0.25em; line-height: 1; border-radius: 0.35em;\">\n",
       "    XYZ\n",
       "    <span style=\"font-size: 0.8em; font-weight: bold; line-height: 1; border-radius: 0.35em; vertical-align: middle; margin-left: 0.5rem\">External Party</span>\n",
       "</mark>\n",
       ", Inc.]</div></span>"
      ],
      "text/plain": [
       "<IPython.core.display.HTML object>"
      ]
     },
     "metadata": {},
     "output_type": "display_data"
    },
    {
     "name": "stdout",
     "output_type": "stream",
     "text": [
      "============================================================\n",
      "Statement of Work Contract_type\n",
      "for Compare Test effective Service type\n",
      "31-Jun-27 Parent_Start_date\n",
      "RR Agreement Parent_contract\n",
      "01-Jan-26 Parent_Start_date\n",
      "SN Agreement Parent_contract\n",
      "ABC Internal Party\n",
      "XYZ External Party\n",
      "XYZ External Party\n",
      "(in months): Renew\n",
      "12];[Term & Renewal Notes: ] Renew\n"
     ]
    },
    {
     "data": {
      "text/html": [
       "<span class=\"tex2jax_ignore\"><div class=\"entities\" style=\"line-height: 2.5; direction: ltr\">[Contract Description: [\n",
       "<mark class=\"entity\" style=\"background: #ddd; padding: 0.45em 0.6em; margin: 0 0.25em; line-height: 1; border-radius: 0.35em;\">\n",
       "    Statement of Work\n",
       "    <span style=\"font-size: 0.8em; font-weight: bold; line-height: 1; border-radius: 0.35em; vertical-align: middle; margin-left: 0.5rem\">Contract_type</span>\n",
       "</mark>\n",
       " \n",
       "<mark class=\"entity\" style=\"background: #ddd; padding: 0.45em 0.6em; margin: 0 0.25em; line-height: 1; border-radius: 0.35em;\">\n",
       "    for Compare Test effective\n",
       "    <span style=\"font-size: 0.8em; font-weight: bold; line-height: 1; border-radius: 0.35em; vertical-align: middle; margin-left: 0.5rem\">Service type</span>\n",
       "</mark>\n",
       " \n",
       "<mark class=\"entity\" style=\"background: #ddd; padding: 0.45em 0.6em; margin: 0 0.25em; line-height: 1; border-radius: 0.35em;\">\n",
       "    31-Jun-27\n",
       "    <span style=\"font-size: 0.8em; font-weight: bold; line-height: 1; border-radius: 0.35em; vertical-align: middle; margin-left: 0.5rem\">Parent_Start_date</span>\n",
       "</mark>\n",
       " to \n",
       "<mark class=\"entity\" style=\"background: #ddd; padding: 0.45em 0.6em; margin: 0 0.25em; line-height: 1; border-radius: 0.35em;\">\n",
       "    RR Agreement\n",
       "    <span style=\"font-size: 0.8em; font-weight: bold; line-height: 1; border-radius: 0.35em; vertical-align: middle; margin-left: 0.5rem\">Parent_contract</span>\n",
       "</mark>\n",
       " effective \n",
       "<mark class=\"entity\" style=\"background: #ddd; padding: 0.45em 0.6em; margin: 0 0.25em; line-height: 1; border-radius: 0.35em;\">\n",
       "    01-Jan-26\n",
       "    <span style=\"font-size: 0.8em; font-weight: bold; line-height: 1; border-radius: 0.35em; vertical-align: middle; margin-left: 0.5rem\">Parent_Start_date</span>\n",
       "</mark>\n",
       " to \n",
       "<mark class=\"entity\" style=\"background: #ddd; padding: 0.45em 0.6em; margin: 0 0.25em; line-height: 1; border-radius: 0.35em;\">\n",
       "    SN Agreement\n",
       "    <span style=\"font-size: 0.8em; font-weight: bold; line-height: 1; border-radius: 0.35em; vertical-align: middle; margin-left: 0.5rem\">Parent_contract</span>\n",
       "</mark>\n",
       " effective 01-Jan-12 between \n",
       "<mark class=\"entity\" style=\"background: #ddd; padding: 0.45em 0.6em; margin: 0 0.25em; line-height: 1; border-radius: 0.35em;\">\n",
       "    ABC\n",
       "    <span style=\"font-size: 0.8em; font-weight: bold; line-height: 1; border-radius: 0.35em; vertical-align: middle; margin-left: 0.5rem\">Internal Party</span>\n",
       "</mark>\n",
       " and  \n",
       "<mark class=\"entity\" style=\"background: #ddd; padding: 0.45em 0.6em; margin: 0 0.25em; line-height: 1; border-radius: 0.35em;\">\n",
       "    XYZ\n",
       "    <span style=\"font-size: 0.8em; font-weight: bold; line-height: 1; border-radius: 0.35em; vertical-align: middle; margin-left: 0.5rem\">External Party</span>\n",
       "</mark>\n",
       ", Inc.]];[Contract No.: ];[CMG Contract No.: ];[External Party Current Name: 0069082-\n",
       "<mark class=\"entity\" style=\"background: #ddd; padding: 0.45em 0.6em; margin: 0 0.25em; line-height: 1; border-radius: 0.35em;\">\n",
       "    XYZ\n",
       "    <span style=\"font-size: 0.8em; font-weight: bold; line-height: 1; border-radius: 0.35em; vertical-align: middle; margin-left: 0.5rem\">External Party</span>\n",
       "</mark>\n",
       " INC];[Term Type: Fixed];[Notice Period (in days): 90];[Notice Timeframe: Prior to Expiration Date];[Renewal Interval \n",
       "<mark class=\"entity\" style=\"background: #ddd; padding: 0.45em 0.6em; margin: 0 0.25em; line-height: 1; border-radius: 0.35em;\">\n",
       "    (in months):\n",
       "    <span style=\"font-size: 0.8em; font-weight: bold; line-height: 1; border-radius: 0.35em; vertical-align: middle; margin-left: 0.5rem\">Renew</span>\n",
       "</mark>\n",
       " \n",
       "<mark class=\"entity\" style=\"background: #ddd; padding: 0.45em 0.6em; margin: 0 0.25em; line-height: 1; border-radius: 0.35em;\">\n",
       "    12];[Term &amp; Renewal Notes: ]\n",
       "    <span style=\"font-size: 0.8em; font-weight: bold; line-height: 1; border-radius: 0.35em; vertical-align: middle; margin-left: 0.5rem\">Renew</span>\n",
       "</mark>\n",
       "</div></span>"
      ],
      "text/plain": [
       "<IPython.core.display.HTML object>"
      ]
     },
     "metadata": {},
     "output_type": "display_data"
    },
    {
     "name": "stdout",
     "output_type": "stream",
     "text": [
      "============================================================\n",
      "Tenth Amendment Contract_type\n",
      "effective 01-May-18 Start_date\n",
      "Statement of Work Contract_type\n",
      "for Compare Test effective Service type\n",
      "31-Mar-16 Parent_Start_date\n",
      "RR Agreement Parent_contract\n",
      "01-Jan-12 Parent_Start_date\n",
      "SN Agreement Parent_contract\n",
      "ABC Internal Party\n",
      "XYZ External Party\n"
     ]
    },
    {
     "data": {
      "text/html": [
       "<span class=\"tex2jax_ignore\"><div class=\"entities\" style=\"line-height: 2.5; direction: ltr\">[\n",
       "<mark class=\"entity\" style=\"background: #ddd; padding: 0.45em 0.6em; margin: 0 0.25em; line-height: 1; border-radius: 0.35em;\">\n",
       "    Tenth Amendment\n",
       "    <span style=\"font-size: 0.8em; font-weight: bold; line-height: 1; border-radius: 0.35em; vertical-align: middle; margin-left: 0.5rem\">Contract_type</span>\n",
       "</mark>\n",
       " \n",
       "<mark class=\"entity\" style=\"background: #ddd; padding: 0.45em 0.6em; margin: 0 0.25em; line-height: 1; border-radius: 0.35em;\">\n",
       "    effective 01-May-18\n",
       "    <span style=\"font-size: 0.8em; font-weight: bold; line-height: 1; border-radius: 0.35em; vertical-align: middle; margin-left: 0.5rem\">Start_date</span>\n",
       "</mark>\n",
       " to \n",
       "<mark class=\"entity\" style=\"background: #ddd; padding: 0.45em 0.6em; margin: 0 0.25em; line-height: 1; border-radius: 0.35em;\">\n",
       "    Statement of Work\n",
       "    <span style=\"font-size: 0.8em; font-weight: bold; line-height: 1; border-radius: 0.35em; vertical-align: middle; margin-left: 0.5rem\">Contract_type</span>\n",
       "</mark>\n",
       " \n",
       "<mark class=\"entity\" style=\"background: #ddd; padding: 0.45em 0.6em; margin: 0 0.25em; line-height: 1; border-radius: 0.35em;\">\n",
       "    for Compare Test effective\n",
       "    <span style=\"font-size: 0.8em; font-weight: bold; line-height: 1; border-radius: 0.35em; vertical-align: middle; margin-left: 0.5rem\">Service type</span>\n",
       "</mark>\n",
       " \n",
       "<mark class=\"entity\" style=\"background: #ddd; padding: 0.45em 0.6em; margin: 0 0.25em; line-height: 1; border-radius: 0.35em;\">\n",
       "    31-Mar-16\n",
       "    <span style=\"font-size: 0.8em; font-weight: bold; line-height: 1; border-radius: 0.35em; vertical-align: middle; margin-left: 0.5rem\">Parent_Start_date</span>\n",
       "</mark>\n",
       " to \n",
       "<mark class=\"entity\" style=\"background: #ddd; padding: 0.45em 0.6em; margin: 0 0.25em; line-height: 1; border-radius: 0.35em;\">\n",
       "    RR Agreement\n",
       "    <span style=\"font-size: 0.8em; font-weight: bold; line-height: 1; border-radius: 0.35em; vertical-align: middle; margin-left: 0.5rem\">Parent_contract</span>\n",
       "</mark>\n",
       " effective \n",
       "<mark class=\"entity\" style=\"background: #ddd; padding: 0.45em 0.6em; margin: 0 0.25em; line-height: 1; border-radius: 0.35em;\">\n",
       "    01-Jan-12\n",
       "    <span style=\"font-size: 0.8em; font-weight: bold; line-height: 1; border-radius: 0.35em; vertical-align: middle; margin-left: 0.5rem\">Parent_Start_date</span>\n",
       "</mark>\n",
       " to \n",
       "<mark class=\"entity\" style=\"background: #ddd; padding: 0.45em 0.6em; margin: 0 0.25em; line-height: 1; border-radius: 0.35em;\">\n",
       "    SN Agreement\n",
       "    <span style=\"font-size: 0.8em; font-weight: bold; line-height: 1; border-radius: 0.35em; vertical-align: middle; margin-left: 0.5rem\">Parent_contract</span>\n",
       "</mark>\n",
       " effective 01-Jan-12 between \n",
       "<mark class=\"entity\" style=\"background: #ddd; padding: 0.45em 0.6em; margin: 0 0.25em; line-height: 1; border-radius: 0.35em;\">\n",
       "    ABC\n",
       "    <span style=\"font-size: 0.8em; font-weight: bold; line-height: 1; border-radius: 0.35em; vertical-align: middle; margin-left: 0.5rem\">Internal Party</span>\n",
       "</mark>\n",
       " and  \n",
       "<mark class=\"entity\" style=\"background: #ddd; padding: 0.45em 0.6em; margin: 0 0.25em; line-height: 1; border-radius: 0.35em;\">\n",
       "    XYZ\n",
       "    <span style=\"font-size: 0.8em; font-weight: bold; line-height: 1; border-radius: 0.35em; vertical-align: middle; margin-left: 0.5rem\">External Party</span>\n",
       "</mark>\n",
       ", Inc.]</div></span>"
      ],
      "text/plain": [
       "<IPython.core.display.HTML object>"
      ]
     },
     "metadata": {},
     "output_type": "display_data"
    },
    {
     "name": "stdout",
     "output_type": "stream",
     "text": [
      "============================================================\n",
      "Tenth Amendment Contract_type\n",
      "effective 07-Jul-16 Start_date\n",
      "Statement of Work Contract_type\n",
      "for Compare Test effective Service type\n",
      "31-Mar-16 Parent_Start_date\n",
      "RR Agreement Parent_contract\n",
      "01-Jan-12 Parent_Start_date\n",
      "SN Agreement Parent_contract\n",
      "ABC Internal Party\n",
      "XYZ External Party\n"
     ]
    },
    {
     "data": {
      "text/html": [
       "<span class=\"tex2jax_ignore\"><div class=\"entities\" style=\"line-height: 2.5; direction: ltr\">[\n",
       "<mark class=\"entity\" style=\"background: #ddd; padding: 0.45em 0.6em; margin: 0 0.25em; line-height: 1; border-radius: 0.35em;\">\n",
       "    Tenth Amendment\n",
       "    <span style=\"font-size: 0.8em; font-weight: bold; line-height: 1; border-radius: 0.35em; vertical-align: middle; margin-left: 0.5rem\">Contract_type</span>\n",
       "</mark>\n",
       " \n",
       "<mark class=\"entity\" style=\"background: #ddd; padding: 0.45em 0.6em; margin: 0 0.25em; line-height: 1; border-radius: 0.35em;\">\n",
       "    effective 07-Jul-16\n",
       "    <span style=\"font-size: 0.8em; font-weight: bold; line-height: 1; border-radius: 0.35em; vertical-align: middle; margin-left: 0.5rem\">Start_date</span>\n",
       "</mark>\n",
       " to \n",
       "<mark class=\"entity\" style=\"background: #ddd; padding: 0.45em 0.6em; margin: 0 0.25em; line-height: 1; border-radius: 0.35em;\">\n",
       "    Statement of Work\n",
       "    <span style=\"font-size: 0.8em; font-weight: bold; line-height: 1; border-radius: 0.35em; vertical-align: middle; margin-left: 0.5rem\">Contract_type</span>\n",
       "</mark>\n",
       " \n",
       "<mark class=\"entity\" style=\"background: #ddd; padding: 0.45em 0.6em; margin: 0 0.25em; line-height: 1; border-radius: 0.35em;\">\n",
       "    for Compare Test effective\n",
       "    <span style=\"font-size: 0.8em; font-weight: bold; line-height: 1; border-radius: 0.35em; vertical-align: middle; margin-left: 0.5rem\">Service type</span>\n",
       "</mark>\n",
       " \n",
       "<mark class=\"entity\" style=\"background: #ddd; padding: 0.45em 0.6em; margin: 0 0.25em; line-height: 1; border-radius: 0.35em;\">\n",
       "    31-Mar-16\n",
       "    <span style=\"font-size: 0.8em; font-weight: bold; line-height: 1; border-radius: 0.35em; vertical-align: middle; margin-left: 0.5rem\">Parent_Start_date</span>\n",
       "</mark>\n",
       " to \n",
       "<mark class=\"entity\" style=\"background: #ddd; padding: 0.45em 0.6em; margin: 0 0.25em; line-height: 1; border-radius: 0.35em;\">\n",
       "    RR Agreement\n",
       "    <span style=\"font-size: 0.8em; font-weight: bold; line-height: 1; border-radius: 0.35em; vertical-align: middle; margin-left: 0.5rem\">Parent_contract</span>\n",
       "</mark>\n",
       " effective \n",
       "<mark class=\"entity\" style=\"background: #ddd; padding: 0.45em 0.6em; margin: 0 0.25em; line-height: 1; border-radius: 0.35em;\">\n",
       "    01-Jan-12\n",
       "    <span style=\"font-size: 0.8em; font-weight: bold; line-height: 1; border-radius: 0.35em; vertical-align: middle; margin-left: 0.5rem\">Parent_Start_date</span>\n",
       "</mark>\n",
       " to \n",
       "<mark class=\"entity\" style=\"background: #ddd; padding: 0.45em 0.6em; margin: 0 0.25em; line-height: 1; border-radius: 0.35em;\">\n",
       "    SN Agreement\n",
       "    <span style=\"font-size: 0.8em; font-weight: bold; line-height: 1; border-radius: 0.35em; vertical-align: middle; margin-left: 0.5rem\">Parent_contract</span>\n",
       "</mark>\n",
       " effective 01-Jan-12 between \n",
       "<mark class=\"entity\" style=\"background: #ddd; padding: 0.45em 0.6em; margin: 0 0.25em; line-height: 1; border-radius: 0.35em;\">\n",
       "    ABC\n",
       "    <span style=\"font-size: 0.8em; font-weight: bold; line-height: 1; border-radius: 0.35em; vertical-align: middle; margin-left: 0.5rem\">Internal Party</span>\n",
       "</mark>\n",
       " and \n",
       "<mark class=\"entity\" style=\"background: #ddd; padding: 0.45em 0.6em; margin: 0 0.25em; line-height: 1; border-radius: 0.35em;\">\n",
       "    XYZ\n",
       "    <span style=\"font-size: 0.8em; font-weight: bold; line-height: 1; border-radius: 0.35em; vertical-align: middle; margin-left: 0.5rem\">External Party</span>\n",
       "</mark>\n",
       ", Inc.]</div></span>"
      ],
      "text/plain": [
       "<IPython.core.display.HTML object>"
      ]
     },
     "metadata": {},
     "output_type": "display_data"
    },
    {
     "name": "stdout",
     "output_type": "stream",
     "text": [
      "============================================================\n",
      "DOW for BT Application Management Services Contract_type\n",
      "effective 01-Dec-16 Start_date\n",
      "effective 01-Jun-13 Start_date\n",
      "ABC Internal Party\n",
      "XYZ External Party\n",
      "XYZ External Party\n",
      "(in months): Renew\n",
      "12];[Term & Renewal Notes: ] Renew\n"
     ]
    },
    {
     "data": {
      "text/html": [
       "<span class=\"tex2jax_ignore\"><div class=\"entities\" style=\"line-height: 2.5; direction: ltr\">[Contract Description: [\n",
       "<mark class=\"entity\" style=\"background: #ddd; padding: 0.45em 0.6em; margin: 0 0.25em; line-height: 1; border-radius: 0.35em;\">\n",
       "    DOW for BT Application Management Services\n",
       "    <span style=\"font-size: 0.8em; font-weight: bold; line-height: 1; border-radius: 0.35em; vertical-align: middle; margin-left: 0.5rem\">Contract_type</span>\n",
       "</mark>\n",
       " \n",
       "<mark class=\"entity\" style=\"background: #ddd; padding: 0.45em 0.6em; margin: 0 0.25em; line-height: 1; border-radius: 0.35em;\">\n",
       "    effective 01-Dec-16\n",
       "    <span style=\"font-size: 0.8em; font-weight: bold; line-height: 1; border-radius: 0.35em; vertical-align: middle; margin-left: 0.5rem\">Start_date</span>\n",
       "</mark>\n",
       " to AMS Tower Agreement \n",
       "<mark class=\"entity\" style=\"background: #ddd; padding: 0.45em 0.6em; margin: 0 0.25em; line-height: 1; border-radius: 0.35em;\">\n",
       "    effective 01-Jun-13\n",
       "    <span style=\"font-size: 0.8em; font-weight: bold; line-height: 1; border-radius: 0.35em; vertical-align: middle; margin-left: 0.5rem\">Start_date</span>\n",
       "</mark>\n",
       " between \n",
       "<mark class=\"entity\" style=\"background: #ddd; padding: 0.45em 0.6em; margin: 0 0.25em; line-height: 1; border-radius: 0.35em;\">\n",
       "    ABC\n",
       "    <span style=\"font-size: 0.8em; font-weight: bold; line-height: 1; border-radius: 0.35em; vertical-align: middle; margin-left: 0.5rem\">Internal Party</span>\n",
       "</mark>\n",
       " and \n",
       "<mark class=\"entity\" style=\"background: #ddd; padding: 0.45em 0.6em; margin: 0 0.25em; line-height: 1; border-radius: 0.35em;\">\n",
       "    XYZ\n",
       "    <span style=\"font-size: 0.8em; font-weight: bold; line-height: 1; border-radius: 0.35em; vertical-align: middle; margin-left: 0.5rem\">External Party</span>\n",
       "</mark>\n",
       " Inc.]];[Contract No.: ];[CMG Contract No.: ];[External Party Current Name: 0062-\n",
       "<mark class=\"entity\" style=\"background: #ddd; padding: 0.45em 0.6em; margin: 0 0.25em; line-height: 1; border-radius: 0.35em;\">\n",
       "    XYZ\n",
       "    <span style=\"font-size: 0.8em; font-weight: bold; line-height: 1; border-radius: 0.35em; vertical-align: middle; margin-left: 0.5rem\">External Party</span>\n",
       "</mark>\n",
       " INC];[Term Type: Fixed];[Notice Period (in days): 90];[Notice Timeframe: Prior to Expiration Date];[Renewal Interval \n",
       "<mark class=\"entity\" style=\"background: #ddd; padding: 0.45em 0.6em; margin: 0 0.25em; line-height: 1; border-radius: 0.35em;\">\n",
       "    (in months):\n",
       "    <span style=\"font-size: 0.8em; font-weight: bold; line-height: 1; border-radius: 0.35em; vertical-align: middle; margin-left: 0.5rem\">Renew</span>\n",
       "</mark>\n",
       " \n",
       "<mark class=\"entity\" style=\"background: #ddd; padding: 0.45em 0.6em; margin: 0 0.25em; line-height: 1; border-radius: 0.35em;\">\n",
       "    12];[Term &amp; Renewal Notes: ]\n",
       "    <span style=\"font-size: 0.8em; font-weight: bold; line-height: 1; border-radius: 0.35em; vertical-align: middle; margin-left: 0.5rem\">Renew</span>\n",
       "</mark>\n",
       "</div></span>"
      ],
      "text/plain": [
       "<IPython.core.display.HTML object>"
      ]
     },
     "metadata": {},
     "output_type": "display_data"
    },
    {
     "name": "stdout",
     "output_type": "stream",
     "text": [
      "============================================================\n",
      "Parent = 100279] Contract_type\n",
      "Second Amendment Contract_type\n",
      "effective 01-Dec-19 Start_date\n",
      "DOW Internal Party\n",
      "for BCBT Application Management Services effective Service type\n",
      "01-Dec-16 Parent_Start_date\n",
      "effective 01-Jun-13 Start_date\n",
      "ABC Internal Party\n",
      "XYZ External Party\n",
      "1 additional External Party\n",
      "1 year] Renew\n"
     ]
    },
    {
     "data": {
      "text/html": [
       "<span class=\"tex2jax_ignore\"><div class=\"entities\" style=\"line-height: 2.5; direction: ltr\">[\n",
       "<mark class=\"entity\" style=\"background: #ddd; padding: 0.45em 0.6em; margin: 0 0.25em; line-height: 1; border-radius: 0.35em;\">\n",
       "    Parent = 100279]\n",
       "    <span style=\"font-size: 0.8em; font-weight: bold; line-height: 1; border-radius: 0.35em; vertical-align: middle; margin-left: 0.5rem\">Contract_type</span>\n",
       "</mark>\n",
       " [\n",
       "<mark class=\"entity\" style=\"background: #ddd; padding: 0.45em 0.6em; margin: 0 0.25em; line-height: 1; border-radius: 0.35em;\">\n",
       "    Second Amendment\n",
       "    <span style=\"font-size: 0.8em; font-weight: bold; line-height: 1; border-radius: 0.35em; vertical-align: middle; margin-left: 0.5rem\">Contract_type</span>\n",
       "</mark>\n",
       " \n",
       "<mark class=\"entity\" style=\"background: #ddd; padding: 0.45em 0.6em; margin: 0 0.25em; line-height: 1; border-radius: 0.35em;\">\n",
       "    effective 01-Dec-19\n",
       "    <span style=\"font-size: 0.8em; font-weight: bold; line-height: 1; border-radius: 0.35em; vertical-align: middle; margin-left: 0.5rem\">Start_date</span>\n",
       "</mark>\n",
       " to \n",
       "<mark class=\"entity\" style=\"background: #ddd; padding: 0.45em 0.6em; margin: 0 0.25em; line-height: 1; border-radius: 0.35em;\">\n",
       "    DOW\n",
       "    <span style=\"font-size: 0.8em; font-weight: bold; line-height: 1; border-radius: 0.35em; vertical-align: middle; margin-left: 0.5rem\">Internal Party</span>\n",
       "</mark>\n",
       " \n",
       "<mark class=\"entity\" style=\"background: #ddd; padding: 0.45em 0.6em; margin: 0 0.25em; line-height: 1; border-radius: 0.35em;\">\n",
       "    for BCBT Application Management Services effective\n",
       "    <span style=\"font-size: 0.8em; font-weight: bold; line-height: 1; border-radius: 0.35em; vertical-align: middle; margin-left: 0.5rem\">Service type</span>\n",
       "</mark>\n",
       " \n",
       "<mark class=\"entity\" style=\"background: #ddd; padding: 0.45em 0.6em; margin: 0 0.25em; line-height: 1; border-radius: 0.35em;\">\n",
       "    01-Dec-16\n",
       "    <span style=\"font-size: 0.8em; font-weight: bold; line-height: 1; border-radius: 0.35em; vertical-align: middle; margin-left: 0.5rem\">Parent_Start_date</span>\n",
       "</mark>\n",
       " to AMS Tower Agreement \n",
       "<mark class=\"entity\" style=\"background: #ddd; padding: 0.45em 0.6em; margin: 0 0.25em; line-height: 1; border-radius: 0.35em;\">\n",
       "    effective 01-Jun-13\n",
       "    <span style=\"font-size: 0.8em; font-weight: bold; line-height: 1; border-radius: 0.35em; vertical-align: middle; margin-left: 0.5rem\">Start_date</span>\n",
       "</mark>\n",
       " between \n",
       "<mark class=\"entity\" style=\"background: #ddd; padding: 0.45em 0.6em; margin: 0 0.25em; line-height: 1; border-radius: 0.35em;\">\n",
       "    ABC\n",
       "    <span style=\"font-size: 0.8em; font-weight: bold; line-height: 1; border-radius: 0.35em; vertical-align: middle; margin-left: 0.5rem\">Internal Party</span>\n",
       "</mark>\n",
       " and \n",
       "<mark class=\"entity\" style=\"background: #ddd; padding: 0.45em 0.6em; margin: 0 0.25em; line-height: 1; border-radius: 0.35em;\">\n",
       "    XYZ\n",
       "    <span style=\"font-size: 0.8em; font-weight: bold; line-height: 1; border-radius: 0.35em; vertical-align: middle; margin-left: 0.5rem\">External Party</span>\n",
       "</mark>\n",
       " Inc.] [Renewal Interval: \n",
       "<mark class=\"entity\" style=\"background: #ddd; padding: 0.45em 0.6em; margin: 0 0.25em; line-height: 1; border-radius: 0.35em;\">\n",
       "    1 additional\n",
       "    <span style=\"font-size: 0.8em; font-weight: bold; line-height: 1; border-radius: 0.35em; vertical-align: middle; margin-left: 0.5rem\">External Party</span>\n",
       "</mark>\n",
       " period of \n",
       "<mark class=\"entity\" style=\"background: #ddd; padding: 0.45em 0.6em; margin: 0 0.25em; line-height: 1; border-radius: 0.35em;\">\n",
       "    1 year]\n",
       "    <span style=\"font-size: 0.8em; font-weight: bold; line-height: 1; border-radius: 0.35em; vertical-align: middle; margin-left: 0.5rem\">Renew</span>\n",
       "</mark>\n",
       "</div></span>"
      ],
      "text/plain": [
       "<IPython.core.display.HTML object>"
      ]
     },
     "metadata": {},
     "output_type": "display_data"
    },
    {
     "name": "stdout",
     "output_type": "stream",
     "text": [
      "============================================================\n",
      "Third Amendment Contract_type\n",
      "effective 01-Dec-20 Start_date\n",
      "DOW Internal Party\n",
      "for BCBT Application Management Services effective Service type\n",
      "01-Dec-16 Parent_Start_date\n",
      "effective 01-Jun-13 Start_date\n",
      "ABC Internal Party\n",
      "XYZ Inc.] External Party\n"
     ]
    },
    {
     "data": {
      "text/html": [
       "<span class=\"tex2jax_ignore\"><div class=\"entities\" style=\"line-height: 2.5; direction: ltr\">[\n",
       "<mark class=\"entity\" style=\"background: #ddd; padding: 0.45em 0.6em; margin: 0 0.25em; line-height: 1; border-radius: 0.35em;\">\n",
       "    Third Amendment\n",
       "    <span style=\"font-size: 0.8em; font-weight: bold; line-height: 1; border-radius: 0.35em; vertical-align: middle; margin-left: 0.5rem\">Contract_type</span>\n",
       "</mark>\n",
       " \n",
       "<mark class=\"entity\" style=\"background: #ddd; padding: 0.45em 0.6em; margin: 0 0.25em; line-height: 1; border-radius: 0.35em;\">\n",
       "    effective 01-Dec-20\n",
       "    <span style=\"font-size: 0.8em; font-weight: bold; line-height: 1; border-radius: 0.35em; vertical-align: middle; margin-left: 0.5rem\">Start_date</span>\n",
       "</mark>\n",
       " to \n",
       "<mark class=\"entity\" style=\"background: #ddd; padding: 0.45em 0.6em; margin: 0 0.25em; line-height: 1; border-radius: 0.35em;\">\n",
       "    DOW\n",
       "    <span style=\"font-size: 0.8em; font-weight: bold; line-height: 1; border-radius: 0.35em; vertical-align: middle; margin-left: 0.5rem\">Internal Party</span>\n",
       "</mark>\n",
       " \n",
       "<mark class=\"entity\" style=\"background: #ddd; padding: 0.45em 0.6em; margin: 0 0.25em; line-height: 1; border-radius: 0.35em;\">\n",
       "    for BCBT Application Management Services effective\n",
       "    <span style=\"font-size: 0.8em; font-weight: bold; line-height: 1; border-radius: 0.35em; vertical-align: middle; margin-left: 0.5rem\">Service type</span>\n",
       "</mark>\n",
       " \n",
       "<mark class=\"entity\" style=\"background: #ddd; padding: 0.45em 0.6em; margin: 0 0.25em; line-height: 1; border-radius: 0.35em;\">\n",
       "    01-Dec-16\n",
       "    <span style=\"font-size: 0.8em; font-weight: bold; line-height: 1; border-radius: 0.35em; vertical-align: middle; margin-left: 0.5rem\">Parent_Start_date</span>\n",
       "</mark>\n",
       " to AMS Tower Agreement \n",
       "<mark class=\"entity\" style=\"background: #ddd; padding: 0.45em 0.6em; margin: 0 0.25em; line-height: 1; border-radius: 0.35em;\">\n",
       "    effective 01-Jun-13\n",
       "    <span style=\"font-size: 0.8em; font-weight: bold; line-height: 1; border-radius: 0.35em; vertical-align: middle; margin-left: 0.5rem\">Start_date</span>\n",
       "</mark>\n",
       " between \n",
       "<mark class=\"entity\" style=\"background: #ddd; padding: 0.45em 0.6em; margin: 0 0.25em; line-height: 1; border-radius: 0.35em;\">\n",
       "    ABC\n",
       "    <span style=\"font-size: 0.8em; font-weight: bold; line-height: 1; border-radius: 0.35em; vertical-align: middle; margin-left: 0.5rem\">Internal Party</span>\n",
       "</mark>\n",
       " and \n",
       "<mark class=\"entity\" style=\"background: #ddd; padding: 0.45em 0.6em; margin: 0 0.25em; line-height: 1; border-radius: 0.35em;\">\n",
       "    XYZ Inc.]\n",
       "    <span style=\"font-size: 0.8em; font-weight: bold; line-height: 1; border-radius: 0.35em; vertical-align: middle; margin-left: 0.5rem\">External Party</span>\n",
       "</mark>\n",
       "</div></span>"
      ],
      "text/plain": [
       "<IPython.core.display.HTML object>"
      ]
     },
     "metadata": {},
     "output_type": "display_data"
    },
    {
     "name": "stdout",
     "output_type": "stream",
     "text": [
      "============================================================\n",
      "Master Network Services Agreement Contract_type\n",
      "effective 01-Oct-11 Start_date\n",
      "ABC Internal Party\n",
      "XYZ (Canada) External Party\n",
      "(in months): 6];[Term & Renewal Notes: ] Renew\n"
     ]
    },
    {
     "data": {
      "text/html": [
       "<span class=\"tex2jax_ignore\"><div class=\"entities\" style=\"line-height: 2.5; direction: ltr\">[\n",
       "<mark class=\"entity\" style=\"background: #ddd; padding: 0.45em 0.6em; margin: 0 0.25em; line-height: 1; border-radius: 0.35em;\">\n",
       "    Master Network Services Agreement\n",
       "    <span style=\"font-size: 0.8em; font-weight: bold; line-height: 1; border-radius: 0.35em; vertical-align: middle; margin-left: 0.5rem\">Contract_type</span>\n",
       "</mark>\n",
       " \n",
       "<mark class=\"entity\" style=\"background: #ddd; padding: 0.45em 0.6em; margin: 0 0.25em; line-height: 1; border-radius: 0.35em;\">\n",
       "    effective 01-Oct-11\n",
       "    <span style=\"font-size: 0.8em; font-weight: bold; line-height: 1; border-radius: 0.35em; vertical-align: middle; margin-left: 0.5rem\">Start_date</span>\n",
       "</mark>\n",
       " between \n",
       "<mark class=\"entity\" style=\"background: #ddd; padding: 0.45em 0.6em; margin: 0 0.25em; line-height: 1; border-radius: 0.35em;\">\n",
       "    ABC\n",
       "    <span style=\"font-size: 0.8em; font-weight: bold; line-height: 1; border-radius: 0.35em; vertical-align: middle; margin-left: 0.5rem\">Internal Party</span>\n",
       "</mark>\n",
       " and \n",
       "<mark class=\"entity\" style=\"background: #ddd; padding: 0.45em 0.6em; margin: 0 0.25em; line-height: 1; border-radius: 0.35em;\">\n",
       "    XYZ (Canada)\n",
       "    <span style=\"font-size: 0.8em; font-weight: bold; line-height: 1; border-radius: 0.35em; vertical-align: middle; margin-left: 0.5rem\">External Party</span>\n",
       "</mark>\n",
       " Ltd];[CMG Contract No.: TAT-32998];[External Party Current Name: 00093-XYZ];[Term Type: Auto-renewal];[Notice Period (in days): 30];[Notice Timeframe: ];Prior to Expiration Date];[Renewal Interval \n",
       "<mark class=\"entity\" style=\"background: #ddd; padding: 0.45em 0.6em; margin: 0 0.25em; line-height: 1; border-radius: 0.35em;\">\n",
       "    (in months): 6];[Term &amp; Renewal Notes: ]\n",
       "    <span style=\"font-size: 0.8em; font-weight: bold; line-height: 1; border-radius: 0.35em; vertical-align: middle; margin-left: 0.5rem\">Renew</span>\n",
       "</mark>\n",
       "</div></span>"
      ],
      "text/plain": [
       "<IPython.core.display.HTML object>"
      ]
     },
     "metadata": {},
     "output_type": "display_data"
    },
    {
     "name": "stdout",
     "output_type": "stream",
     "text": [
      "============================================================\n",
      "Statement of Work Contract_type\n",
      "for Data Integrity Services effective Service type\n",
      "03-Oct-16 Parent_Start_date\n",
      "RR Agreement Parent_contract\n",
      "01-Jan-12 Parent_Start_date\n",
      "SN Agreement Parent_contract\n",
      "ABC Internal Party\n",
      "XYZ External Party\n",
      "(in months): Renew\n",
      "12];[Term & Renewal Notes: ] Renew\n"
     ]
    },
    {
     "data": {
      "text/html": [
       "<span class=\"tex2jax_ignore\"><div class=\"entities\" style=\"line-height: 2.5; direction: ltr\">[\n",
       "<mark class=\"entity\" style=\"background: #ddd; padding: 0.45em 0.6em; margin: 0 0.25em; line-height: 1; border-radius: 0.35em;\">\n",
       "    Statement of Work\n",
       "    <span style=\"font-size: 0.8em; font-weight: bold; line-height: 1; border-radius: 0.35em; vertical-align: middle; margin-left: 0.5rem\">Contract_type</span>\n",
       "</mark>\n",
       " \n",
       "<mark class=\"entity\" style=\"background: #ddd; padding: 0.45em 0.6em; margin: 0 0.25em; line-height: 1; border-radius: 0.35em;\">\n",
       "    for Data Integrity Services effective\n",
       "    <span style=\"font-size: 0.8em; font-weight: bold; line-height: 1; border-radius: 0.35em; vertical-align: middle; margin-left: 0.5rem\">Service type</span>\n",
       "</mark>\n",
       " \n",
       "<mark class=\"entity\" style=\"background: #ddd; padding: 0.45em 0.6em; margin: 0 0.25em; line-height: 1; border-radius: 0.35em;\">\n",
       "    03-Oct-16\n",
       "    <span style=\"font-size: 0.8em; font-weight: bold; line-height: 1; border-radius: 0.35em; vertical-align: middle; margin-left: 0.5rem\">Parent_Start_date</span>\n",
       "</mark>\n",
       " to \n",
       "<mark class=\"entity\" style=\"background: #ddd; padding: 0.45em 0.6em; margin: 0 0.25em; line-height: 1; border-radius: 0.35em;\">\n",
       "    RR Agreement\n",
       "    <span style=\"font-size: 0.8em; font-weight: bold; line-height: 1; border-radius: 0.35em; vertical-align: middle; margin-left: 0.5rem\">Parent_contract</span>\n",
       "</mark>\n",
       " effective \n",
       "<mark class=\"entity\" style=\"background: #ddd; padding: 0.45em 0.6em; margin: 0 0.25em; line-height: 1; border-radius: 0.35em;\">\n",
       "    01-Jan-12\n",
       "    <span style=\"font-size: 0.8em; font-weight: bold; line-height: 1; border-radius: 0.35em; vertical-align: middle; margin-left: 0.5rem\">Parent_Start_date</span>\n",
       "</mark>\n",
       " to \n",
       "<mark class=\"entity\" style=\"background: #ddd; padding: 0.45em 0.6em; margin: 0 0.25em; line-height: 1; border-radius: 0.35em;\">\n",
       "    SN Agreement\n",
       "    <span style=\"font-size: 0.8em; font-weight: bold; line-height: 1; border-radius: 0.35em; vertical-align: middle; margin-left: 0.5rem\">Parent_contract</span>\n",
       "</mark>\n",
       " effective 01-Jan-12 between \n",
       "<mark class=\"entity\" style=\"background: #ddd; padding: 0.45em 0.6em; margin: 0 0.25em; line-height: 1; border-radius: 0.35em;\">\n",
       "    ABC\n",
       "    <span style=\"font-size: 0.8em; font-weight: bold; line-height: 1; border-radius: 0.35em; vertical-align: middle; margin-left: 0.5rem\">Internal Party</span>\n",
       "</mark>\n",
       " and  \n",
       "<mark class=\"entity\" style=\"background: #ddd; padding: 0.45em 0.6em; margin: 0 0.25em; line-height: 1; border-radius: 0.35em;\">\n",
       "    XYZ\n",
       "    <span style=\"font-size: 0.8em; font-weight: bold; line-height: 1; border-radius: 0.35em; vertical-align: middle; margin-left: 0.5rem\">External Party</span>\n",
       "</mark>\n",
       ", Inc.];[Notice Timeframe: Prior to Expiration Date];[Renewal Interval \n",
       "<mark class=\"entity\" style=\"background: #ddd; padding: 0.45em 0.6em; margin: 0 0.25em; line-height: 1; border-radius: 0.35em;\">\n",
       "    (in months):\n",
       "    <span style=\"font-size: 0.8em; font-weight: bold; line-height: 1; border-radius: 0.35em; vertical-align: middle; margin-left: 0.5rem\">Renew</span>\n",
       "</mark>\n",
       " \n",
       "<mark class=\"entity\" style=\"background: #ddd; padding: 0.45em 0.6em; margin: 0 0.25em; line-height: 1; border-radius: 0.35em;\">\n",
       "    12];[Term &amp; Renewal Notes: ]\n",
       "    <span style=\"font-size: 0.8em; font-weight: bold; line-height: 1; border-radius: 0.35em; vertical-align: middle; margin-left: 0.5rem\">Renew</span>\n",
       "</mark>\n",
       "</div></span>"
      ],
      "text/plain": [
       "<IPython.core.display.HTML object>"
      ]
     },
     "metadata": {},
     "output_type": "display_data"
    },
    {
     "name": "stdout",
     "output_type": "stream",
     "text": [
      "============================================================\n"
     ]
    }
   ],
   "source": [
    "doc_list=test_model(df['description'],nlp1)"
   ]
  },
  {
   "cell_type": "code",
   "execution_count": 6,
   "id": "large-xerox",
   "metadata": {},
   "outputs": [],
   "source": [
    "import numpy as np\n",
    "dict_final={\"Contract_type\":[],\"Service type\":[],\"Start_date\":[],\n",
    "            \"Parent_contract\":[],\"Parent_Start_date\":[]\n",
    "            ,\"Renew\":[],\"Internal Party\":[],\"External Party\":[]}\n",
    "col_name=[]\n",
    "counter=0\n",
    "for doc in doc_list:\n",
    "    dict_doc={\"Contract_type\":[],\"Service type\":[],\"Start_date\":[],\n",
    "            \"Parent_contract\":[],\"Parent_Start_date\":[],\n",
    "              \"Renew\":[],\"Internal Party\":[],\"External Party\":[]}\n",
    "    list_label=[]\n",
    "    for ent in doc.ents:            \n",
    "        list_label.append(ent.label_)\n",
    "   \n",
    "    col_name.append(list_label)\n",
    "    na_list=set(dict_final.keys())-set(col_name[counter])\n",
    "    counter=counter+1\n",
    "        \n",
    "    for n in na_list:\n",
    "        dict_doc[n].append(np.nan)\n",
    "    for ent in doc.ents:\n",
    "        dict_doc[ent.label_].append(ent.text)\n",
    "    for key in dict_final.keys():\n",
    "        dict_final[key].append(dict_doc[key])\n",
    "    "
   ]
  },
  {
   "cell_type": "code",
   "execution_count": 63,
   "id": "pediatric-restriction",
   "metadata": {
    "scrolled": false
   },
   "outputs": [
    {
     "data": {
      "text/plain": [
       "'Tenth Amendment'"
      ]
     },
     "execution_count": 63,
     "metadata": {},
     "output_type": "execute_result"
    }
   ],
   "source": [
    "dict_final['Contract_type'][4][0]"
   ]
  },
  {
   "cell_type": "code",
   "execution_count": 29,
   "id": "biblical-boutique",
   "metadata": {},
   "outputs": [
    {
     "data": {
      "text/plain": [
       "'[Contract Description: [DOW for BT Application Management Services effective 01-Dec-16 to AMS Tower Agreement effective 01-Jun-13 between ABC and XYZ Inc.]];[Contract No.: ];[CMG Contract No.: ];[External Party Current Name: 0062-XYZ INC];[Term Type: Fixed];[Notice Period (in days): 90];[Notice Timeframe: Prior to Expiration Date];[Renewal Interval (in months): 12];[Term & Renewal Notes: ]'"
      ]
     },
     "execution_count": 29,
     "metadata": {},
     "output_type": "execute_result"
    }
   ],
   "source": [
    "df.description[5]"
   ]
  },
  {
   "cell_type": "code",
   "execution_count": 64,
   "id": "undefined-dakota",
   "metadata": {},
   "outputs": [],
   "source": [
    "df1=pd.DataFrame(dict_final)"
   ]
  },
  {
   "cell_type": "code",
   "execution_count": 69,
   "id": "otherwise-darwin",
   "metadata": {},
   "outputs": [
    {
     "data": {
      "text/plain": [
       "'Statement of Work'"
      ]
     },
     "execution_count": 69,
     "metadata": {},
     "output_type": "execute_result"
    }
   ],
   "source": [
    "df1['Contract_type'][0][0]"
   ]
  },
  {
   "cell_type": "code",
   "execution_count": 70,
   "id": "western-calculator",
   "metadata": {},
   "outputs": [],
   "source": [
    "df1.columns=[\"e_contract_type\",\"e_service_type\",\"e_effective_date\" ,\"e_parent_contract_type\",\"e_parent_effective_date\",\"Renew\",\"internal_party\" ,\"external_party_name\"]"
   ]
  },
  {
   "cell_type": "code",
   "execution_count": 71,
   "id": "removable-former",
   "metadata": {},
   "outputs": [
    {
     "data": {
      "text/html": [
       "<div>\n",
       "<style scoped>\n",
       "    .dataframe tbody tr th:only-of-type {\n",
       "        vertical-align: middle;\n",
       "    }\n",
       "\n",
       "    .dataframe tbody tr th {\n",
       "        vertical-align: top;\n",
       "    }\n",
       "\n",
       "    .dataframe thead th {\n",
       "        text-align: right;\n",
       "    }\n",
       "</style>\n",
       "<table border=\"1\" class=\"dataframe\">\n",
       "  <thead>\n",
       "    <tr style=\"text-align: right;\">\n",
       "      <th></th>\n",
       "      <th>e_contract_type</th>\n",
       "      <th>e_service_type</th>\n",
       "      <th>e_effective_date</th>\n",
       "      <th>e_parent_contract_type</th>\n",
       "      <th>e_parent_effective_date</th>\n",
       "      <th>Renew</th>\n",
       "      <th>internal_party</th>\n",
       "      <th>external_party_name</th>\n",
       "    </tr>\n",
       "  </thead>\n",
       "  <tbody>\n",
       "    <tr>\n",
       "      <th>0</th>\n",
       "      <td>[Statement of Work]</td>\n",
       "      <td>[For Compare Test - Org Confirmations]</td>\n",
       "      <td>[nan]</td>\n",
       "      <td>[RR Agreement, SN Agreement]</td>\n",
       "      <td>[01-Jan-12]</td>\n",
       "      <td>[(in months):, 12];[Term &amp; Renewal Notes: ]]</td>\n",
       "      <td>[ABC]</td>\n",
       "      <td>[XYZ]</td>\n",
       "    </tr>\n",
       "    <tr>\n",
       "      <th>1</th>\n",
       "      <td>[First Amendment]</td>\n",
       "      <td>[nan]</td>\n",
       "      <td>[effective 01-May-17]</td>\n",
       "      <td>[DOW For, RR Agreement, SN Agreement]</td>\n",
       "      <td>[Compare Test - Org Confirmations, 01-Jan-12]</td>\n",
       "      <td>[nan]</td>\n",
       "      <td>[ABC]</td>\n",
       "      <td>[XYZ]</td>\n",
       "    </tr>\n",
       "    <tr>\n",
       "      <th>2</th>\n",
       "      <td>[Statement of Work]</td>\n",
       "      <td>[for Compare Test effective]</td>\n",
       "      <td>[nan]</td>\n",
       "      <td>[RR Agreement, SN Agreement]</td>\n",
       "      <td>[31-Jun-27, 01-Jan-26]</td>\n",
       "      <td>[(in months):, 12];[Term &amp; Renewal Notes: ]]</td>\n",
       "      <td>[ABC]</td>\n",
       "      <td>[XYZ, XYZ]</td>\n",
       "    </tr>\n",
       "    <tr>\n",
       "      <th>3</th>\n",
       "      <td>[Tenth Amendment, Statement of Work]</td>\n",
       "      <td>[for Compare Test effective]</td>\n",
       "      <td>[effective 01-May-18]</td>\n",
       "      <td>[RR Agreement, SN Agreement]</td>\n",
       "      <td>[31-Mar-16, 01-Jan-12]</td>\n",
       "      <td>[nan]</td>\n",
       "      <td>[ABC]</td>\n",
       "      <td>[XYZ]</td>\n",
       "    </tr>\n",
       "    <tr>\n",
       "      <th>4</th>\n",
       "      <td>[Tenth Amendment, Statement of Work]</td>\n",
       "      <td>[for Compare Test effective]</td>\n",
       "      <td>[effective 07-Jul-16]</td>\n",
       "      <td>[RR Agreement, SN Agreement]</td>\n",
       "      <td>[31-Mar-16, 01-Jan-12]</td>\n",
       "      <td>[nan]</td>\n",
       "      <td>[ABC]</td>\n",
       "      <td>[XYZ]</td>\n",
       "    </tr>\n",
       "    <tr>\n",
       "      <th>5</th>\n",
       "      <td>[DOW for BT Application Management Services]</td>\n",
       "      <td>[nan]</td>\n",
       "      <td>[effective 01-Dec-16, effective 01-Jun-13]</td>\n",
       "      <td>[nan]</td>\n",
       "      <td>[nan]</td>\n",
       "      <td>[(in months):, 12];[Term &amp; Renewal Notes: ]]</td>\n",
       "      <td>[ABC]</td>\n",
       "      <td>[XYZ, XYZ]</td>\n",
       "    </tr>\n",
       "    <tr>\n",
       "      <th>6</th>\n",
       "      <td>[Parent = 100279], Second Amendment]</td>\n",
       "      <td>[for BCBT Application Management Services effe...</td>\n",
       "      <td>[effective 01-Dec-19, effective 01-Jun-13]</td>\n",
       "      <td>[nan]</td>\n",
       "      <td>[01-Dec-16]</td>\n",
       "      <td>[1 year]]</td>\n",
       "      <td>[DOW, ABC]</td>\n",
       "      <td>[XYZ, 1 additional]</td>\n",
       "    </tr>\n",
       "    <tr>\n",
       "      <th>7</th>\n",
       "      <td>[Third Amendment]</td>\n",
       "      <td>[for BCBT Application Management Services effe...</td>\n",
       "      <td>[effective 01-Dec-20, effective 01-Jun-13]</td>\n",
       "      <td>[nan]</td>\n",
       "      <td>[01-Dec-16]</td>\n",
       "      <td>[nan]</td>\n",
       "      <td>[DOW, ABC]</td>\n",
       "      <td>[XYZ Inc.]]</td>\n",
       "    </tr>\n",
       "    <tr>\n",
       "      <th>8</th>\n",
       "      <td>[Master Network Services Agreement]</td>\n",
       "      <td>[nan]</td>\n",
       "      <td>[effective 01-Oct-11]</td>\n",
       "      <td>[nan]</td>\n",
       "      <td>[nan]</td>\n",
       "      <td>[(in months): 6];[Term &amp; Renewal Notes: ]]</td>\n",
       "      <td>[ABC]</td>\n",
       "      <td>[XYZ (Canada)]</td>\n",
       "    </tr>\n",
       "    <tr>\n",
       "      <th>9</th>\n",
       "      <td>[Statement of Work]</td>\n",
       "      <td>[for Data Integrity Services effective]</td>\n",
       "      <td>[nan]</td>\n",
       "      <td>[RR Agreement, SN Agreement]</td>\n",
       "      <td>[03-Oct-16, 01-Jan-12]</td>\n",
       "      <td>[(in months):, 12];[Term &amp; Renewal Notes: ]]</td>\n",
       "      <td>[ABC]</td>\n",
       "      <td>[XYZ]</td>\n",
       "    </tr>\n",
       "  </tbody>\n",
       "</table>\n",
       "</div>"
      ],
      "text/plain": [
       "                                e_contract_type  \\\n",
       "0                           [Statement of Work]   \n",
       "1                             [First Amendment]   \n",
       "2                           [Statement of Work]   \n",
       "3          [Tenth Amendment, Statement of Work]   \n",
       "4          [Tenth Amendment, Statement of Work]   \n",
       "5  [DOW for BT Application Management Services]   \n",
       "6          [Parent = 100279], Second Amendment]   \n",
       "7                             [Third Amendment]   \n",
       "8           [Master Network Services Agreement]   \n",
       "9                           [Statement of Work]   \n",
       "\n",
       "                                      e_service_type  \\\n",
       "0             [For Compare Test - Org Confirmations]   \n",
       "1                                              [nan]   \n",
       "2                       [for Compare Test effective]   \n",
       "3                       [for Compare Test effective]   \n",
       "4                       [for Compare Test effective]   \n",
       "5                                              [nan]   \n",
       "6  [for BCBT Application Management Services effe...   \n",
       "7  [for BCBT Application Management Services effe...   \n",
       "8                                              [nan]   \n",
       "9            [for Data Integrity Services effective]   \n",
       "\n",
       "                             e_effective_date  \\\n",
       "0                                       [nan]   \n",
       "1                       [effective 01-May-17]   \n",
       "2                                       [nan]   \n",
       "3                       [effective 01-May-18]   \n",
       "4                       [effective 07-Jul-16]   \n",
       "5  [effective 01-Dec-16, effective 01-Jun-13]   \n",
       "6  [effective 01-Dec-19, effective 01-Jun-13]   \n",
       "7  [effective 01-Dec-20, effective 01-Jun-13]   \n",
       "8                       [effective 01-Oct-11]   \n",
       "9                                       [nan]   \n",
       "\n",
       "                  e_parent_contract_type  \\\n",
       "0           [RR Agreement, SN Agreement]   \n",
       "1  [DOW For, RR Agreement, SN Agreement]   \n",
       "2           [RR Agreement, SN Agreement]   \n",
       "3           [RR Agreement, SN Agreement]   \n",
       "4           [RR Agreement, SN Agreement]   \n",
       "5                                  [nan]   \n",
       "6                                  [nan]   \n",
       "7                                  [nan]   \n",
       "8                                  [nan]   \n",
       "9           [RR Agreement, SN Agreement]   \n",
       "\n",
       "                         e_parent_effective_date  \\\n",
       "0                                    [01-Jan-12]   \n",
       "1  [Compare Test - Org Confirmations, 01-Jan-12]   \n",
       "2                         [31-Jun-27, 01-Jan-26]   \n",
       "3                         [31-Mar-16, 01-Jan-12]   \n",
       "4                         [31-Mar-16, 01-Jan-12]   \n",
       "5                                          [nan]   \n",
       "6                                    [01-Dec-16]   \n",
       "7                                    [01-Dec-16]   \n",
       "8                                          [nan]   \n",
       "9                         [03-Oct-16, 01-Jan-12]   \n",
       "\n",
       "                                          Renew internal_party  \\\n",
       "0  [(in months):, 12];[Term & Renewal Notes: ]]          [ABC]   \n",
       "1                                         [nan]          [ABC]   \n",
       "2  [(in months):, 12];[Term & Renewal Notes: ]]          [ABC]   \n",
       "3                                         [nan]          [ABC]   \n",
       "4                                         [nan]          [ABC]   \n",
       "5  [(in months):, 12];[Term & Renewal Notes: ]]          [ABC]   \n",
       "6                                     [1 year]]     [DOW, ABC]   \n",
       "7                                         [nan]     [DOW, ABC]   \n",
       "8    [(in months): 6];[Term & Renewal Notes: ]]          [ABC]   \n",
       "9  [(in months):, 12];[Term & Renewal Notes: ]]          [ABC]   \n",
       "\n",
       "   external_party_name  \n",
       "0                [XYZ]  \n",
       "1                [XYZ]  \n",
       "2           [XYZ, XYZ]  \n",
       "3                [XYZ]  \n",
       "4                [XYZ]  \n",
       "5           [XYZ, XYZ]  \n",
       "6  [XYZ, 1 additional]  \n",
       "7          [XYZ Inc.]]  \n",
       "8       [XYZ (Canada)]  \n",
       "9                [XYZ]  "
      ]
     },
     "execution_count": 71,
     "metadata": {},
     "output_type": "execute_result"
    }
   ],
   "source": [
    "df1"
   ]
  },
  {
   "cell_type": "code",
   "execution_count": 82,
   "id": "better-archives",
   "metadata": {},
   "outputs": [
    {
     "name": "stdout",
     "output_type": "stream",
     "text": [
      "first \n",
      "tenth \n",
      "tenth \n",
      "second \n",
      "third \n"
     ]
    },
    {
     "name": "stderr",
     "output_type": "stream",
     "text": [
      "C:\\Users\\fandi\\Anaconda3\\Anaconda3\\lib\\site-packages\\ipykernel_launcher.py:8: SettingWithCopyWarning: \n",
      "A value is trying to be set on a copy of a slice from a DataFrame\n",
      "\n",
      "See the caveats in the documentation: https://pandas.pydata.org/pandas-docs/stable/user_guide/indexing.html#returning-a-view-versus-a-copy\n",
      "  \n"
     ]
    }
   ],
   "source": [
    "df1['sub_contract_type']=[np.nan]*len(df1)\n",
    "counter=0\n",
    "for i in df1['e_contract_type']:\n",
    "\n",
    "    for item in i:\n",
    "        if \"amendment\" in item.lower():\n",
    "            print(item.lower().replace(\"amendment\",\"\"))\n",
    "            df1[\"sub_contract_type\"][counter]=item.lower().replace(\"amendment\",\"\")\n",
    "    counter=counter+1\n",
    "            \n",
    "            "
   ]
  },
  {
   "cell_type": "code",
   "execution_count": 83,
   "id": "excessive-flash",
   "metadata": {
    "scrolled": true
   },
   "outputs": [
    {
     "data": {
      "text/html": [
       "<div>\n",
       "<style scoped>\n",
       "    .dataframe tbody tr th:only-of-type {\n",
       "        vertical-align: middle;\n",
       "    }\n",
       "\n",
       "    .dataframe tbody tr th {\n",
       "        vertical-align: top;\n",
       "    }\n",
       "\n",
       "    .dataframe thead th {\n",
       "        text-align: right;\n",
       "    }\n",
       "</style>\n",
       "<table border=\"1\" class=\"dataframe\">\n",
       "  <thead>\n",
       "    <tr style=\"text-align: right;\">\n",
       "      <th></th>\n",
       "      <th>e_contract_type</th>\n",
       "      <th>e_service_type</th>\n",
       "      <th>e_effective_date</th>\n",
       "      <th>e_parent_contract_type</th>\n",
       "      <th>e_parent_effective_date</th>\n",
       "      <th>Renew</th>\n",
       "      <th>internal_party</th>\n",
       "      <th>external_party_name</th>\n",
       "      <th>sub_contract_type</th>\n",
       "    </tr>\n",
       "  </thead>\n",
       "  <tbody>\n",
       "    <tr>\n",
       "      <th>0</th>\n",
       "      <td>[Statement of Work]</td>\n",
       "      <td>[For Compare Test - Org Confirmations]</td>\n",
       "      <td>[nan]</td>\n",
       "      <td>[RR Agreement, SN Agreement]</td>\n",
       "      <td>[01-Jan-12]</td>\n",
       "      <td>[(in months):, 12];[Term &amp; Renewal Notes: ]]</td>\n",
       "      <td>[ABC]</td>\n",
       "      <td>[XYZ]</td>\n",
       "      <td>NaN</td>\n",
       "    </tr>\n",
       "    <tr>\n",
       "      <th>1</th>\n",
       "      <td>[First Amendment]</td>\n",
       "      <td>[nan]</td>\n",
       "      <td>[effective 01-May-17]</td>\n",
       "      <td>[DOW For, RR Agreement, SN Agreement]</td>\n",
       "      <td>[Compare Test - Org Confirmations, 01-Jan-12]</td>\n",
       "      <td>[nan]</td>\n",
       "      <td>[ABC]</td>\n",
       "      <td>[XYZ]</td>\n",
       "      <td>first</td>\n",
       "    </tr>\n",
       "    <tr>\n",
       "      <th>2</th>\n",
       "      <td>[Statement of Work]</td>\n",
       "      <td>[for Compare Test effective]</td>\n",
       "      <td>[nan]</td>\n",
       "      <td>[RR Agreement, SN Agreement]</td>\n",
       "      <td>[31-Jun-27, 01-Jan-26]</td>\n",
       "      <td>[(in months):, 12];[Term &amp; Renewal Notes: ]]</td>\n",
       "      <td>[ABC]</td>\n",
       "      <td>[XYZ, XYZ]</td>\n",
       "      <td>NaN</td>\n",
       "    </tr>\n",
       "    <tr>\n",
       "      <th>3</th>\n",
       "      <td>[Tenth Amendment, Statement of Work]</td>\n",
       "      <td>[for Compare Test effective]</td>\n",
       "      <td>[effective 01-May-18]</td>\n",
       "      <td>[RR Agreement, SN Agreement]</td>\n",
       "      <td>[31-Mar-16, 01-Jan-12]</td>\n",
       "      <td>[nan]</td>\n",
       "      <td>[ABC]</td>\n",
       "      <td>[XYZ]</td>\n",
       "      <td>tenth</td>\n",
       "    </tr>\n",
       "    <tr>\n",
       "      <th>4</th>\n",
       "      <td>[Tenth Amendment, Statement of Work]</td>\n",
       "      <td>[for Compare Test effective]</td>\n",
       "      <td>[effective 07-Jul-16]</td>\n",
       "      <td>[RR Agreement, SN Agreement]</td>\n",
       "      <td>[31-Mar-16, 01-Jan-12]</td>\n",
       "      <td>[nan]</td>\n",
       "      <td>[ABC]</td>\n",
       "      <td>[XYZ]</td>\n",
       "      <td>tenth</td>\n",
       "    </tr>\n",
       "    <tr>\n",
       "      <th>5</th>\n",
       "      <td>[DOW for BT Application Management Services]</td>\n",
       "      <td>[nan]</td>\n",
       "      <td>[effective 01-Dec-16, effective 01-Jun-13]</td>\n",
       "      <td>[nan]</td>\n",
       "      <td>[nan]</td>\n",
       "      <td>[(in months):, 12];[Term &amp; Renewal Notes: ]]</td>\n",
       "      <td>[ABC]</td>\n",
       "      <td>[XYZ, XYZ]</td>\n",
       "      <td>NaN</td>\n",
       "    </tr>\n",
       "    <tr>\n",
       "      <th>6</th>\n",
       "      <td>[Parent = 100279], Second Amendment]</td>\n",
       "      <td>[for BCBT Application Management Services effe...</td>\n",
       "      <td>[effective 01-Dec-19, effective 01-Jun-13]</td>\n",
       "      <td>[nan]</td>\n",
       "      <td>[01-Dec-16]</td>\n",
       "      <td>[1 year]]</td>\n",
       "      <td>[DOW, ABC]</td>\n",
       "      <td>[XYZ, 1 additional]</td>\n",
       "      <td>second</td>\n",
       "    </tr>\n",
       "    <tr>\n",
       "      <th>7</th>\n",
       "      <td>[Third Amendment]</td>\n",
       "      <td>[for BCBT Application Management Services effe...</td>\n",
       "      <td>[effective 01-Dec-20, effective 01-Jun-13]</td>\n",
       "      <td>[nan]</td>\n",
       "      <td>[01-Dec-16]</td>\n",
       "      <td>[nan]</td>\n",
       "      <td>[DOW, ABC]</td>\n",
       "      <td>[XYZ Inc.]]</td>\n",
       "      <td>third</td>\n",
       "    </tr>\n",
       "    <tr>\n",
       "      <th>8</th>\n",
       "      <td>[Master Network Services Agreement]</td>\n",
       "      <td>[nan]</td>\n",
       "      <td>[effective 01-Oct-11]</td>\n",
       "      <td>[nan]</td>\n",
       "      <td>[nan]</td>\n",
       "      <td>[(in months): 6];[Term &amp; Renewal Notes: ]]</td>\n",
       "      <td>[ABC]</td>\n",
       "      <td>[XYZ (Canada)]</td>\n",
       "      <td>NaN</td>\n",
       "    </tr>\n",
       "    <tr>\n",
       "      <th>9</th>\n",
       "      <td>[Statement of Work]</td>\n",
       "      <td>[for Data Integrity Services effective]</td>\n",
       "      <td>[nan]</td>\n",
       "      <td>[RR Agreement, SN Agreement]</td>\n",
       "      <td>[03-Oct-16, 01-Jan-12]</td>\n",
       "      <td>[(in months):, 12];[Term &amp; Renewal Notes: ]]</td>\n",
       "      <td>[ABC]</td>\n",
       "      <td>[XYZ]</td>\n",
       "      <td>NaN</td>\n",
       "    </tr>\n",
       "  </tbody>\n",
       "</table>\n",
       "</div>"
      ],
      "text/plain": [
       "                                e_contract_type  \\\n",
       "0                           [Statement of Work]   \n",
       "1                             [First Amendment]   \n",
       "2                           [Statement of Work]   \n",
       "3          [Tenth Amendment, Statement of Work]   \n",
       "4          [Tenth Amendment, Statement of Work]   \n",
       "5  [DOW for BT Application Management Services]   \n",
       "6          [Parent = 100279], Second Amendment]   \n",
       "7                             [Third Amendment]   \n",
       "8           [Master Network Services Agreement]   \n",
       "9                           [Statement of Work]   \n",
       "\n",
       "                                      e_service_type  \\\n",
       "0             [For Compare Test - Org Confirmations]   \n",
       "1                                              [nan]   \n",
       "2                       [for Compare Test effective]   \n",
       "3                       [for Compare Test effective]   \n",
       "4                       [for Compare Test effective]   \n",
       "5                                              [nan]   \n",
       "6  [for BCBT Application Management Services effe...   \n",
       "7  [for BCBT Application Management Services effe...   \n",
       "8                                              [nan]   \n",
       "9            [for Data Integrity Services effective]   \n",
       "\n",
       "                             e_effective_date  \\\n",
       "0                                       [nan]   \n",
       "1                       [effective 01-May-17]   \n",
       "2                                       [nan]   \n",
       "3                       [effective 01-May-18]   \n",
       "4                       [effective 07-Jul-16]   \n",
       "5  [effective 01-Dec-16, effective 01-Jun-13]   \n",
       "6  [effective 01-Dec-19, effective 01-Jun-13]   \n",
       "7  [effective 01-Dec-20, effective 01-Jun-13]   \n",
       "8                       [effective 01-Oct-11]   \n",
       "9                                       [nan]   \n",
       "\n",
       "                  e_parent_contract_type  \\\n",
       "0           [RR Agreement, SN Agreement]   \n",
       "1  [DOW For, RR Agreement, SN Agreement]   \n",
       "2           [RR Agreement, SN Agreement]   \n",
       "3           [RR Agreement, SN Agreement]   \n",
       "4           [RR Agreement, SN Agreement]   \n",
       "5                                  [nan]   \n",
       "6                                  [nan]   \n",
       "7                                  [nan]   \n",
       "8                                  [nan]   \n",
       "9           [RR Agreement, SN Agreement]   \n",
       "\n",
       "                         e_parent_effective_date  \\\n",
       "0                                    [01-Jan-12]   \n",
       "1  [Compare Test - Org Confirmations, 01-Jan-12]   \n",
       "2                         [31-Jun-27, 01-Jan-26]   \n",
       "3                         [31-Mar-16, 01-Jan-12]   \n",
       "4                         [31-Mar-16, 01-Jan-12]   \n",
       "5                                          [nan]   \n",
       "6                                    [01-Dec-16]   \n",
       "7                                    [01-Dec-16]   \n",
       "8                                          [nan]   \n",
       "9                         [03-Oct-16, 01-Jan-12]   \n",
       "\n",
       "                                          Renew internal_party  \\\n",
       "0  [(in months):, 12];[Term & Renewal Notes: ]]          [ABC]   \n",
       "1                                         [nan]          [ABC]   \n",
       "2  [(in months):, 12];[Term & Renewal Notes: ]]          [ABC]   \n",
       "3                                         [nan]          [ABC]   \n",
       "4                                         [nan]          [ABC]   \n",
       "5  [(in months):, 12];[Term & Renewal Notes: ]]          [ABC]   \n",
       "6                                     [1 year]]     [DOW, ABC]   \n",
       "7                                         [nan]     [DOW, ABC]   \n",
       "8    [(in months): 6];[Term & Renewal Notes: ]]          [ABC]   \n",
       "9  [(in months):, 12];[Term & Renewal Notes: ]]          [ABC]   \n",
       "\n",
       "   external_party_name sub_contract_type  \n",
       "0                [XYZ]               NaN  \n",
       "1                [XYZ]            first   \n",
       "2           [XYZ, XYZ]               NaN  \n",
       "3                [XYZ]            tenth   \n",
       "4                [XYZ]            tenth   \n",
       "5           [XYZ, XYZ]               NaN  \n",
       "6  [XYZ, 1 additional]           second   \n",
       "7          [XYZ Inc.]]            third   \n",
       "8       [XYZ (Canada)]               NaN  \n",
       "9                [XYZ]               NaN  "
      ]
     },
     "execution_count": 83,
     "metadata": {},
     "output_type": "execute_result"
    }
   ],
   "source": [
    "df1"
   ]
  },
  {
   "cell_type": "code",
   "execution_count": 84,
   "id": "unsigned-fellow",
   "metadata": {},
   "outputs": [
    {
     "data": {
      "text/html": [
       "<div>\n",
       "<style scoped>\n",
       "    .dataframe tbody tr th:only-of-type {\n",
       "        vertical-align: middle;\n",
       "    }\n",
       "\n",
       "    .dataframe tbody tr th {\n",
       "        vertical-align: top;\n",
       "    }\n",
       "\n",
       "    .dataframe thead th {\n",
       "        text-align: right;\n",
       "    }\n",
       "</style>\n",
       "<table border=\"1\" class=\"dataframe\">\n",
       "  <thead>\n",
       "    <tr style=\"text-align: right;\">\n",
       "      <th></th>\n",
       "      <th>e_contract_type</th>\n",
       "      <th>e_service_type</th>\n",
       "      <th>e_effective_date</th>\n",
       "      <th>e_parent_contract_type</th>\n",
       "      <th>e_parent_effective_date</th>\n",
       "      <th>Renew</th>\n",
       "      <th>internal_party</th>\n",
       "      <th>external_party_name</th>\n",
       "      <th>sub_contract_type</th>\n",
       "    </tr>\n",
       "  </thead>\n",
       "  <tbody>\n",
       "    <tr>\n",
       "      <th>0</th>\n",
       "      <td>[Statement of Work]</td>\n",
       "      <td>[For Compare Test - Org Confirmations]</td>\n",
       "      <td>[nan]</td>\n",
       "      <td>[RR Agreement, SN Agreement]</td>\n",
       "      <td>[01-Jan-12]</td>\n",
       "      <td>[(in months):, 12];[Term &amp; Renewal Notes: ]]</td>\n",
       "      <td>[ABC]</td>\n",
       "      <td>[XYZ]</td>\n",
       "      <td>NaN</td>\n",
       "    </tr>\n",
       "    <tr>\n",
       "      <th>1</th>\n",
       "      <td>[First Amendment]</td>\n",
       "      <td>[nan]</td>\n",
       "      <td>[effective 01-May-17]</td>\n",
       "      <td>[DOW For, RR Agreement, SN Agreement]</td>\n",
       "      <td>[Compare Test - Org Confirmations, 01-Jan-12]</td>\n",
       "      <td>[nan]</td>\n",
       "      <td>[ABC]</td>\n",
       "      <td>[XYZ]</td>\n",
       "      <td>first</td>\n",
       "    </tr>\n",
       "    <tr>\n",
       "      <th>2</th>\n",
       "      <td>[Statement of Work]</td>\n",
       "      <td>[for Compare Test effective]</td>\n",
       "      <td>[nan]</td>\n",
       "      <td>[RR Agreement, SN Agreement]</td>\n",
       "      <td>[31-Jun-27, 01-Jan-26]</td>\n",
       "      <td>[(in months):, 12];[Term &amp; Renewal Notes: ]]</td>\n",
       "      <td>[ABC]</td>\n",
       "      <td>[XYZ, XYZ]</td>\n",
       "      <td>NaN</td>\n",
       "    </tr>\n",
       "    <tr>\n",
       "      <th>3</th>\n",
       "      <td>[Tenth Amendment, Statement of Work]</td>\n",
       "      <td>[for Compare Test effective]</td>\n",
       "      <td>[effective 01-May-18]</td>\n",
       "      <td>[RR Agreement, SN Agreement]</td>\n",
       "      <td>[31-Mar-16, 01-Jan-12]</td>\n",
       "      <td>[nan]</td>\n",
       "      <td>[ABC]</td>\n",
       "      <td>[XYZ]</td>\n",
       "      <td>tenth</td>\n",
       "    </tr>\n",
       "    <tr>\n",
       "      <th>4</th>\n",
       "      <td>[Tenth Amendment, Statement of Work]</td>\n",
       "      <td>[for Compare Test effective]</td>\n",
       "      <td>[effective 07-Jul-16]</td>\n",
       "      <td>[RR Agreement, SN Agreement]</td>\n",
       "      <td>[31-Mar-16, 01-Jan-12]</td>\n",
       "      <td>[nan]</td>\n",
       "      <td>[ABC]</td>\n",
       "      <td>[XYZ]</td>\n",
       "      <td>tenth</td>\n",
       "    </tr>\n",
       "    <tr>\n",
       "      <th>5</th>\n",
       "      <td>[DOW for BT Application Management Services]</td>\n",
       "      <td>[nan]</td>\n",
       "      <td>[effective 01-Dec-16, effective 01-Jun-13]</td>\n",
       "      <td>[nan]</td>\n",
       "      <td>[nan]</td>\n",
       "      <td>[(in months):, 12];[Term &amp; Renewal Notes: ]]</td>\n",
       "      <td>[ABC]</td>\n",
       "      <td>[XYZ, XYZ]</td>\n",
       "      <td>NaN</td>\n",
       "    </tr>\n",
       "    <tr>\n",
       "      <th>6</th>\n",
       "      <td>[Parent = 100279], Second Amendment]</td>\n",
       "      <td>[for BCBT Application Management Services effe...</td>\n",
       "      <td>[effective 01-Dec-19, effective 01-Jun-13]</td>\n",
       "      <td>[nan]</td>\n",
       "      <td>[01-Dec-16]</td>\n",
       "      <td>[1 year]]</td>\n",
       "      <td>[DOW, ABC]</td>\n",
       "      <td>[XYZ, 1 additional]</td>\n",
       "      <td>second</td>\n",
       "    </tr>\n",
       "    <tr>\n",
       "      <th>7</th>\n",
       "      <td>[Third Amendment]</td>\n",
       "      <td>[for BCBT Application Management Services effe...</td>\n",
       "      <td>[effective 01-Dec-20, effective 01-Jun-13]</td>\n",
       "      <td>[nan]</td>\n",
       "      <td>[01-Dec-16]</td>\n",
       "      <td>[nan]</td>\n",
       "      <td>[DOW, ABC]</td>\n",
       "      <td>[XYZ Inc.]]</td>\n",
       "      <td>third</td>\n",
       "    </tr>\n",
       "    <tr>\n",
       "      <th>8</th>\n",
       "      <td>[Master Network Services Agreement]</td>\n",
       "      <td>[nan]</td>\n",
       "      <td>[effective 01-Oct-11]</td>\n",
       "      <td>[nan]</td>\n",
       "      <td>[nan]</td>\n",
       "      <td>[(in months): 6];[Term &amp; Renewal Notes: ]]</td>\n",
       "      <td>[ABC]</td>\n",
       "      <td>[XYZ (Canada)]</td>\n",
       "      <td>NaN</td>\n",
       "    </tr>\n",
       "    <tr>\n",
       "      <th>9</th>\n",
       "      <td>[Statement of Work]</td>\n",
       "      <td>[for Data Integrity Services effective]</td>\n",
       "      <td>[nan]</td>\n",
       "      <td>[RR Agreement, SN Agreement]</td>\n",
       "      <td>[03-Oct-16, 01-Jan-12]</td>\n",
       "      <td>[(in months):, 12];[Term &amp; Renewal Notes: ]]</td>\n",
       "      <td>[ABC]</td>\n",
       "      <td>[XYZ]</td>\n",
       "      <td>NaN</td>\n",
       "    </tr>\n",
       "  </tbody>\n",
       "</table>\n",
       "</div>"
      ],
      "text/plain": [
       "                                e_contract_type  \\\n",
       "0                           [Statement of Work]   \n",
       "1                             [First Amendment]   \n",
       "2                           [Statement of Work]   \n",
       "3          [Tenth Amendment, Statement of Work]   \n",
       "4          [Tenth Amendment, Statement of Work]   \n",
       "5  [DOW for BT Application Management Services]   \n",
       "6          [Parent = 100279], Second Amendment]   \n",
       "7                             [Third Amendment]   \n",
       "8           [Master Network Services Agreement]   \n",
       "9                           [Statement of Work]   \n",
       "\n",
       "                                      e_service_type  \\\n",
       "0             [For Compare Test - Org Confirmations]   \n",
       "1                                              [nan]   \n",
       "2                       [for Compare Test effective]   \n",
       "3                       [for Compare Test effective]   \n",
       "4                       [for Compare Test effective]   \n",
       "5                                              [nan]   \n",
       "6  [for BCBT Application Management Services effe...   \n",
       "7  [for BCBT Application Management Services effe...   \n",
       "8                                              [nan]   \n",
       "9            [for Data Integrity Services effective]   \n",
       "\n",
       "                             e_effective_date  \\\n",
       "0                                       [nan]   \n",
       "1                       [effective 01-May-17]   \n",
       "2                                       [nan]   \n",
       "3                       [effective 01-May-18]   \n",
       "4                       [effective 07-Jul-16]   \n",
       "5  [effective 01-Dec-16, effective 01-Jun-13]   \n",
       "6  [effective 01-Dec-19, effective 01-Jun-13]   \n",
       "7  [effective 01-Dec-20, effective 01-Jun-13]   \n",
       "8                       [effective 01-Oct-11]   \n",
       "9                                       [nan]   \n",
       "\n",
       "                  e_parent_contract_type  \\\n",
       "0           [RR Agreement, SN Agreement]   \n",
       "1  [DOW For, RR Agreement, SN Agreement]   \n",
       "2           [RR Agreement, SN Agreement]   \n",
       "3           [RR Agreement, SN Agreement]   \n",
       "4           [RR Agreement, SN Agreement]   \n",
       "5                                  [nan]   \n",
       "6                                  [nan]   \n",
       "7                                  [nan]   \n",
       "8                                  [nan]   \n",
       "9           [RR Agreement, SN Agreement]   \n",
       "\n",
       "                         e_parent_effective_date  \\\n",
       "0                                    [01-Jan-12]   \n",
       "1  [Compare Test - Org Confirmations, 01-Jan-12]   \n",
       "2                         [31-Jun-27, 01-Jan-26]   \n",
       "3                         [31-Mar-16, 01-Jan-12]   \n",
       "4                         [31-Mar-16, 01-Jan-12]   \n",
       "5                                          [nan]   \n",
       "6                                    [01-Dec-16]   \n",
       "7                                    [01-Dec-16]   \n",
       "8                                          [nan]   \n",
       "9                         [03-Oct-16, 01-Jan-12]   \n",
       "\n",
       "                                          Renew internal_party  \\\n",
       "0  [(in months):, 12];[Term & Renewal Notes: ]]          [ABC]   \n",
       "1                                         [nan]          [ABC]   \n",
       "2  [(in months):, 12];[Term & Renewal Notes: ]]          [ABC]   \n",
       "3                                         [nan]          [ABC]   \n",
       "4                                         [nan]          [ABC]   \n",
       "5  [(in months):, 12];[Term & Renewal Notes: ]]          [ABC]   \n",
       "6                                     [1 year]]     [DOW, ABC]   \n",
       "7                                         [nan]     [DOW, ABC]   \n",
       "8    [(in months): 6];[Term & Renewal Notes: ]]          [ABC]   \n",
       "9  [(in months):, 12];[Term & Renewal Notes: ]]          [ABC]   \n",
       "\n",
       "   external_party_name sub_contract_type  \n",
       "0                [XYZ]               NaN  \n",
       "1                [XYZ]            first   \n",
       "2           [XYZ, XYZ]               NaN  \n",
       "3                [XYZ]            tenth   \n",
       "4                [XYZ]            tenth   \n",
       "5           [XYZ, XYZ]               NaN  \n",
       "6  [XYZ, 1 additional]           second   \n",
       "7          [XYZ Inc.]]            third   \n",
       "8       [XYZ (Canada)]               NaN  \n",
       "9                [XYZ]               NaN  "
      ]
     },
     "execution_count": 84,
     "metadata": {},
     "output_type": "execute_result"
    }
   ],
   "source": [
    "df1"
   ]
  },
  {
   "cell_type": "code",
   "execution_count": 33,
   "id": "sealed-finding",
   "metadata": {},
   "outputs": [],
   "source": [
    "df1.to_csv(\"Example_description.csv\")"
   ]
  },
  {
   "cell_type": "markdown",
   "id": "precise-soundtrack",
   "metadata": {},
   "source": [
    "# Contract Overview\n",
    "Keywords we want to extract:\n",
    "1. Supplier name: External party full name\n",
    "2. Internal contract number\n",
    "3. Parent contract number\n",
    "4. Effective date:\n",
    "5. Parent contract effective date\n",
    "6. Responsibility (objective)\n",
    "7. Core fees : Contract fee with currency sign\n",
    "\n",
    "**Note**: We will focus on master contracts, tower, SOW and Admendment Contracts"
   ]
  },
  {
   "cell_type": "code",
   "execution_count": 60,
   "id": "accomplished-adventure",
   "metadata": {},
   "outputs": [
    {
     "name": "stderr",
     "output_type": "stream",
     "text": [
      "<ipython-input-60-3e08830aef6a>:1: FutureWarning: Your version of xlrd is 1.2.0. In xlrd >= 2.0, only the xls format is supported. As a result, the openpyxl engine will be used if it is installed and the engine argument is not specified. Install openpyxl instead.\n",
      "  df_new=pd.read_excel(\"masking_overview4.xlsx\")\n"
     ]
    }
   ],
   "source": [
    "df_new=pd.read_excel(\"masking_overview4.xlsx\")"
   ]
  },
  {
   "cell_type": "code",
   "execution_count": 12,
   "id": "viral-hometown",
   "metadata": {},
   "outputs": [
    {
     "data": {
      "text/plain": [
       "'[Contract Overview: An amendment to ICN 66827 to engage TestSupplier for SoW services in support of the Incentive Compensation Management application.];[Sourcing Rationale: Provide a hosted service for compensation calculations and management to Wealth investment advisors.];[Key T&C’s: \\uf02d\\tSecurity Risk Management provisions are governed by Article 13 of the EMA. \\n\\uf02d\\tABC Audit Rights are governed by Article 11.02 of the EMA; however, ABC data is housed in a known third party data centre and TestSupplier does not currently have audit rights. While TestSupplier does intend to eventually bring the solution in-house, this is an ongoing plan. TestSupplier has agreed to our standard audit rights for all other parts of the services and will be opened to audit. \\n\\uf02d\\tService Level Agreement established for key business requirements are set out in the ASP Tower with specific call-outs in the SOW\\n\\uf02d\\tLimitation of Liability for damages are governed by Article 16 of the EMA and all SOWs under the ASP Towers have an aggregate effect in the EMA.\\n\\uf02d\\tTestSupplier will license the ICM and all related software required to complete UAT and put the system into production. TestSupplier has granted broad irrevocable licensing terms to ABC with the latitude to use all project deliverables as necessary for internal business purposes by];[Pricing Terms: Fees for TestSupplier ICM Data History Premium access - $2,666.6/month for 7 months - $ 1,666.56 plus tax]'"
      ]
     },
     "execution_count": 12,
     "metadata": {},
     "output_type": "execute_result"
    }
   ],
   "source": [
    "df_new['contract_overview'][5]"
   ]
  },
  {
   "cell_type": "code",
   "execution_count": 17,
   "id": "attempted-alaska",
   "metadata": {},
   "outputs": [],
   "source": [
    "dict_index_tr_ov_new=[{'Amendment':'contract type',\"Master Services Cost bubbletea Agreement\":\"contract detail\",\"5-Year Term\":\"length\"},\n",
    "                  {'bubble tea price agreement':'contract type',\"purchase additional Customer Based licenses\":\"contract detail\",\"$278,666.72\":\"price term\",\n",
    "                   \"support cap for first and second annual renewal\":\"renew term\"},{'Golden Gate':\"contract type\",\n",
    "                    \"Processor Perpetual licenses\":\"contract detail\",\"$33333.33\":\"price term\"},\n",
    "                      {\"purchase agreement\":\"contract type\",\"Enterprise Security & Risk Services team\":\"contract detail\",\"$20,400\":\"price term\"}]\n",
    "dict_index_t_ov_new=[{'NDA':'contract type',\"Bubbletea project\":\"contract detail\"},\n",
    "                     {\"amendment\" :\"contract type\",\"engage TestSupplier for SoW services\":\"contract detail\",\"$ 1,666.56\":\"price term\"}]"
   ]
  },
  {
   "cell_type": "code",
   "execution_count": 105,
   "id": "colonial-attendance",
   "metadata": {},
   "outputs": [
    {
     "data": {
      "text/plain": [
       "\"[Contract Overview: Beta Test (BPO) of Data Integrity Services.  BPO DOW effective Oct 3, 2016 to RR Agreement effective Jan 1, 2012 to EMA effective Jan 1, 2012 between ABC and XYZ Inc.];[Sourcing Rationale: Execute a BPO DOW under the existing XYZ Tower Agreement];[Key T&C's: This DOW is governed by the XYZ RR Agreement and is bound by all terms under the EMA.  The 5% Annual Productivity Improvement will not apply until either: a) an Amendment to this DOW is executed, or b) a new DOW under the RR Agreement is executed, in either case equivalent to 7 FTE.];[Pricing Terms: $M (incl. tax) of transition fees to be paid over 3 Milestones.  Ongoing services fees as per RR Agreement rate card.]\""
      ]
     },
     "execution_count": 105,
     "metadata": {},
     "output_type": "execute_result"
    }
   ],
   "source": [
    "df['overview'][9]\n"
   ]
  },
  {
   "cell_type": "code",
   "execution_count": 48,
   "id": "comic-meaning",
   "metadata": {},
   "outputs": [],
   "source": [
    "dict_index_tr_ov=[{'Beta Test of Compare Test (CT) - Org Confirmations':'contract type',\n",
    "                   \"XYZ RR Agreement\":\"parent contract name\",\n",
    "            'As per legal summary provided by external counsel':'price term',\n",
    "                   \"The 500% Annual Productivity Improvement\": \"responsibility\"},\n",
    "                  {'24-month AMS agreement under the AMS Tower':'contract type','effective June 1, 2013':\"effective date\",\n",
    "            'XYZ will be supporting the D, T, P and M applications in BBT.':'responsibility',\n",
    "                   \"EMA\":\"parent contract name\", \"effective January 1, 2012\": \"parent effective date\",\n",
    "                   \"The DOW Initial Term is 24 months with two additional one-year renewal options.\": \"duration\"\n",
    "                   \"Fixed monthly fee of $M (plus taxes) per month for the first 36 months; $M (plus taxes) per month for the following 36 months\": \"price term\"}]\n",
    "dict_index_t_ov=[{'Beta Test (BPO) of Data Integrity Services':'contract type','effective Oct 3, 2016':\"effective date\",\n",
    "                  \"RR Agreement\": \"parent contract name\",\"effective Jan 1, 2012\": \"parent effective date\",\n",
    "                  \"EMA\":\"parent contract name\",\"effective Jan 1, 2012\":\"parent effective date\"}]"
   ]
  },
  {
   "cell_type": "code",
   "execution_count": 10,
   "id": "elementary-japan",
   "metadata": {},
   "outputs": [
    {
     "name": "stdout",
     "output_type": "stream",
     "text": [
      "============================================================\n",
      "[Contract Overview: This is an Amendment and Restatement of the Master Services Cost bubbletea Agreement and service schedules (the Attachments).  This agreement covers services provided between and amongst ABC's Canadian and US legal entities for which there are (or will be) cost recovery \"Transfer Pricing\" between the providers and recipients of the services.  This update, part of the Cardinal project, further incorporates ABC restaurant USA as both a service provider and a service recipient.   The Attachments herein have been organized based on ABCs Functional Groups and Strategic Business Units (as applicable) in India and US Region and each of these have been formally approved by their respective Senior Executives.];[Sourcing Rationale: Regulatory];[Key T&C’s: 5-Year Term, auto renews for 1-year\n",
      "Services Schedule outlines the services provided, along with standards, reporting and Transfer pricing methodology and agreements that are implicit in this.];[Pricing Terms: Transfer Pricing based on cost allocations through transfer pricing agreements, guided by the Allocation Notes described in the Attachments.  Generally Cost Reimbursement and consistent with Regulation W principles.]\n",
      "============================================================\n",
      "[Contract Overview: This bubble tea price agreement with TestSupplier2 is to purchase additional Customer Based licenses in support of organic growth and project requirements. This is a good deal for the restaurant as it leverages a price hold which represents a 99.9% discount off list, first and second year maintenance and support capped at 0%, one time maintenance and support credit $222222.22 (plus taxes).  Total financial obligation of this agreement $ 6666666.66 USD (taxes included).];[Sourcing Rationale: Current supplier of database sofware];[Key T&C’s: Governed by the Master between parties.\n",
      "99% license discount\n",
      "$278,666.72 (plus taxes) one time maintenance and support credit\n",
      "0% maintenance/support cap for first and second annual renewal\n",
      "\n",
      "];[Pricing Terms: Supplier may invoice for the software and first year maintenance and support upon execution of the agreement. ]\n",
      "============================================================\n",
      "[Contract Overview: Purchase of eighty (80) TestSupplier2 Golden Gate - Processor Perpetual licenses and first year maintenance and support. This is a good deal for the restaurant; 83% discount off the list license, one time maintenance/support credit, technical support cap 0% for first and second term renewal and a two (2) year 73% price hold. Total financial obligation of this agreement for software and first year support/maintenance $291.103.95 USD (taxes included).];[Sourcing Rationale: Current supplier of software.];[Key T&C’s: Agreement to be governing by the Master (OLSA)\n",
      "50% discount off licenses\n",
      "0% cap on maintenance first and second year renewal\n",
      "One time maintenance/support credit in the amount of $33333.33 (plus taxes) \n",
      "73% price hold for two (2) years];[Pricing Terms: Supplier may invoice for software and first year maintenance and support upon execution of the agreement.]\n",
      "============================================================\n",
      "[Contract Overview: Intake # 1000753\n",
      "This is a purchase agreement with John Consulting Inc. for an additional 120 service units to support the Enterprise Security & Risk Services team. Total Committed Value:$222222 CAD including taxes.];[Sourcing Rationale: Supplier is currently providing the services to ABC.];[Key T&C’s: All terms and conditions of the Master remain in full effect. Additional CASL language has been added to this purchase agreement.];[Pricing Terms: Fixed Price engagement: $20,400 CAD including taxes]\n",
      "============================================================\n",
      "[Contract Overview: NDA for Bubbletea project.\n",
      "An integrated technical solution; (i) to replace soon to be unsupported core operating/trading systems and (ii) develop Cayrestaurant’s own USD General Ledger framework.]\n",
      "============================================================\n",
      "[Contract Overview: An amendment to ICN 66827 to engage TestSupplier for SoW services in support of the Incentive Compensation Management application.];[Sourcing Rationale: Provide a hosted service for compensation calculations and management to Wealth investment advisors.];[Key T&C’s: \tSecurity Risk Management provisions are governed by Article 13 of the EMA. \n",
      "\tABC Audit Rights are governed by Article 11.02 of the EMA; however, ABC data is housed in a known third party data centre and TestSupplier does not currently have audit rights. While TestSupplier does intend to eventually bring the solution in-house, this is an ongoing plan. TestSupplier has agreed to our standard audit rights for all other parts of the services and will be opened to audit. \n",
      "\tService Level Agreement established for key business requirements are set out in the ASP Tower with specific call-outs in the SOW\n",
      "\tLimitation of Liability for damages are governed by Article 16 of the EMA and all SOWs under the ASP Towers have an aggregate effect in the EMA.\n",
      "\tTestSupplier will license the ICM and all related software required to complete UAT and put the system into production. TestSupplier has granted broad irrevocable licensing terms to ABC with the latitude to use all project deliverables as necessary for internal business purposes by];[Pricing Terms: Fees for TestSupplier ICM Data History Premium access - $2,666.6/month for 7 months - $ 1,666.56 plus tax]\n",
      "============================================================\n",
      "[Contract Overview: Randomname is an Order Management System provider to one of our Equity clients.  In order to onboard the client, Randomname must perform configuration work and establish connectivity using FIX protocol with ABC for which they require a term agreement.];[Sourcing Rationale: Dash financial needs Info reach to establish connectivity];[Key T&C’s: The contract is for one year with automatic one year renewals after the initial period unless it is terminated in writing 30 days before the renewal date. the initial setup cost is 2,220.00 + tax and then a $666.00 +tax subscription cost per month.];[Pricing Terms: $333.00 + tax per month for the subscription.]\n",
      "============================================================\n",
      "[Contract Overview: ABC Standard 2-way Confidentiaity agreement between ABC and Terbium Labs, Inc.]\n",
      "============================================================\n",
      "[Contract Overview: Moonbeam has been providing janitorial services to the Wood Gundy branch for a number of years without a contract in place. Services include vacuuming, dusting, cleaning the kitchen and bathrooms, washing the kitchen floor, wiping down desks, empty garbage cans, and removing garbage from the premises. In FY14, Wood Gundy engaged Corporate Services to formalize the relationship by putting a contract in place. ]\n",
      "============================================================\n",
      "[Contract Overview: Intake # 1888888\n",
      "This is an agreement with TestSupplier3 India for the purchase of tickets to the TestSupplier3 Summit event and IT Symposium event. Total Committed Value is $117,198 USD (excluding taxes).];[Sourcing Rationale: Supplier is currently providing the Services to ABC.];[Key T&C’s: The ABC Supplier Code of Conduct has been executed for this Supplier. This Services Agreement is governed by the Master Client Services Agreement, as amended to include Canadian Anti-Spam Legislation (CASL) language. ];[Pricing Terms: Fixed Price: $117,198 USD excluding taxes. The line of business has requested that the contract amount be in USD in efforts to avoid increases due to conversation. The majority of the symposiums will be held in the US and]\n",
      "============================================================\n",
      "[Contract Overview: This is an amendment to renew the current Services Agreement with Hello Group India Hello  for an additional 3 year period. This supplier provides Field Examination services that will continue to be engaged by ABC Asset-Based Lending (“ABC ABL”) to perform client-specific assessments on a one-off basis. Total Committed Value is $0.0 MM.];[Sourcing Rationale: The line of business would like utilize the services of this vendor due to its ability to provide effective field examiner services in the industry.];[Key T&C’s: This agreement was drafted on ABC's Services Agreement and contains all of ABC's standard Supplier Risk Management provisions. This vendor has reviewed and executed the Supplier Code of Conduct Addendum. \n",
      "];[Pricing Terms: The price of each field exam is $11111, and it is estimated that approximately 20 exams will be conducted annually. Annual spend is estimated at $33,000 (excluding taxes). Total spend for the 3 year term is estimated at $600,000. (excluding taxes). It should be noted that initally the business pays for the cost of each examination however it is charged back to the ABC customer (net zero cost to ABC) therefore this is not a direct operating expense.\n",
      "]\n",
      "============================================================\n",
      "[Contract Overview: Intake # 222222\n",
      "Extension of existing contract by two years. Marketing and advertising services agreement with Ethnicity Multicultural Marketing Inc. (\"Ethnicity\") for the provision of adaptation services; ethnic creative services including trans-creation of the existing English language creative into other languages as requested by ABC; multicultural strategic insights and recommendations; and ethnic media planning and buying services.];[Sourcing Rationale: ABC has been partnering with Jack Advising Inc. (\"Prime\") for the adaptation and advertising services since 2006. \n",
      "In 2016, a business decision was made not to renew the contract with Prime and screen the market for the alternative service providers. \n",
      "As a result, Ethnicity was selected to provide services to ABC based on the following criteria's: (i) competitive pricing; (ii) well established reputation among other FI's, and (iii) agreement to ABC's contractual terms and conditions.  ];[Key T&C’s: Agreement is governed by ABC’s Supplier Risk Management (“SRM”) provisions.];[Pricing Terms: No change to the compensation model from the previous contract. The retainer fee for FY 2019 is $111,818 (including HST), that is paid to Ethnicity in monthly installments.]\n",
      "============================================================\n",
      "[Contract Overview: Amendment to the SW License and Support agreement under a Master for the purchase of HelloWord software.\n",
      "\n",
      "This is a 1-year extension of the license until May 2010 to ensure the contract will not expire while the LOB migrates to another provider. \n",
      "\n",
      "Hello Word  is suite of modules that provides a complete low latency solution for liquidity sourcing, pricing, distribution, order management, and auto hedging. \n",
      "\n",
      "All terms and conditions were negotiated and agreed upon by the LOB prior to sourcing involvement. ];[Sourcing Rationale: Current supplier ];[Key T&C’s: Software License agreement done under a fully SRM'd ABC SW Master template agreement.  T's and C's are governed by the Master, ICN 94. \n",
      "\n",
      "Cap of no more than 5% increase on the annual license fees and cap on annual maintenance of no more than 3%.\n",
      "\n",
      "This amendment amends the Fees to be paid and the Renewal Term obligations. \n",
      "\n",
      "Peter Bryce reviewed this amendment and indicated there is no legal risk. All business risk has been accepted by the LOB. ];[Pricing Terms: License fee of USD 880,000 + annual maintenance fee of USD 888,000 + pro rata maintenance fee for the first amendment USD 112,222 + taxes \n",
      "\n",
      "Amendment annual total: USD 666,666.08]\n",
      "============================================================\n",
      "[Contract Overview: Intake # 1000569\n",
      "Wwins has agreed to provide an FYI subscription credit of $55,555.00 after negotiations of better value and pricing.  The credit will be applied to current monetary commitment on active enrollment and usages.];[Sourcing Rationale: OEM supplier service credit];[Key T&C’s: This transaction will be subject to this credit transaction as well as the Master Business Services Agreement (the MBSA).\n",
      "]\n",
      "============================================================\n",
      "[Contract Overview: TestSupplier4 will perform indexing and classification Services in connection with certain mortgage documents to facilitate process improvements for Retail Operations. Financial Advisors will be able to scan mortgage applications directly to ECM. This facilitates quicker verification and identification of missing documents by Retail Operations. The project team is ready to roll-out the solution nationally which will eliminate/reduce the reliance on paper as well as the associated processing costs at TestSupplier4 (TestName).This SOW will introduce the use of ABC equivalent level 2 staff to perform the work. Mortgage scanning will eliminate the scanning component and costs from TestName. The remaining indexing component will be transitioned to TestSupplier4 from TestName. TestSupplier4 is a strategic partner and this SOW inherits more favourable BPO contractual discounts and terms than in the TestName agreement. Other benefits include better visibility and management of end-to-end business processes.];[Sourcing Rationale: 'RESL project is implementing the technology capability for the Advisors to use the MFDs to send in their docuements to ECM March 18, 2018.  Once the feature is enabled it will be available to all restauranting Centres (unable to avoid people from using the feature), therefore we need to ensure we have TTTs that can manage the indexing volume expected.  The current staffing in the DM will not be sufficient to meet the additional capacity expected once this capability is launched.  Due to current contract negotiations with TOS for the BPO contract, this opportunity was tabled to TOS once the negotiations for the BPO pricing were 66% finalized which was early-mid March 2019];[Key T&C’s: SOW under the TOS BPO Tower. All Tower terms and conditions will apply.\n",
      "];[Pricing Terms: Pricing terms will be governed by appendices 8.1 and 8.2 of the BPO Tower]\n",
      "============================================================\n",
      "[Contract Overview: Addendum/SOW to add new country corridors to existing current wire transfer solution (under fully SRM compliant/current MSA);  Total new incremental spend Approx $777,000. VVV based on estimated volumes.  No change to scope of services beyond expanded geographical offering.];[Key T&C’s: 7 new country corridors are added to ABC standard agreement forms that were tailored to retrofit to Earthport's unique services. Earthport will also reduce returns and investigations costs to $900.00 from $255USD as long as returns and investigations are less than 9% of total transactions for the month.  Return counts greater than 1% will be charged at a reduced rate of $666USD.  ];[Pricing Terms: See financial summary attached]\n",
      "============================================================\n",
      "[Contract Overview: Two way NDA between ABC and IBUBBLETEA Services, Inc. (\"Vendor\"). ABC is engaging Vendor about their translation APP, and as dicussions becomes more technical a NDA is required.]\n",
      "============================================================\n",
      "[Contract Overview: Service Agreement for Contingent Search, permanent staffing between ABC and  GITHUB Inc. (bbt Group).];[Sourcing Rationale: Supplier provides required services.];[Key T&C’s: ABC's standard Services Agreement for Contingent Search was used, and is MMM compliant. Supplier code of conduct, Global Reputation and Legal Risks Policy and ABC Global Hiring Policy are embed on the contract.];[Pricing Terms: Fixed Fee:  Estimated at CAD $666,000.00 (including taxes).  ABC will pay Supplier a fixed fee equal to 11% of each Successful Candidate's first year Base Salary, excluding any bonus or commission, which may be awarded to Candidate by ABC.]\n",
      "============================================================\n",
      "[Contract Overview: This SoW outlines the tasks that will be performed by John at the ABC Trust client locations or any other location as requested by ABC Trust Corporation.  TestSupplier3 will retrieve data from hard drives; wipe and dispose of laptops, desktops, tablets and any client data bearing devices as requested by ABC Trust.];[Sourcing Rationale: TestSupplier3 is currently providing these services for ABC Trust.];[Key T&C’s: This Amended and Restated Statement of Work (“SoW”) is made pursuant and is subject to the Master Consulting Services Agreement (the “Agreement”) between the Whatever  restaurant of Commerce (“ABC”) and John Technology Inc. (“SUPPLIER”) made as of the 1st day of December 2005, as amended.  All of the provisions of the Agreement are incorporated into this SoW except as otherwise provided herein. In the event of a conflict between the terms of this SoW and the Agreement, the terms of this SoW shall govern.\n",
      "This SoW contains data that is confidential and will not be disclosed outside ABC, duplicated or published for any purpose other than to evaluate this SoW.  All information stated within this SoW is provided in confidence and shall not be published or disclosed without SUPPLIER’S written permission.\n",
      "];[Pricing Terms: As per Section 8. Project Pricing of the Agreement.  Based on existing TestSupplier3 T&M Rates.\n",
      "TCV is an estimate based on hours of supplier time per request and number of expected requests.]\n"
     ]
    }
   ],
   "source": [
    "for i in df_new['contract_overview']:\n",
    "    print(\"=\"*60)\n",
    "    print(i)"
   ]
  },
  {
   "cell_type": "code",
   "execution_count": 22,
   "id": "mature-controversy",
   "metadata": {},
   "outputs": [],
   "source": [
    "train_ov=search_keyword_loc_old([i for i in df_new[\"contract_overview\"][0:4]],dict_index_tr_ov_new)\n",
    "test_ov=search_keyword_loc_old([df_new['contract_overview'][4],df_new['contract_overview'][5]],dict_index_t_ov_new)"
   ]
  },
  {
   "cell_type": "code",
   "execution_count": 23,
   "id": "involved-sucking",
   "metadata": {},
   "outputs": [
    {
     "data": {
      "application/vnd.jupyter.widget-view+json": {
       "model_id": "88dd70391a144e1fba75aad75a966644",
       "version_major": 2,
       "version_minor": 0
      },
      "text/plain": [
       "  0%|          | 0/4 [00:00<?, ?it/s]"
      ]
     },
     "metadata": {},
     "output_type": "display_data"
    },
    {
     "data": {
      "application/vnd.jupyter.widget-view+json": {
       "model_id": "c0d92940284740e8af8662aad398cb6b",
       "version_major": 2,
       "version_minor": 0
      },
      "text/plain": [
       "  0%|          | 0/2 [00:00<?, ?it/s]"
      ]
     },
     "metadata": {},
     "output_type": "display_data"
    }
   ],
   "source": [
    "convert_to_spacy(data=train_ov,path=\"/Users/fandi/Desktop/cibc_test/corups/train_ov.spacy\")\n",
    "convert_to_spacy(data=test_ov,path=\"/Users/fandi/Desktop/cibc_test/corups/dev_ov.spacy\")"
   ]
  },
  {
   "cell_type": "code",
   "execution_count": 14,
   "id": "competent-maintenance",
   "metadata": {},
   "outputs": [
    {
     "data": {
      "text/plain": [
       "[('[Contract Overview: NDA for Bubbletea project.\\nAn integrated technical solution; (i) to replace soon to be unsupported core operating/trading systems and (ii) develop Cayrestaurant’s own USD General Ledger framework.]',\n",
       "  {'entity': [(20, 23, 'contract type')]}),\n",
       " ('[Contract Overview: An amendment to ICN 66827 to engage TestSupplier for SoW services in support of the Incentive Compensation Management application.];[Sourcing Rationale: Provide a hosted service for compensation calculations and management to Wealth investment advisors.];[Key T&C’s: \\uf02d\\tSecurity Risk Management provisions are governed by Article 13 of the EMA. \\n\\uf02d\\tABC Audit Rights are governed by Article 11.02 of the EMA; however, ABC data is housed in a known third party data centre and TestSupplier does not currently have audit rights. While TestSupplier does intend to eventually bring the solution in-house, this is an ongoing plan. TestSupplier has agreed to our standard audit rights for all other parts of the services and will be opened to audit. \\n\\uf02d\\tService Level Agreement established for key business requirements are set out in the ASP Tower with specific call-outs in the SOW\\n\\uf02d\\tLimitation of Liability for damages are governed by Article 16 of the EMA and all SOWs under the ASP Towers have an aggregate effect in the EMA.\\n\\uf02d\\tTestSupplier will license the ICM and all related software required to complete UAT and put the system into production. TestSupplier has granted broad irrevocable licensing terms to ABC with the latitude to use all project deliverables as necessary for internal business purposes by];[Pricing Terms: Fees for TestSupplier ICM Data History Premium access - $2,666.6/month for 7 months - $ 1,666.56 plus tax]',\n",
       "  {'entity': [(73, 76, 'services')]})]"
      ]
     },
     "execution_count": 14,
     "metadata": {},
     "output_type": "execute_result"
    }
   ],
   "source": [
    "test_ov"
   ]
  },
  {
   "cell_type": "code",
   "execution_count": 24,
   "id": "union-rings",
   "metadata": {},
   "outputs": [
    {
     "name": "stdout",
     "output_type": "stream",
     "text": [
      "[!] To generate a more effective transformer-based config (GPU-only), install\n",
      "the spacy-transformers package and re-run this command. The config generated now\n",
      "does not use transformers.\n",
      "[i] Generated config template specific for your use case\n",
      "- Language: en\n",
      "- Pipeline: ner\n",
      "- Optimize for: efficiency\n",
      "- Hardware: CPU\n",
      "- Transformer: None\n",
      "[+] Auto-filled config with all values\n",
      "[+] Saved config\n",
      "C:\\Users\\fandi\\Desktop\\cibc_test\\config.cfg\n",
      "You can now add your data and train your pipeline:\n",
      "python -m spacy train config.cfg --paths.train ./train.spacy --paths.dev ./dev.spacy\n"
     ]
    },
    {
     "name": "stderr",
     "output_type": "stream",
     "text": [
      "2021-06-01 09:45:34.176370: W tensorflow/stream_executor/platform/default/dso_loader.cc:60] Could not load dynamic library 'cudart64_110.dll'; dlerror: cudart64_110.dll not found\n",
      "2021-06-01 09:45:34.176600: I tensorflow/stream_executor/cuda/cudart_stub.cc:29] Ignore above cudart dlerror if you do not have a GPU set up on your machine.\n"
     ]
    }
   ],
   "source": [
    "!python -m spacy init config --lang en --pipeline ner C:/Users/fandi/Desktop/cibc_test/config.cfg --force"
   ]
  },
  {
   "cell_type": "code",
   "execution_count": 25,
   "id": "ecological-channels",
   "metadata": {},
   "outputs": [
    {
     "name": "stdout",
     "output_type": "stream",
     "text": [
      "[i] Using CPU\n",
      "\u001b[1m\n",
      "=========================== Initializing pipeline ===========================\u001b[0m\n",
      "[+] Initialized pipeline\n",
      "\u001b[1m\n",
      "============================= Training pipeline =============================\u001b[0m\n",
      "[i] Pipeline: ['tok2vec', 'ner']\n",
      "[i] Initial learn rate: 0.001\n",
      "E    #       LOSS TOK2VEC  LOSS NER  ENTS_F  ENTS_P  ENTS_R  SCORE \n",
      "---  ------  ------------  --------  ------  ------  ------  ------\n",
      "  0       0          0.00     83.00    0.00    0.00    0.00    0.00\n",
      "  3      15          6.24   1309.83    0.00    0.00    0.00    0.00\n",
      "  7      30        163.23    170.05    0.00    0.00    0.00    0.00\n",
      " 11      45        322.18    202.50    0.00    0.00    0.00    0.00\n",
      " 15      60       6819.73    916.31    0.00    0.00    0.00    0.00\n",
      " 18      75        739.65    680.72   28.57   50.00   20.00    0.29\n",
      " 22      90         97.70    144.05   28.57   50.00   20.00    0.29\n",
      " 26     105        951.05    253.58   28.57   50.00   20.00    0.29\n",
      " 30     120       2243.41    272.37   28.57   50.00   20.00    0.29\n",
      " 33     135       1386.02    578.87   28.57   50.00   20.00    0.29\n",
      " 37     150         46.27     94.26   28.57   50.00   20.00    0.29\n",
      "[+] Saved pipeline to output directory\n",
      "C:\\Users\\fandi\\Desktop\\cibc_test\\corups\\model-last\n"
     ]
    },
    {
     "name": "stderr",
     "output_type": "stream",
     "text": [
      "2021-06-01 09:46:14.221963: W tensorflow/stream_executor/platform/default/dso_loader.cc:60] Could not load dynamic library 'cudart64_110.dll'; dlerror: cudart64_110.dll not found\n",
      "2021-06-01 09:46:14.222144: I tensorflow/stream_executor/cuda/cudart_stub.cc:29] Ignore above cudart dlerror if you do not have a GPU set up on your machine.\n",
      "[2021-06-01 09:46:38,630] [INFO] Set up nlp object from config\n",
      "[2021-06-01 09:46:38,694] [INFO] Pipeline: ['tok2vec', 'ner']\n",
      "[2021-06-01 09:46:38,717] [INFO] Created vocabulary\n",
      "[2021-06-01 09:46:38,717] [INFO] Finished initializing nlp object\n",
      "[2021-06-01 09:46:39,711] [INFO] Initialized pipeline components: ['tok2vec', 'ner']\n"
     ]
    }
   ],
   "source": [
    "!python -m spacy train C:/Users/fandi/Desktop/cibc_test/config.cfg \\\n",
    "    --output C:/Users/fandi/Desktop/cibc_test/corups/  \\\n",
    "        --paths.train C:/Users/fandi/Desktop/cibc_test/corups/train_ov.spacy \\\n",
    "            --paths.dev C:/Users/fandi/Desktop/cibc_test/corups/dev_ov.spacy \\\n",
    "                --training.eval_frequency 15 --training.max_steps 150"
   ]
  },
  {
   "cell_type": "code",
   "execution_count": 26,
   "id": "widespread-hygiene",
   "metadata": {},
   "outputs": [],
   "source": [
    "nlp2 = spacy.load(R\"C:\\Users\\fandi\\Desktop\\cibc_test\\corups\\model-best\") #Load the model"
   ]
  },
  {
   "cell_type": "code",
   "execution_count": 27,
   "id": "billion-combination",
   "metadata": {},
   "outputs": [],
   "source": [
    "def test_model(data,model):\n",
    "    doc_list=[]\n",
    "    dict_res={\"\"}\n",
    "    for i in data:\n",
    "        doc=model(i)\n",
    "        doc_list.append(model(i))\n",
    "        for ent in doc.ents:\n",
    "            print(ent.text, ent.label_)\n",
    "        spacy.displacy.render(doc, style=\"ent\", jupyter=True) # display in Jupyter\n",
    "        print(\"=\"*60)\n",
    "    return doc_list"
   ]
  },
  {
   "cell_type": "code",
   "execution_count": 31,
   "id": "elder-newport",
   "metadata": {},
   "outputs": [
    {
     "data": {
      "text/plain": [
       "0     [Contract Overview: This is an Amendment and R...\n",
       "1     [Contract Overview: This bubble tea price agre...\n",
       "2     [Contract Overview: Purchase of eighty (80) Te...\n",
       "3     [Contract Overview: Intake # 1000753\\nThis is ...\n",
       "4     [Contract Overview: NDA for Bubbletea project....\n",
       "5     [Contract Overview: An amendment to ICN 66827 ...\n",
       "6     [Contract Overview: Randomname is an Order Man...\n",
       "7     [Contract Overview: ABC Standard 2-way Confide...\n",
       "8     [Contract Overview: Moonbeam has been providin...\n",
       "9     [Contract Overview: Intake # 1888888\\nThis is ...\n",
       "10    [Contract Overview: This is an amendment to re...\n",
       "11    [Contract Overview: Intake # 222222\\nExtension...\n",
       "12    [Contract Overview: Amendment to the SW Licens...\n",
       "13    [Contract Overview: Intake # 1000569\\nWwins ha...\n",
       "14    [Contract Overview: TestSupplier4 will perform...\n",
       "15    [Contract Overview: Addendum/SOW to add new co...\n",
       "16    [Contract Overview: Two way NDA between ABC an...\n",
       "17    [Contract Overview: Service Agreement for Cont...\n",
       "18    [Contract Overview: This SoW outlines the task...\n",
       "Name: contract_overview, dtype: object"
      ]
     },
     "execution_count": 31,
     "metadata": {},
     "output_type": "execute_result"
    }
   ],
   "source": []
  },
  {
   "cell_type": "code",
   "execution_count": 32,
   "id": "bizarre-mistress",
   "metadata": {
    "scrolled": false
   },
   "outputs": [
    {
     "name": "stdout",
     "output_type": "stream",
     "text": [
      "Amendment contract type\n",
      "Master Services Cost bubbletea Agreement contract detail\n",
      "5-Year Term, auto renews for 1-year\n",
      "Services Schedule outlines the services provided, along with standards, reporting and Transfer pricing methodology and agreements that are implicit in this.];[Pricing Terms: Transfer Pricing based on cost allocations through transfer pricing agreements, guided by the Allocation Notes described in the Attachments.  Generally Cost Reimbursement and consistent with Regulation W principles.] length\n"
     ]
    },
    {
     "data": {
      "text/html": [
       "<span class=\"tex2jax_ignore\"><div class=\"entities\" style=\"line-height: 2.5; direction: ltr\">[Contract Overview: This is an \n",
       "<mark class=\"entity\" style=\"background: #ddd; padding: 0.45em 0.6em; margin: 0 0.25em; line-height: 1; border-radius: 0.35em;\">\n",
       "    Amendment\n",
       "    <span style=\"font-size: 0.8em; font-weight: bold; line-height: 1; border-radius: 0.35em; vertical-align: middle; margin-left: 0.5rem\">contract type</span>\n",
       "</mark>\n",
       " and Restatement of the \n",
       "<mark class=\"entity\" style=\"background: #ddd; padding: 0.45em 0.6em; margin: 0 0.25em; line-height: 1; border-radius: 0.35em;\">\n",
       "    Master Services Cost bubbletea Agreement\n",
       "    <span style=\"font-size: 0.8em; font-weight: bold; line-height: 1; border-radius: 0.35em; vertical-align: middle; margin-left: 0.5rem\">contract detail</span>\n",
       "</mark>\n",
       " and service schedules (the Attachments).  This agreement covers services provided between and amongst ABC's Canadian and US legal entities for which there are (or will be) cost recovery &quot;Transfer Pricing&quot; between the providers and recipients of the services.  This update, part of the Cardinal project, further incorporates ABC restaurant USA as both a service provider and a service recipient.   The Attachments herein have been organized based on ABCs Functional Groups and Strategic Business Units (as applicable) in India and US Region and each of these have been formally approved by their respective Senior Executives.];[Sourcing Rationale: Regulatory];[Key T&amp;C’s: \n",
       "<mark class=\"entity\" style=\"background: #ddd; padding: 0.45em 0.6em; margin: 0 0.25em; line-height: 1; border-radius: 0.35em;\">\n",
       "    5-Year Term, auto renews for 1-year\n",
       "Services Schedule outlines the services provided, along with standards, reporting and Transfer pricing methodology and agreements that are implicit in this.];[Pricing Terms: Transfer Pricing based on cost allocations through transfer pricing agreements, guided by the Allocation Notes described in the Attachments.  Generally Cost Reimbursement and consistent with Regulation W principles.]\n",
       "    <span style=\"font-size: 0.8em; font-weight: bold; line-height: 1; border-radius: 0.35em; vertical-align: middle; margin-left: 0.5rem\">length</span>\n",
       "</mark>\n",
       "</div></span>"
      ],
      "text/plain": [
       "<IPython.core.display.HTML object>"
      ]
     },
     "metadata": {},
     "output_type": "display_data"
    },
    {
     "name": "stdout",
     "output_type": "stream",
     "text": [
      "============================================================\n",
      "bubble tea contract type\n",
      "purchase additional Customer Based licenses contract detail\n",
      "$278,666.72 price term\n",
      "support cap contract type\n"
     ]
    },
    {
     "data": {
      "text/html": [
       "<span class=\"tex2jax_ignore\"><div class=\"entities\" style=\"line-height: 2.5; direction: ltr\">[Contract Overview: This \n",
       "<mark class=\"entity\" style=\"background: #ddd; padding: 0.45em 0.6em; margin: 0 0.25em; line-height: 1; border-radius: 0.35em;\">\n",
       "    bubble tea\n",
       "    <span style=\"font-size: 0.8em; font-weight: bold; line-height: 1; border-radius: 0.35em; vertical-align: middle; margin-left: 0.5rem\">contract type</span>\n",
       "</mark>\n",
       " price agreement with TestSupplier2 is to \n",
       "<mark class=\"entity\" style=\"background: #ddd; padding: 0.45em 0.6em; margin: 0 0.25em; line-height: 1; border-radius: 0.35em;\">\n",
       "    purchase additional Customer Based licenses\n",
       "    <span style=\"font-size: 0.8em; font-weight: bold; line-height: 1; border-radius: 0.35em; vertical-align: middle; margin-left: 0.5rem\">contract detail</span>\n",
       "</mark>\n",
       " in support of organic growth and project requirements. This is a good deal for the restaurant as it leverages a price hold which represents a 99.9% discount off list, first and second year maintenance and support capped at 0%, one time maintenance and support credit $222222.22 (plus taxes).  Total financial obligation of this agreement $ 6666666.66 USD (taxes included).];[Sourcing Rationale: Current supplier of database sofware];[Key T&amp;C’s: Governed by the Master between parties.</br>99% license discount</br>\n",
       "<mark class=\"entity\" style=\"background: #ddd; padding: 0.45em 0.6em; margin: 0 0.25em; line-height: 1; border-radius: 0.35em;\">\n",
       "    $278,666.72\n",
       "    <span style=\"font-size: 0.8em; font-weight: bold; line-height: 1; border-radius: 0.35em; vertical-align: middle; margin-left: 0.5rem\">price term</span>\n",
       "</mark>\n",
       " (plus taxes) one time maintenance and support credit</br>0% maintenance/\n",
       "<mark class=\"entity\" style=\"background: #ddd; padding: 0.45em 0.6em; margin: 0 0.25em; line-height: 1; border-radius: 0.35em;\">\n",
       "    support cap\n",
       "    <span style=\"font-size: 0.8em; font-weight: bold; line-height: 1; border-radius: 0.35em; vertical-align: middle; margin-left: 0.5rem\">contract type</span>\n",
       "</mark>\n",
       " for first and second annual renewal</br></br>];[Pricing Terms: Supplier may invoice for the software and first year maintenance and support upon execution of the agreement. ]</div></span>"
      ],
      "text/plain": [
       "<IPython.core.display.HTML object>"
      ]
     },
     "metadata": {},
     "output_type": "display_data"
    },
    {
     "name": "stdout",
     "output_type": "stream",
     "text": [
      "============================================================\n",
      "Golden Gate contract type\n",
      "Processor Perpetual licenses contract detail\n",
      "$33333.33 price term\n"
     ]
    },
    {
     "data": {
      "text/html": [
       "<span class=\"tex2jax_ignore\"><div class=\"entities\" style=\"line-height: 2.5; direction: ltr\">[Contract Overview: Purchase of eighty (80) TestSupplier2 \n",
       "<mark class=\"entity\" style=\"background: #ddd; padding: 0.45em 0.6em; margin: 0 0.25em; line-height: 1; border-radius: 0.35em;\">\n",
       "    Golden Gate\n",
       "    <span style=\"font-size: 0.8em; font-weight: bold; line-height: 1; border-radius: 0.35em; vertical-align: middle; margin-left: 0.5rem\">contract type</span>\n",
       "</mark>\n",
       " - \n",
       "<mark class=\"entity\" style=\"background: #ddd; padding: 0.45em 0.6em; margin: 0 0.25em; line-height: 1; border-radius: 0.35em;\">\n",
       "    Processor Perpetual licenses\n",
       "    <span style=\"font-size: 0.8em; font-weight: bold; line-height: 1; border-radius: 0.35em; vertical-align: middle; margin-left: 0.5rem\">contract detail</span>\n",
       "</mark>\n",
       " and first year maintenance and support. This is a good deal for the restaurant; 83% discount off the list license, one time maintenance/support credit, technical support cap 0% for first and second term renewal and a two (2) year 73% price hold. Total financial obligation of this agreement for software and first year support/maintenance $291.103.95 USD (taxes included).];[Sourcing Rationale: Current supplier of software.];[Key T&amp;C’s: Agreement to be governing by the Master (OLSA)</br>50% discount off licenses</br>0% cap on maintenance first and second year renewal</br>One time maintenance/support credit in the amount of \n",
       "<mark class=\"entity\" style=\"background: #ddd; padding: 0.45em 0.6em; margin: 0 0.25em; line-height: 1; border-radius: 0.35em;\">\n",
       "    $33333.33\n",
       "    <span style=\"font-size: 0.8em; font-weight: bold; line-height: 1; border-radius: 0.35em; vertical-align: middle; margin-left: 0.5rem\">price term</span>\n",
       "</mark>\n",
       " (plus taxes) </br>73% price hold for two (2) years];[Pricing Terms: Supplier may invoice for software and first year maintenance and support upon execution of the agreement.]</div></span>"
      ],
      "text/plain": [
       "<IPython.core.display.HTML object>"
      ]
     },
     "metadata": {},
     "output_type": "display_data"
    },
    {
     "name": "stdout",
     "output_type": "stream",
     "text": [
      "============================================================\n",
      "purchase agreement contract type\n",
      "Enterprise Security & Risk Services team contract detail\n",
      "$20,400 price term\n"
     ]
    },
    {
     "data": {
      "text/html": [
       "<span class=\"tex2jax_ignore\"><div class=\"entities\" style=\"line-height: 2.5; direction: ltr\">[Contract Overview: Intake # 1000753</br>This is a \n",
       "<mark class=\"entity\" style=\"background: #ddd; padding: 0.45em 0.6em; margin: 0 0.25em; line-height: 1; border-radius: 0.35em;\">\n",
       "    purchase agreement\n",
       "    <span style=\"font-size: 0.8em; font-weight: bold; line-height: 1; border-radius: 0.35em; vertical-align: middle; margin-left: 0.5rem\">contract type</span>\n",
       "</mark>\n",
       " with John Consulting Inc. for an additional 120 service units to support the \n",
       "<mark class=\"entity\" style=\"background: #ddd; padding: 0.45em 0.6em; margin: 0 0.25em; line-height: 1; border-radius: 0.35em;\">\n",
       "    Enterprise Security &amp; Risk Services team\n",
       "    <span style=\"font-size: 0.8em; font-weight: bold; line-height: 1; border-radius: 0.35em; vertical-align: middle; margin-left: 0.5rem\">contract detail</span>\n",
       "</mark>\n",
       ". Total Committed Value:$222222 CAD including taxes.];[Sourcing Rationale: Supplier is currently providing the services to ABC.];[Key T&amp;C’s: All terms and conditions of the Master remain in full effect. Additional CASL language has been added to this purchase agreement.];[Pricing Terms: Fixed Price engagement: \n",
       "<mark class=\"entity\" style=\"background: #ddd; padding: 0.45em 0.6em; margin: 0 0.25em; line-height: 1; border-radius: 0.35em;\">\n",
       "    $20,400\n",
       "    <span style=\"font-size: 0.8em; font-weight: bold; line-height: 1; border-radius: 0.35em; vertical-align: middle; margin-left: 0.5rem\">price term</span>\n",
       "</mark>\n",
       " CAD including taxes]</div></span>"
      ],
      "text/plain": [
       "<IPython.core.display.HTML object>"
      ]
     },
     "metadata": {},
     "output_type": "display_data"
    },
    {
     "name": "stdout",
     "output_type": "stream",
     "text": [
      "============================================================\n"
     ]
    },
    {
     "name": "stderr",
     "output_type": "stream",
     "text": [
      "C:\\Users\\fandi\\Anaconda3\\Anaconda3\\envs\\workspace\\lib\\site-packages\\spacy\\displacy\\__init__.py:189: UserWarning: [W006] No entities to visualize found in Doc object. If this is surprising to you, make sure the Doc was processed using a model that supports named entity recognition, and check the `doc.ents` property manually if necessary.\n",
      "  warnings.warn(Warnings.W006)\n"
     ]
    },
    {
     "data": {
      "text/html": [
       "<span class=\"tex2jax_ignore\"><div class=\"entities\" style=\"line-height: 2.5; direction: ltr\">[Contract Overview: NDA for Bubbletea project.</br>An integrated technical solution; (i) to replace soon to be unsupported core operating/trading systems and (ii) develop Cayrestaurant’s own USD General Ledger framework.]</div></span>"
      ],
      "text/plain": [
       "<IPython.core.display.HTML object>"
      ]
     },
     "metadata": {},
     "output_type": "display_data"
    },
    {
     "name": "stdout",
     "output_type": "stream",
     "text": [
      "============================================================\n",
      "$2,666.6 price term\n",
      "$ 1,666.56 price term\n"
     ]
    },
    {
     "data": {
      "text/html": [
       "<span class=\"tex2jax_ignore\"><div class=\"entities\" style=\"line-height: 2.5; direction: ltr\">[Contract Overview: An amendment to ICN 66827 to engage TestSupplier for SoW services in support of the Incentive Compensation Management application.];[Sourcing Rationale: Provide a hosted service for compensation calculations and management to Wealth investment advisors.];[Key T&amp;C’s: \tSecurity Risk Management provisions are governed by Article 13 of the EMA. </br>\tABC Audit Rights are governed by Article 11.02 of the EMA; however, ABC data is housed in a known third party data centre and TestSupplier does not currently have audit rights. While TestSupplier does intend to eventually bring the solution in-house, this is an ongoing plan. TestSupplier has agreed to our standard audit rights for all other parts of the services and will be opened to audit. </br>\tService Level Agreement established for key business requirements are set out in the ASP Tower with specific call-outs in the SOW</br>\tLimitation of Liability for damages are governed by Article 16 of the EMA and all SOWs under the ASP Towers have an aggregate effect in the EMA.</br>\tTestSupplier will license the ICM and all related software required to complete UAT and put the system into production. TestSupplier has granted broad irrevocable licensing terms to ABC with the latitude to use all project deliverables as necessary for internal business purposes by];[Pricing Terms: Fees for TestSupplier ICM Data History Premium access - \n",
       "<mark class=\"entity\" style=\"background: #ddd; padding: 0.45em 0.6em; margin: 0 0.25em; line-height: 1; border-radius: 0.35em;\">\n",
       "    $2,666.6\n",
       "    <span style=\"font-size: 0.8em; font-weight: bold; line-height: 1; border-radius: 0.35em; vertical-align: middle; margin-left: 0.5rem\">price term</span>\n",
       "</mark>\n",
       "/month for 7 months - \n",
       "<mark class=\"entity\" style=\"background: #ddd; padding: 0.45em 0.6em; margin: 0 0.25em; line-height: 1; border-radius: 0.35em;\">\n",
       "    $ 1,666.56\n",
       "    <span style=\"font-size: 0.8em; font-weight: bold; line-height: 1; border-radius: 0.35em; vertical-align: middle; margin-left: 0.5rem\">price term</span>\n",
       "</mark>\n",
       " plus tax]</div></span>"
      ],
      "text/plain": [
       "<IPython.core.display.HTML object>"
      ]
     },
     "metadata": {},
     "output_type": "display_data"
    },
    {
     "name": "stdout",
     "output_type": "stream",
     "text": [
      "============================================================\n",
      "$666.00 price term\n",
      "$333.00 price term\n"
     ]
    },
    {
     "data": {
      "text/html": [
       "<span class=\"tex2jax_ignore\"><div class=\"entities\" style=\"line-height: 2.5; direction: ltr\">[Contract Overview: Randomname is an Order Management System provider to one of our Equity clients.  In order to onboard the client, Randomname must perform configuration work and establish connectivity using FIX protocol with ABC for which they require a term agreement.];[Sourcing Rationale: Dash financial needs Info reach to establish connectivity];[Key T&amp;C’s: The contract is for one year with automatic one year renewals after the initial period unless it is terminated in writing 30 days before the renewal date. the initial setup cost is 2,220.00 + tax and then a \n",
       "<mark class=\"entity\" style=\"background: #ddd; padding: 0.45em 0.6em; margin: 0 0.25em; line-height: 1; border-radius: 0.35em;\">\n",
       "    $666.00\n",
       "    <span style=\"font-size: 0.8em; font-weight: bold; line-height: 1; border-radius: 0.35em; vertical-align: middle; margin-left: 0.5rem\">price term</span>\n",
       "</mark>\n",
       " +tax subscription cost per month.];[Pricing Terms: \n",
       "<mark class=\"entity\" style=\"background: #ddd; padding: 0.45em 0.6em; margin: 0 0.25em; line-height: 1; border-radius: 0.35em;\">\n",
       "    $333.00\n",
       "    <span style=\"font-size: 0.8em; font-weight: bold; line-height: 1; border-radius: 0.35em; vertical-align: middle; margin-left: 0.5rem\">price term</span>\n",
       "</mark>\n",
       " + tax per month for the subscription.]</div></span>"
      ],
      "text/plain": [
       "<IPython.core.display.HTML object>"
      ]
     },
     "metadata": {},
     "output_type": "display_data"
    },
    {
     "name": "stdout",
     "output_type": "stream",
     "text": [
      "============================================================\n"
     ]
    },
    {
     "data": {
      "text/html": [
       "<span class=\"tex2jax_ignore\"><div class=\"entities\" style=\"line-height: 2.5; direction: ltr\">[Contract Overview: ABC Standard 2-way Confidentiaity agreement between ABC and Terbium Labs, Inc.]</div></span>"
      ],
      "text/plain": [
       "<IPython.core.display.HTML object>"
      ]
     },
     "metadata": {},
     "output_type": "display_data"
    },
    {
     "name": "stdout",
     "output_type": "stream",
     "text": [
      "============================================================\n"
     ]
    },
    {
     "data": {
      "text/html": [
       "<span class=\"tex2jax_ignore\"><div class=\"entities\" style=\"line-height: 2.5; direction: ltr\">[Contract Overview: Moonbeam has been providing janitorial services to the Wood Gundy branch for a number of years without a contract in place. Services include vacuuming, dusting, cleaning the kitchen and bathrooms, washing the kitchen floor, wiping down desks, empty garbage cans, and removing garbage from the premises. In FY14, Wood Gundy engaged Corporate Services to formalize the relationship by putting a contract in place. ]</div></span>"
      ],
      "text/plain": [
       "<IPython.core.display.HTML object>"
      ]
     },
     "metadata": {},
     "output_type": "display_data"
    },
    {
     "name": "stdout",
     "output_type": "stream",
     "text": [
      "============================================================\n"
     ]
    },
    {
     "data": {
      "text/html": [
       "<span class=\"tex2jax_ignore\"><div class=\"entities\" style=\"line-height: 2.5; direction: ltr\">[Contract Overview: Intake # 1888888</br>This is an agreement with TestSupplier3 India for the purchase of tickets to the TestSupplier3 Summit event and IT Symposium event. Total Committed Value is $117,198 USD (excluding taxes).];[Sourcing Rationale: Supplier is currently providing the Services to ABC.];[Key T&amp;C’s: The ABC Supplier Code of Conduct has been executed for this Supplier. This Services Agreement is governed by the Master Client Services Agreement, as amended to include Canadian Anti-Spam Legislation (CASL) language. ];[Pricing Terms: Fixed Price: $117,198 USD excluding taxes. The line of business has requested that the contract amount be in USD in efforts to avoid increases due to conversation. The majority of the symposiums will be held in the US and]</div></span>"
      ],
      "text/plain": [
       "<IPython.core.display.HTML object>"
      ]
     },
     "metadata": {},
     "output_type": "display_data"
    },
    {
     "name": "stdout",
     "output_type": "stream",
     "text": [
      "============================================================\n",
      "$33,000 price term\n"
     ]
    },
    {
     "data": {
      "text/html": [
       "<span class=\"tex2jax_ignore\"><div class=\"entities\" style=\"line-height: 2.5; direction: ltr\">[Contract Overview: This is an amendment to renew the current Services Agreement with Hello Group India Hello  for an additional 3 year period. This supplier provides Field Examination services that will continue to be engaged by ABC Asset-Based Lending (“ABC ABL”) to perform client-specific assessments on a one-off basis. Total Committed Value is $0.0 MM.];[Sourcing Rationale: The line of business would like utilize the services of this vendor due to its ability to provide effective field examiner services in the industry.];[Key T&amp;C’s: This agreement was drafted on ABC's Services Agreement and contains all of ABC's standard Supplier Risk Management provisions. This vendor has reviewed and executed the Supplier Code of Conduct Addendum. </br>];[Pricing Terms: The price of each field exam is $11111, and it is estimated that approximately 20 exams will be conducted annually. Annual spend is estimated at \n",
       "<mark class=\"entity\" style=\"background: #ddd; padding: 0.45em 0.6em; margin: 0 0.25em; line-height: 1; border-radius: 0.35em;\">\n",
       "    $33,000\n",
       "    <span style=\"font-size: 0.8em; font-weight: bold; line-height: 1; border-radius: 0.35em; vertical-align: middle; margin-left: 0.5rem\">price term</span>\n",
       "</mark>\n",
       " (excluding taxes). Total spend for the 3 year term is estimated at $600,000. (excluding taxes). It should be noted that initally the business pays for the cost of each examination however it is charged back to the ABC customer (net zero cost to ABC) therefore this is not a direct operating expense.</br>]</div></span>"
      ],
      "text/plain": [
       "<IPython.core.display.HTML object>"
      ]
     },
     "metadata": {},
     "output_type": "display_data"
    },
    {
     "name": "stdout",
     "output_type": "stream",
     "text": [
      "============================================================\n"
     ]
    },
    {
     "data": {
      "text/html": [
       "<span class=\"tex2jax_ignore\"><div class=\"entities\" style=\"line-height: 2.5; direction: ltr\">[Contract Overview: Intake # 222222</br>Extension of existing contract by two years. Marketing and advertising services agreement with Ethnicity Multicultural Marketing Inc. (&quot;Ethnicity&quot;) for the provision of adaptation services; ethnic creative services including trans-creation of the existing English language creative into other languages as requested by ABC; multicultural strategic insights and recommendations; and ethnic media planning and buying services.];[Sourcing Rationale: ABC has been partnering with Jack Advising Inc. (&quot;Prime&quot;) for the adaptation and advertising services since 2006. </br>In 2016, a business decision was made not to renew the contract with Prime and screen the market for the alternative service providers. </br>As a result, Ethnicity was selected to provide services to ABC based on the following criteria's: (i) competitive pricing; (ii) well established reputation among other FI's, and (iii) agreement to ABC's contractual terms and conditions.  ];[Key T&amp;C’s: Agreement is governed by ABC’s Supplier Risk Management (“SRM”) provisions.];[Pricing Terms: No change to the compensation model from the previous contract. The retainer fee for FY 2019 is $111,818 (including HST), that is paid to Ethnicity in monthly installments.]</div></span>"
      ],
      "text/plain": [
       "<IPython.core.display.HTML object>"
      ]
     },
     "metadata": {},
     "output_type": "display_data"
    },
    {
     "name": "stdout",
     "output_type": "stream",
     "text": [
      "============================================================\n"
     ]
    },
    {
     "data": {
      "text/html": [
       "<span class=\"tex2jax_ignore\"><div class=\"entities\" style=\"line-height: 2.5; direction: ltr\">[Contract Overview: Amendment to the SW License and Support agreement under a Master for the purchase of HelloWord software.</br></br>This is a 1-year extension of the license until May 2010 to ensure the contract will not expire while the LOB migrates to another provider. </br></br>Hello Word  is suite of modules that provides a complete low latency solution for liquidity sourcing, pricing, distribution, order management, and auto hedging. </br></br>All terms and conditions were negotiated and agreed upon by the LOB prior to sourcing involvement. ];[Sourcing Rationale: Current supplier ];[Key T&amp;C’s: Software License agreement done under a fully SRM'd ABC SW Master template agreement.  T's and C's are governed by the Master, ICN 94. </br></br>Cap of no more than 5% increase on the annual license fees and cap on annual maintenance of no more than 3%.</br></br>This amendment amends the Fees to be paid and the Renewal Term obligations. </br></br>Peter Bryce reviewed this amendment and indicated there is no legal risk. All business risk has been accepted by the LOB. ];[Pricing Terms: License fee of USD 880,000 + annual maintenance fee of USD 888,000 + pro rata maintenance fee for the first amendment USD 112,222 + taxes </br></br>Amendment annual total: USD 666,666.08]</div></span>"
      ],
      "text/plain": [
       "<IPython.core.display.HTML object>"
      ]
     },
     "metadata": {},
     "output_type": "display_data"
    },
    {
     "name": "stdout",
     "output_type": "stream",
     "text": [
      "============================================================\n",
      "$55,555.00 price term\n"
     ]
    },
    {
     "data": {
      "text/html": [
       "<span class=\"tex2jax_ignore\"><div class=\"entities\" style=\"line-height: 2.5; direction: ltr\">[Contract Overview: Intake # 1000569</br>Wwins has agreed to provide an FYI subscription credit of \n",
       "<mark class=\"entity\" style=\"background: #ddd; padding: 0.45em 0.6em; margin: 0 0.25em; line-height: 1; border-radius: 0.35em;\">\n",
       "    $55,555.00\n",
       "    <span style=\"font-size: 0.8em; font-weight: bold; line-height: 1; border-radius: 0.35em; vertical-align: middle; margin-left: 0.5rem\">price term</span>\n",
       "</mark>\n",
       " after negotiations of better value and pricing.  The credit will be applied to current monetary commitment on active enrollment and usages.];[Sourcing Rationale: OEM supplier service credit];[Key T&amp;C’s: This transaction will be subject to this credit transaction as well as the Master Business Services Agreement (the MBSA).</br>]</div></span>"
      ],
      "text/plain": [
       "<IPython.core.display.HTML object>"
      ]
     },
     "metadata": {},
     "output_type": "display_data"
    },
    {
     "name": "stdout",
     "output_type": "stream",
     "text": [
      "============================================================\n",
      "mid March 2019];[Key contract detail\n"
     ]
    },
    {
     "data": {
      "text/html": [
       "<span class=\"tex2jax_ignore\"><div class=\"entities\" style=\"line-height: 2.5; direction: ltr\">[Contract Overview: TestSupplier4 will perform indexing and classification Services in connection with certain mortgage documents to facilitate process improvements for Retail Operations. Financial Advisors will be able to scan mortgage applications directly to ECM. This facilitates quicker verification and identification of missing documents by Retail Operations. The project team is ready to roll-out the solution nationally which will eliminate/reduce the reliance on paper as well as the associated processing costs at TestSupplier4 (TestName).This SOW will introduce the use of ABC equivalent level 2 staff to perform the work. Mortgage scanning will eliminate the scanning component and costs from TestName. The remaining indexing component will be transitioned to TestSupplier4 from TestName. TestSupplier4 is a strategic partner and this SOW inherits more favourable BPO contractual discounts and terms than in the TestName agreement. Other benefits include better visibility and management of end-to-end business processes.];[Sourcing Rationale: 'RESL project is implementing the technology capability for the Advisors to use the MFDs to send in their docuements to ECM March 18, 2018.  Once the feature is enabled it will be available to all restauranting Centres (unable to avoid people from using the feature), therefore we need to ensure we have TTTs that can manage the indexing volume expected.  The current staffing in the DM will not be sufficient to meet the additional capacity expected once this capability is launched.  Due to current contract negotiations with TOS for the BPO contract, this opportunity was tabled to TOS once the negotiations for the BPO pricing were 66% finalized which was early-\n",
       "<mark class=\"entity\" style=\"background: #ddd; padding: 0.45em 0.6em; margin: 0 0.25em; line-height: 1; border-radius: 0.35em;\">\n",
       "    mid March 2019];[Key\n",
       "    <span style=\"font-size: 0.8em; font-weight: bold; line-height: 1; border-radius: 0.35em; vertical-align: middle; margin-left: 0.5rem\">contract detail</span>\n",
       "</mark>\n",
       " T&amp;C’s: SOW under the TOS BPO Tower. All Tower terms and conditions will apply.</br>];[Pricing Terms: Pricing terms will be governed by appendices 8.1 and 8.2 of the BPO Tower]</div></span>"
      ],
      "text/plain": [
       "<IPython.core.display.HTML object>"
      ]
     },
     "metadata": {},
     "output_type": "display_data"
    },
    {
     "name": "stdout",
     "output_type": "stream",
     "text": [
      "============================================================\n",
      "$777,000 price term\n",
      "$900.00 price term\n"
     ]
    },
    {
     "data": {
      "text/html": [
       "<span class=\"tex2jax_ignore\"><div class=\"entities\" style=\"line-height: 2.5; direction: ltr\">[Contract Overview: Addendum/SOW to add new country corridors to existing current wire transfer solution (under fully SRM compliant/current MSA);  Total new incremental spend Approx \n",
       "<mark class=\"entity\" style=\"background: #ddd; padding: 0.45em 0.6em; margin: 0 0.25em; line-height: 1; border-radius: 0.35em;\">\n",
       "    $777,000\n",
       "    <span style=\"font-size: 0.8em; font-weight: bold; line-height: 1; border-radius: 0.35em; vertical-align: middle; margin-left: 0.5rem\">price term</span>\n",
       "</mark>\n",
       ". VVV based on estimated volumes.  No change to scope of services beyond expanded geographical offering.];[Key T&amp;C’s: 7 new country corridors are added to ABC standard agreement forms that were tailored to retrofit to Earthport's unique services. Earthport will also reduce returns and investigations costs to \n",
       "<mark class=\"entity\" style=\"background: #ddd; padding: 0.45em 0.6em; margin: 0 0.25em; line-height: 1; border-radius: 0.35em;\">\n",
       "    $900.00\n",
       "    <span style=\"font-size: 0.8em; font-weight: bold; line-height: 1; border-radius: 0.35em; vertical-align: middle; margin-left: 0.5rem\">price term</span>\n",
       "</mark>\n",
       " from $255USD as long as returns and investigations are less than 9% of total transactions for the month.  Return counts greater than 1% will be charged at a reduced rate of $666USD.  ];[Pricing Terms: See financial summary attached]</div></span>"
      ],
      "text/plain": [
       "<IPython.core.display.HTML object>"
      ]
     },
     "metadata": {},
     "output_type": "display_data"
    },
    {
     "name": "stdout",
     "output_type": "stream",
     "text": [
      "============================================================\n"
     ]
    },
    {
     "data": {
      "text/html": [
       "<span class=\"tex2jax_ignore\"><div class=\"entities\" style=\"line-height: 2.5; direction: ltr\">[Contract Overview: Two way NDA between ABC and IBUBBLETEA Services, Inc. (&quot;Vendor&quot;). ABC is engaging Vendor about their translation APP, and as dicussions becomes more technical a NDA is required.]</div></span>"
      ],
      "text/plain": [
       "<IPython.core.display.HTML object>"
      ]
     },
     "metadata": {},
     "output_type": "display_data"
    },
    {
     "name": "stdout",
     "output_type": "stream",
     "text": [
      "============================================================\n",
      "$666,000.00 price term\n"
     ]
    },
    {
     "data": {
      "text/html": [
       "<span class=\"tex2jax_ignore\"><div class=\"entities\" style=\"line-height: 2.5; direction: ltr\">[Contract Overview: Service Agreement for Contingent Search, permanent staffing between ABC and  GITHUB Inc. (bbt Group).];[Sourcing Rationale: Supplier provides required services.];[Key T&amp;C’s: ABC's standard Services Agreement for Contingent Search was used, and is MMM compliant. Supplier code of conduct, Global Reputation and Legal Risks Policy and ABC Global Hiring Policy are embed on the contract.];[Pricing Terms: Fixed Fee:  Estimated at CAD \n",
       "<mark class=\"entity\" style=\"background: #ddd; padding: 0.45em 0.6em; margin: 0 0.25em; line-height: 1; border-radius: 0.35em;\">\n",
       "    $666,000.00\n",
       "    <span style=\"font-size: 0.8em; font-weight: bold; line-height: 1; border-radius: 0.35em; vertical-align: middle; margin-left: 0.5rem\">price term</span>\n",
       "</mark>\n",
       " (including taxes).  ABC will pay Supplier a fixed fee equal to 11% of each Successful Candidate's first year Base Salary, excluding any bonus or commission, which may be awarded to Candidate by ABC.]</div></span>"
      ],
      "text/plain": [
       "<IPython.core.display.HTML object>"
      ]
     },
     "metadata": {},
     "output_type": "display_data"
    },
    {
     "name": "stdout",
     "output_type": "stream",
     "text": [
      "============================================================\n"
     ]
    },
    {
     "data": {
      "text/html": [
       "<span class=\"tex2jax_ignore\"><div class=\"entities\" style=\"line-height: 2.5; direction: ltr\">[Contract Overview: This SoW outlines the tasks that will be performed by John at the ABC Trust client locations or any other location as requested by ABC Trust Corporation.  TestSupplier3 will retrieve data from hard drives; wipe and dispose of laptops, desktops, tablets and any client data bearing devices as requested by ABC Trust.];[Sourcing Rationale: TestSupplier3 is currently providing these services for ABC Trust.];[Key T&amp;C’s: This Amended and Restated Statement of Work (“SoW”) is made pursuant and is subject to the Master Consulting Services Agreement (the “Agreement”) between the Whatever  restaurant of Commerce (“ABC”) and John Technology Inc. (“SUPPLIER”) made as of the 1st day of December 2005, as amended.  All of the provisions of the Agreement are incorporated into this SoW except as otherwise provided herein. In the event of a conflict between the terms of this SoW and the Agreement, the terms of this SoW shall govern.</br>This SoW contains data that is confidential and will not be disclosed outside ABC, duplicated or published for any purpose other than to evaluate this SoW.  All information stated within this SoW is provided in confidence and shall not be published or disclosed without SUPPLIER’S written permission.</br>];[Pricing Terms: As per Section 8. Project Pricing of the Agreement.  Based on existing TestSupplier3 T&amp;M Rates.</br>TCV is an estimate based on hours of supplier time per request and number of expected requests.]</div></span>"
      ],
      "text/plain": [
       "<IPython.core.display.HTML object>"
      ]
     },
     "metadata": {},
     "output_type": "display_data"
    },
    {
     "name": "stdout",
     "output_type": "stream",
     "text": [
      "============================================================\n"
     ]
    }
   ],
   "source": [
    "doc_list=test_model(df_new['contract_overview'],nlp2)"
   ]
  },
  {
   "cell_type": "markdown",
   "id": "trained-designer",
   "metadata": {},
   "source": [
    "\n",
    "|Stanford NER Model|\tData|\tData Source|\tModel Description|\tEntities|Accuracy Score|\n",
    "|-----------------|-------------|------------|-----------------------|-------------|------------------|\n",
    "|7 class|\tMUC 6 and MUC 7(~318 news articles in MUC 6)|\tnewswire|\tCRFClassifier|\tLocation, Person, Organization, Money, Percent, Date, Time|0.89 ± 0.11|"
   ]
  },
  {
   "cell_type": "markdown",
   "id": "published-bulgaria",
   "metadata": {},
   "source": [
    "### Check detailed documentation: https://nlp.stanford.edu/software/CRF-NER.html#Download"
   ]
  },
  {
   "cell_type": "code",
   "execution_count": 65,
   "id": "liable-creature",
   "metadata": {},
   "outputs": [],
   "source": [
    "from nltk.tag import StanfordNERTagger\n",
    "from nltk.tokenize import word_tokenize\n",
    "jar=\"C:/Users/fandi/Desktop/cibc_test/stanford-ner.jar\"\n",
    "st = StanfordNERTagger('C:/Users/fandi/Desktop/cibc_test/stanford-ner-4.2.0/stanford-ner-2020-11-17/classifiers/english.conll.4class.distsim.crf.ser.gz',jar) \n",
    "text=\"Fandi want to drink bubbletea\"\n"
   ]
  },
  {
   "cell_type": "code",
   "execution_count": 68,
   "id": "reported-seattle",
   "metadata": {},
   "outputs": [
    {
     "name": "stdout",
     "output_type": "stream",
     "text": [
      "finished one extraction\n",
      "finished one extraction\n",
      "finished one extraction\n",
      "finished one extraction\n",
      "finished one extraction\n",
      "finished one extraction\n",
      "finished one extraction\n",
      "finished one extraction\n",
      "finished one extraction\n",
      "finished one extraction\n",
      "finished one extraction\n",
      "finished one extraction\n",
      "finished one extraction\n",
      "finished one extraction\n",
      "finished one extraction\n",
      "finished one extraction\n",
      "finished one extraction\n",
      "finished one extraction\n",
      "finished one extraction\n"
     ]
    }
   ],
   "source": [
    "list_res=[]\n",
    "for i in df_new['contract_overview']:\n",
    "    tokenized_text = word_tokenize(i)\n",
    "    classified_text = st.tag(tokenized_text)\n",
    "    list_res.append(classified_text)\n",
    "    print(\"finished one extraction\")\n",
    "    "
   ]
  },
  {
   "cell_type": "markdown",
   "id": "suitable-niger",
   "metadata": {},
   "source": [
    "# Coreference Resolution\n",
    "### 1 Neuralcoref\n",
    "### 2 allennlp_models"
   ]
  },
  {
   "cell_type": "code",
   "execution_count": 78,
   "id": "stuck-contributor",
   "metadata": {},
   "outputs": [],
   "source": [
    "import neuralcoref\n",
    "text = \"When Sebastian Thrun started working on self-driving cars at Google in 2007, few people outside of the company took him seriously.\"\n",
    "nlp = spacy.load(\"en_core_web_sm\")\n",
    "doc = nlp(text)\n",
    "print(doc._.coref_clusters)"
   ]
  },
  {
   "cell_type": "code",
   "execution_count": 74,
   "id": "ignored-attitude",
   "metadata": {},
   "outputs": [],
   "source": [
    "from stanfordnlp.server import CoreNLPClient"
   ]
  },
  {
   "cell_type": "code",
   "execution_count": 79,
   "id": "going-divorce",
   "metadata": {},
   "outputs": [],
   "source": [
    "import stanfordnlp\n",
    "stanfordnlp.download('en')   # This downloads the English models for the neural pipeline\n"
   ]
  },
  {
   "cell_type": "code",
   "execution_count": 84,
   "id": "weird-scholar",
   "metadata": {},
   "outputs": [],
   "source": [
    "nlp = stanfordnlp.Pipeline() # This sets up a default neural pipeline in English\n",
    "doc = nlp(\"Barack Obama was born in Hawaii.  He was elected president in 2008.\")\n",
    "doc.sentences[0].print_dependencies()"
   ]
  },
  {
   "cell_type": "code",
   "execution_count": 83,
   "id": "equipped-parallel",
   "metadata": {},
   "outputs": [
    {
     "name": "stderr",
     "output_type": "stream",
     "text": [
      "Downloading https://raw.githubusercontent.com/stanfordnlp/stanza-resources/master/resources_1.2.0.json: 128kB [00:00, 18.2MB/s]\n",
      "2021-06-01 12:34:24 INFO: Downloading default packages for language: en (English)...\n",
      "2021-06-01 12:34:27 INFO: File exists: C:\\Users\\fandi\\stanza_resources\\en\\default.zip.\n",
      "2021-06-01 12:34:37 INFO: Finished downloading models and saved to C:\\Users\\fandi\\stanza_resources.\n",
      "2021-06-01 12:34:37 WARNING: Can not find mwt: default from official model list. Ignoring it.\n",
      "2021-06-01 12:34:37 INFO: Loading these models for language: en (English):\n",
      "========================\n",
      "| Processor | Package  |\n",
      "------------------------\n",
      "| tokenize  | combined |\n",
      "| pos       | combined |\n",
      "| lemma     | combined |\n",
      "| depparse  | combined |\n",
      "========================\n",
      "\n",
      "2021-06-01 12:34:37 INFO: Use device: cpu\n",
      "2021-06-01 12:34:37 INFO: Loading: tokenize\n",
      "2021-06-01 12:34:37 INFO: Loading: pos\n",
      "2021-06-01 12:34:38 INFO: Loading: lemma\n",
      "2021-06-01 12:34:38 INFO: Loading: depparse\n",
      "2021-06-01 12:34:39 INFO: Done loading processors!\n"
     ]
    }
   ],
   "source": [
    "import stanza\n",
    "stanza.download('en')       # This downloads the English models for the neural pipeline\n",
    "nlp = stanza.Pipeline(lang='en', processors='tokenize,mwt,pos,lemma,depparse') # This sets up a default neural pipeline in English\n"
   ]
  },
  {
   "cell_type": "code",
   "execution_count": null,
   "id": "pregnant-eight",
   "metadata": {},
   "outputs": [],
   "source": []
  },
  {
   "cell_type": "code",
   "execution_count": 122,
   "id": "liberal-carnival",
   "metadata": {
    "scrolled": true
   },
   "outputs": [],
   "source": [
    "for i in df_new['contract_overview']:\n",
    "    word = nlp(i)\n",
    "    print(*[f'id: {word.id}\\tword: {word.text}\\thead id: {word.head}\\thead: {sent.words[word.head-1].text if word.head > 0 else \"root\"}\\tdeprel: {word.deprel}' for sent in doc.sentences for word in sent.words], sep='\\n')\n"
   ]
  },
  {
   "cell_type": "code",
   "execution_count": 123,
   "id": "caring-reception",
   "metadata": {
    "scrolled": false
   },
   "outputs": [
    {
     "name": "stdout",
     "output_type": "stream",
     "text": [
      "id: 1\tword: [\thead id: 3\thead: Overview\tdeprel: punct\n",
      "id: 2\tword: Contract\thead id: 3\thead: Overview\tdeprel: compound\n",
      "id: 3\tword: Overview\thead id: 0\thead: root\tdeprel: root\n",
      "id: 4\tword: :\thead id: 3\thead: Overview\tdeprel: punct\n",
      "id: 5\tword: This\thead id: 8\thead: Amendment\tdeprel: nsubj\n",
      "id: 6\tword: is\thead id: 8\thead: Amendment\tdeprel: cop\n",
      "id: 7\tword: an\thead id: 8\thead: Amendment\tdeprel: det\n",
      "id: 8\tword: Amendment\thead id: 3\thead: Overview\tdeprel: appos\n",
      "id: 9\tword: and\thead id: 10\thead: Restatement\tdeprel: cc\n",
      "id: 10\tword: Restatement\thead id: 8\thead: Amendment\tdeprel: conj\n",
      "id: 11\tword: of\thead id: 17\thead: Agreement\tdeprel: case\n",
      "id: 12\tword: the\thead id: 17\thead: Agreement\tdeprel: det\n",
      "id: 13\tword: Master\thead id: 14\thead: Services\tdeprel: compound\n",
      "id: 14\tword: Services\thead id: 17\thead: Agreement\tdeprel: compound\n",
      "id: 15\tword: Cost\thead id: 17\thead: Agreement\tdeprel: compound\n",
      "id: 16\tword: bubbletea\thead id: 17\thead: Agreement\tdeprel: compound\n",
      "id: 17\tword: Agreement\thead id: 8\thead: Amendment\tdeprel: nmod\n",
      "id: 18\tword: and\thead id: 20\thead: schedules\tdeprel: cc\n",
      "id: 19\tword: service\thead id: 20\thead: schedules\tdeprel: compound\n",
      "id: 20\tword: schedules\thead id: 17\thead: Agreement\tdeprel: conj\n",
      "id: 21\tword: (\thead id: 23\thead: Attachments\tdeprel: punct\n",
      "id: 22\tword: the\thead id: 23\thead: Attachments\tdeprel: det\n",
      "id: 23\tword: Attachments\thead id: 17\thead: Agreement\tdeprel: appos\n",
      "id: 24\tword: )\thead id: 23\thead: Attachments\tdeprel: punct\n",
      "id: 25\tword: .\thead id: 3\thead: Overview\tdeprel: punct\n",
      "id: 1\tword: This\thead id: 2\thead: agreement\tdeprel: det\n",
      "id: 2\tword: agreement\thead id: 3\thead: covers\tdeprel: nsubj\n",
      "id: 3\tword: covers\thead id: 0\thead: root\tdeprel: root\n",
      "id: 4\tword: services\thead id: 3\thead: covers\tdeprel: obj\n",
      "id: 5\tword: provided\thead id: 4\thead: services\tdeprel: acl\n",
      "id: 6\tword: between\thead id: 15\thead: entities\tdeprel: case\n",
      "id: 7\tword: and\thead id: 8\thead: amongst\tdeprel: cc\n",
      "id: 8\tword: amongst\thead id: 6\thead: between\tdeprel: conj\n",
      "id: 9\tword: ABC\thead id: 15\thead: entities\tdeprel: nmod:poss\n",
      "id: 10\tword: 's\thead id: 9\thead: ABC\tdeprel: case\n",
      "id: 11\tword: Canadian\thead id: 15\thead: entities\tdeprel: amod\n",
      "id: 12\tword: and\thead id: 13\thead: US\tdeprel: cc\n",
      "id: 13\tword: US\thead id: 11\thead: Canadian\tdeprel: conj\n",
      "id: 14\tword: legal\thead id: 15\thead: entities\tdeprel: amod\n",
      "id: 15\tword: entities\thead id: 5\thead: provided\tdeprel: obl\n",
      "id: 16\tword: for\thead id: 17\thead: which\tdeprel: case\n",
      "id: 17\tword: which\thead id: 19\thead: are\tdeprel: obl\n",
      "id: 18\tword: there\thead id: 19\thead: are\tdeprel: expl\n",
      "id: 19\tword: are\thead id: 15\thead: entities\tdeprel: acl:relcl\n",
      "id: 20\tword: (\thead id: 23\thead: be\tdeprel: punct\n",
      "id: 21\tword: or\thead id: 23\thead: be\tdeprel: cc\n",
      "id: 22\tword: will\thead id: 23\thead: be\tdeprel: aux\n",
      "id: 23\tword: be\thead id: 19\thead: are\tdeprel: conj\n",
      "id: 24\tword: )\thead id: 23\thead: be\tdeprel: punct\n",
      "id: 25\tword: cost\thead id: 26\thead: recovery\tdeprel: compound\n",
      "id: 26\tword: recovery\thead id: 19\thead: are\tdeprel: nsubj\n",
      "id: 27\tword: \"\thead id: 29\thead: Pricing\tdeprel: punct\n",
      "id: 28\tword: Transfer\thead id: 29\thead: Pricing\tdeprel: compound\n",
      "id: 29\tword: Pricing\thead id: 26\thead: recovery\tdeprel: appos\n",
      "id: 30\tword: \"\thead id: 29\thead: Pricing\tdeprel: punct\n",
      "id: 31\tword: between\thead id: 33\thead: providers\tdeprel: case\n",
      "id: 32\tword: the\thead id: 33\thead: providers\tdeprel: det\n",
      "id: 33\tword: providers\thead id: 29\thead: Pricing\tdeprel: nmod\n",
      "id: 34\tword: and\thead id: 35\thead: recipients\tdeprel: cc\n",
      "id: 35\tword: recipients\thead id: 33\thead: providers\tdeprel: conj\n",
      "id: 36\tword: of\thead id: 38\thead: services\tdeprel: case\n",
      "id: 37\tword: the\thead id: 38\thead: services\tdeprel: det\n",
      "id: 38\tword: services\thead id: 33\thead: providers\tdeprel: nmod\n",
      "id: 39\tword: .\thead id: 3\thead: covers\tdeprel: punct\n",
      "id: 1\tword: This\thead id: 2\thead: update\tdeprel: det\n",
      "id: 2\tword: update\thead id: 11\thead: incorporates\tdeprel: nsubj\n",
      "id: 3\tword: ,\thead id: 4\thead: part\tdeprel: punct\n",
      "id: 4\tword: part\thead id: 2\thead: update\tdeprel: appos\n",
      "id: 5\tword: of\thead id: 8\thead: project\tdeprel: case\n",
      "id: 6\tword: the\thead id: 8\thead: project\tdeprel: det\n",
      "id: 7\tword: Cardinal\thead id: 8\thead: project\tdeprel: compound\n",
      "id: 8\tword: project\thead id: 4\thead: part\tdeprel: nmod\n",
      "id: 9\tword: ,\thead id: 2\thead: update\tdeprel: punct\n",
      "id: 10\tword: further\thead id: 11\thead: incorporates\tdeprel: advmod\n",
      "id: 11\tword: incorporates\thead id: 0\thead: root\tdeprel: root\n",
      "id: 12\tword: ABC\thead id: 13\thead: restaurant\tdeprel: compound\n",
      "id: 13\tword: restaurant\thead id: 11\thead: incorporates\tdeprel: obj\n",
      "id: 14\tword: USA\thead id: 13\thead: restaurant\tdeprel: appos\n",
      "id: 15\tword: as\thead id: 19\thead: provider\tdeprel: case\n",
      "id: 16\tword: both\thead id: 19\thead: provider\tdeprel: cc:preconj\n",
      "id: 17\tword: a\thead id: 19\thead: provider\tdeprel: det\n",
      "id: 18\tword: service\thead id: 19\thead: provider\tdeprel: compound\n",
      "id: 19\tword: provider\thead id: 11\thead: incorporates\tdeprel: obl\n",
      "id: 20\tword: and\thead id: 23\thead: recipient\tdeprel: cc\n",
      "id: 21\tword: a\thead id: 23\thead: recipient\tdeprel: det\n",
      "id: 22\tword: service\thead id: 23\thead: recipient\tdeprel: compound\n",
      "id: 23\tword: recipient\thead id: 19\thead: provider\tdeprel: conj\n",
      "id: 24\tword: .\thead id: 11\thead: incorporates\tdeprel: punct\n",
      "id: 1\tword: The\thead id: 2\thead: Attachments\tdeprel: det\n",
      "id: 2\tword: Attachments\thead id: 6\thead: organized\tdeprel: nsubj:pass\n",
      "id: 3\tword: herein\thead id: 6\thead: organized\tdeprel: advmod\n",
      "id: 4\tword: have\thead id: 6\thead: organized\tdeprel: aux\n",
      "id: 5\tword: been\thead id: 6\thead: organized\tdeprel: aux:pass\n",
      "id: 6\tword: organized\thead id: 0\thead: root\tdeprel: root\n",
      "id: 7\tword: based\thead id: 11\thead: Groups\tdeprel: case\n",
      "id: 8\tword: on\thead id: 11\thead: Groups\tdeprel: case\n",
      "id: 9\tword: ABCs\thead id: 11\thead: Groups\tdeprel: compound\n",
      "id: 10\tword: Functional\thead id: 11\thead: Groups\tdeprel: compound\n",
      "id: 11\tword: Groups\thead id: 6\thead: organized\tdeprel: obl\n",
      "id: 12\tword: and\thead id: 15\thead: Units\tdeprel: cc\n",
      "id: 13\tword: Strategic\thead id: 14\thead: Business\tdeprel: compound\n",
      "id: 14\tword: Business\thead id: 15\thead: Units\tdeprel: compound\n",
      "id: 15\tword: Units\thead id: 11\thead: Groups\tdeprel: conj\n",
      "id: 16\tword: (\thead id: 18\thead: applicable\tdeprel: punct\n",
      "id: 17\tword: as\thead id: 18\thead: applicable\tdeprel: mark\n",
      "id: 18\tword: applicable\thead id: 11\thead: Groups\tdeprel: parataxis\n",
      "id: 19\tword: )\thead id: 18\thead: applicable\tdeprel: punct\n",
      "id: 20\tword: in\thead id: 21\thead: India\tdeprel: case\n",
      "id: 21\tword: India\thead id: 18\thead: applicable\tdeprel: obl\n",
      "id: 22\tword: and\thead id: 24\thead: Region\tdeprel: cc\n",
      "id: 23\tword: US\thead id: 24\thead: Region\tdeprel: compound\n",
      "id: 24\tword: Region\thead id: 21\thead: India\tdeprel: conj\n",
      "id: 25\tword: and\thead id: 32\thead: approved\tdeprel: cc\n",
      "id: 26\tword: each\thead id: 32\thead: approved\tdeprel: nsubj:pass\n",
      "id: 27\tword: of\thead id: 28\thead: these\tdeprel: case\n",
      "id: 28\tword: these\thead id: 26\thead: each\tdeprel: nmod\n",
      "id: 29\tword: have\thead id: 32\thead: approved\tdeprel: aux\n",
      "id: 30\tword: been\thead id: 32\thead: approved\tdeprel: aux:pass\n",
      "id: 31\tword: formally\thead id: 32\thead: approved\tdeprel: advmod\n",
      "id: 32\tword: approved\thead id: 6\thead: organized\tdeprel: conj\n",
      "id: 33\tword: by\thead id: 37\thead: Executives\tdeprel: case\n",
      "id: 34\tword: their\thead id: 37\thead: Executives\tdeprel: nmod:poss\n",
      "id: 35\tword: respective\thead id: 37\thead: Executives\tdeprel: amod\n",
      "id: 36\tword: Senior\thead id: 37\thead: Executives\tdeprel: amod\n",
      "id: 37\tword: Executives\thead id: 32\thead: approved\tdeprel: obl\n",
      "id: 38\tword: .\thead id: 43\thead: Rationale\tdeprel: punct\n",
      "id: 39\tword: ]\thead id: 32\thead: approved\tdeprel: punct\n",
      "id: 40\tword: ;\thead id: 43\thead: Rationale\tdeprel: punct\n",
      "id: 41\tword: [\thead id: 43\thead: Rationale\tdeprel: punct\n",
      "id: 42\tword: Sourcing\thead id: 43\thead: Rationale\tdeprel: compound\n",
      "id: 43\tword: Rationale\thead id: 32\thead: approved\tdeprel: dep\n",
      "id: 44\tword: :\thead id: 43\thead: Rationale\tdeprel: punct\n",
      "id: 45\tword: Regulatory\thead id: 43\thead: Rationale\tdeprel: amod\n",
      "id: 46\tword: ]\thead id: 43\thead: Rationale\tdeprel: punct\n",
      "id: 47\tword: ;\thead id: 50\thead: T&C\tdeprel: punct\n",
      "id: 48\tword: [\thead id: 50\thead: T&C\tdeprel: punct\n",
      "id: 49\tword: Key\thead id: 50\thead: T&C\tdeprel: compound\n",
      "id: 50\tword: T&C\thead id: 43\thead: Rationale\tdeprel: dep\n",
      "id: 51\tword: ’s\thead id: 50\thead: T&C\tdeprel: case\n",
      "id: 52\tword: :\thead id: 56\thead: Term\tdeprel: punct\n",
      "id: 53\tword: 5\thead id: 55\thead: Year\tdeprel: nummod\n",
      "id: 54\tword: -\thead id: 55\thead: Year\tdeprel: punct\n",
      "id: 55\tword: Year\thead id: 56\thead: Term\tdeprel: compound\n",
      "id: 56\tword: Term\thead id: 66\thead: outlines\tdeprel: nsubj\n",
      "id: 57\tword: ,\thead id: 66\thead: outlines\tdeprel: punct\n",
      "id: 58\tword: auto\thead id: 59\thead: renews\tdeprel: compound\n",
      "id: 59\tword: renews\thead id: 66\thead: outlines\tdeprel: nsubj\n",
      "id: 60\tword: for\thead id: 65\thead: Schedule\tdeprel: case\n",
      "id: 61\tword: 1\thead id: 63\thead: year\tdeprel: nummod\n",
      "id: 62\tword: -\thead id: 63\thead: year\tdeprel: punct\n",
      "id: 63\tword: year\thead id: 65\thead: Schedule\tdeprel: compound\n",
      "id: 64\tword: Services\thead id: 65\thead: Schedule\tdeprel: compound\n",
      "id: 65\tword: Schedule\thead id: 59\thead: renews\tdeprel: nmod\n",
      "id: 66\tword: outlines\thead id: 43\thead: Rationale\tdeprel: parataxis\n",
      "id: 67\tword: the\thead id: 68\thead: services\tdeprel: det\n",
      "id: 68\tword: services\thead id: 66\thead: outlines\tdeprel: obj\n",
      "id: 69\tword: provided\thead id: 68\thead: services\tdeprel: acl\n",
      "id: 70\tword: ,\thead id: 73\thead: standards\tdeprel: punct\n",
      "id: 71\tword: along\thead id: 73\thead: standards\tdeprel: case\n",
      "id: 72\tword: with\thead id: 73\thead: standards\tdeprel: case\n",
      "id: 73\tword: standards\thead id: 69\thead: provided\tdeprel: obl\n",
      "id: 74\tword: ,\thead id: 75\thead: reporting\tdeprel: punct\n",
      "id: 75\tword: reporting\thead id: 73\thead: standards\tdeprel: conj\n",
      "id: 76\tword: and\thead id: 78\thead: pricing\tdeprel: cc\n",
      "id: 77\tword: Transfer\thead id: 78\thead: pricing\tdeprel: compound\n",
      "id: 78\tword: pricing\thead id: 79\thead: methodology\tdeprel: compound\n",
      "id: 79\tword: methodology\thead id: 75\thead: reporting\tdeprel: obj\n",
      "id: 80\tword: and\thead id: 81\thead: agreements\tdeprel: cc\n",
      "id: 81\tword: agreements\thead id: 73\thead: standards\tdeprel: conj\n",
      "id: 82\tword: that\thead id: 84\thead: implicit\tdeprel: nsubj\n",
      "id: 83\tword: are\thead id: 84\thead: implicit\tdeprel: cop\n",
      "id: 84\tword: implicit\thead id: 81\thead: agreements\tdeprel: acl:relcl\n",
      "id: 85\tword: in\thead id: 86\thead: this\tdeprel: case\n",
      "id: 86\tword: this\thead id: 84\thead: implicit\tdeprel: obl\n",
      "id: 87\tword: .\thead id: 66\thead: outlines\tdeprel: punct\n",
      "id: 88\tword: ]\thead id: 66\thead: outlines\tdeprel: punct\n",
      "id: 89\tword: ;\thead id: 66\thead: outlines\tdeprel: punct\n",
      "id: 90\tword: [\thead id: 66\thead: outlines\tdeprel: punct\n",
      "id: 1\tword: Pricing\thead id: 2\thead: Terms\tdeprel: compound\n",
      "id: 2\tword: Terms\thead id: 0\thead: root\tdeprel: root\n",
      "id: 3\tword: :\thead id: 2\thead: Terms\tdeprel: punct\n",
      "id: 4\tword: Transfer\thead id: 5\thead: Pricing\tdeprel: compound\n",
      "id: 5\tword: Pricing\thead id: 2\thead: Terms\tdeprel: appos\n",
      "id: 6\tword: based\thead id: 5\thead: Pricing\tdeprel: acl\n",
      "id: 7\tword: on\thead id: 9\thead: allocations\tdeprel: case\n",
      "id: 8\tword: cost\thead id: 9\thead: allocations\tdeprel: compound\n",
      "id: 9\tword: allocations\thead id: 6\thead: based\tdeprel: obl\n",
      "id: 10\tword: through\thead id: 13\thead: agreements\tdeprel: case\n",
      "id: 11\tword: transfer\thead id: 13\thead: agreements\tdeprel: compound\n",
      "id: 12\tword: pricing\thead id: 13\thead: agreements\tdeprel: compound\n",
      "id: 13\tword: agreements\thead id: 9\thead: allocations\tdeprel: nmod\n",
      "id: 14\tword: ,\thead id: 15\thead: guided\tdeprel: punct\n",
      "id: 15\tword: guided\thead id: 5\thead: Pricing\tdeprel: acl\n",
      "id: 16\tword: by\thead id: 19\thead: Notes\tdeprel: case\n",
      "id: 17\tword: the\thead id: 19\thead: Notes\tdeprel: det\n",
      "id: 18\tword: Allocation\thead id: 19\thead: Notes\tdeprel: compound\n",
      "id: 19\tword: Notes\thead id: 15\thead: guided\tdeprel: obl\n",
      "id: 20\tword: described\thead id: 19\thead: Notes\tdeprel: acl\n",
      "id: 21\tword: in\thead id: 23\thead: Attachments\tdeprel: case\n",
      "id: 22\tword: the\thead id: 23\thead: Attachments\tdeprel: det\n",
      "id: 23\tword: Attachments\thead id: 20\thead: described\tdeprel: obl\n",
      "id: 24\tword: .\thead id: 2\thead: Terms\tdeprel: punct\n",
      "id: 1\tword: Generally\thead id: 3\thead: Reimbursement\tdeprel: advmod\n",
      "id: 2\tword: Cost\thead id: 3\thead: Reimbursement\tdeprel: compound\n",
      "id: 3\tword: Reimbursement\thead id: 0\thead: root\tdeprel: root\n",
      "id: 4\tword: and\thead id: 5\thead: consistent\tdeprel: cc\n",
      "id: 5\tword: consistent\thead id: 3\thead: Reimbursement\tdeprel: conj\n",
      "id: 6\tword: with\thead id: 7\thead: Regulation\tdeprel: case\n",
      "id: 7\tword: Regulation\thead id: 3\thead: Reimbursement\tdeprel: nmod\n",
      "id: 8\tword: W\thead id: 9\thead: principles\tdeprel: case\n",
      "id: 9\tword: principles\thead id: 7\thead: Regulation\tdeprel: nmod\n",
      "id: 10\tword: .\thead id: 3\thead: Reimbursement\tdeprel: punct\n",
      "id: 11\tword: ]\thead id: 3\thead: Reimbursement\tdeprel: punct\n"
     ]
    }
   ],
   "source": [
    "print(*[f'id: {word.id}\\tword: {word.text}\\thead id: {word.head}\\thead: {sent.words[word.head-1].text if word.head > 0 else \"root\"}\\tdeprel: {word.deprel}' for sent in doc.sentences for word in sent.words], sep='\\n')\n"
   ]
  },
  {
   "cell_type": "code",
   "execution_count": 96,
   "id": "behind-exposure",
   "metadata": {},
   "outputs": [],
   "source": [
    "from allennlp_models import pretrained"
   ]
  },
  {
   "cell_type": "code",
   "execution_count": 98,
   "id": "realistic-antarctica",
   "metadata": {},
   "outputs": [
    {
     "name": "stderr",
     "output_type": "stream",
     "text": [
      "error loading _jsonnet (this is expected on Windows), treating C:\\Users\\fandi\\Anaconda3\\Anaconda3\\envs\\workspace\\Lib\\site-packages\\allennlp_models\\modelcards\\coref-spanbert.json as plain json\n",
      "error loading _jsonnet (this is expected on Windows), treating C:\\Users\\fandi\\Anaconda3\\Anaconda3\\envs\\workspace\\Lib\\site-packages\\allennlp_models\\modelcards\\evaluate_rc-lerc.json as plain json\n",
      "lerc is not a registered model.\n",
      "error loading _jsonnet (this is expected on Windows), treating C:\\Users\\fandi\\Anaconda3\\Anaconda3\\envs\\workspace\\Lib\\site-packages\\allennlp_models\\modelcards\\generation-bart.json as plain json\n",
      "error loading _jsonnet (this is expected on Windows), treating C:\\Users\\fandi\\Anaconda3\\Anaconda3\\envs\\workspace\\Lib\\site-packages\\allennlp_models\\modelcards\\glove-sst.json as plain json\n",
      "error loading _jsonnet (this is expected on Windows), treating C:\\Users\\fandi\\Anaconda3\\Anaconda3\\envs\\workspace\\Lib\\site-packages\\allennlp_models\\modelcards\\lm-masked-language-model.json as plain json\n",
      "error loading _jsonnet (this is expected on Windows), treating C:\\Users\\fandi\\Anaconda3\\Anaconda3\\envs\\workspace\\Lib\\site-packages\\allennlp_models\\modelcards\\lm-next-token-lm-gpt2.json as plain json\n",
      "error loading _jsonnet (this is expected on Windows), treating C:\\Users\\fandi\\Anaconda3\\Anaconda3\\envs\\workspace\\Lib\\site-packages\\allennlp_models\\modelcards\\mc-roberta-commonsenseqa.json as plain json\n",
      "error loading _jsonnet (this is expected on Windows), treating C:\\Users\\fandi\\Anaconda3\\Anaconda3\\envs\\workspace\\Lib\\site-packages\\allennlp_models\\modelcards\\mc-roberta-piqa.json as plain json\n",
      "error loading _jsonnet (this is expected on Windows), treating C:\\Users\\fandi\\Anaconda3\\Anaconda3\\envs\\workspace\\Lib\\site-packages\\allennlp_models\\modelcards\\mc-roberta-swag.json as plain json\n",
      "error loading _jsonnet (this is expected on Windows), treating C:\\Users\\fandi\\Anaconda3\\Anaconda3\\envs\\workspace\\Lib\\site-packages\\allennlp_models\\modelcards\\pair-classification-decomposable-attention-elmo.json as plain json\n",
      "error loading _jsonnet (this is expected on Windows), treating C:\\Users\\fandi\\Anaconda3\\Anaconda3\\envs\\workspace\\Lib\\site-packages\\allennlp_models\\modelcards\\pair-classification-esim.json as plain json\n",
      "error loading _jsonnet (this is expected on Windows), treating C:\\Users\\fandi\\Anaconda3\\Anaconda3\\envs\\workspace\\Lib\\site-packages\\allennlp_models\\modelcards\\pair-classification-roberta-mnli.json as plain json\n",
      "error loading _jsonnet (this is expected on Windows), treating C:\\Users\\fandi\\Anaconda3\\Anaconda3\\envs\\workspace\\Lib\\site-packages\\allennlp_models\\modelcards\\pair-classification-roberta-rte.json as plain json\n",
      "roberta-rte is not a registered model.\n",
      "error loading _jsonnet (this is expected on Windows), treating C:\\Users\\fandi\\Anaconda3\\Anaconda3\\envs\\workspace\\Lib\\site-packages\\allennlp_models\\modelcards\\pair-classification-roberta-snli.json as plain json\n",
      "error loading _jsonnet (this is expected on Windows), treating C:\\Users\\fandi\\Anaconda3\\Anaconda3\\envs\\workspace\\Lib\\site-packages\\allennlp_models\\modelcards\\rc-bidaf-elmo.json as plain json\n",
      "error loading _jsonnet (this is expected on Windows), treating C:\\Users\\fandi\\Anaconda3\\Anaconda3\\envs\\workspace\\Lib\\site-packages\\allennlp_models\\modelcards\\rc-bidaf.json as plain json\n",
      "error loading _jsonnet (this is expected on Windows), treating C:\\Users\\fandi\\Anaconda3\\Anaconda3\\envs\\workspace\\Lib\\site-packages\\allennlp_models\\modelcards\\rc-naqanet.json as plain json\n",
      "error loading _jsonnet (this is expected on Windows), treating C:\\Users\\fandi\\Anaconda3\\Anaconda3\\envs\\workspace\\Lib\\site-packages\\allennlp_models\\modelcards\\rc-nmn.json as plain json\n",
      "error loading _jsonnet (this is expected on Windows), treating C:\\Users\\fandi\\Anaconda3\\Anaconda3\\envs\\workspace\\Lib\\site-packages\\allennlp_models\\modelcards\\rc-transformer-qa.json as plain json\n",
      "error loading _jsonnet (this is expected on Windows), treating C:\\Users\\fandi\\Anaconda3\\Anaconda3\\envs\\workspace\\Lib\\site-packages\\allennlp_models\\modelcards\\roberta-sst.json as plain json\n",
      "error loading _jsonnet (this is expected on Windows), treating C:\\Users\\fandi\\Anaconda3\\Anaconda3\\envs\\workspace\\Lib\\site-packages\\allennlp_models\\modelcards\\semparse-nlvr.json as plain json\n",
      "error loading _jsonnet (this is expected on Windows), treating C:\\Users\\fandi\\Anaconda3\\Anaconda3\\envs\\workspace\\Lib\\site-packages\\allennlp_models\\modelcards\\semparse-text-to-sql.json as plain json\n",
      "error loading _jsonnet (this is expected on Windows), treating C:\\Users\\fandi\\Anaconda3\\Anaconda3\\envs\\workspace\\Lib\\site-packages\\allennlp_models\\modelcards\\semparse-wikitables.json as plain json\n",
      "error loading _jsonnet (this is expected on Windows), treating C:\\Users\\fandi\\Anaconda3\\Anaconda3\\envs\\workspace\\Lib\\site-packages\\allennlp_models\\modelcards\\structured-prediction-biaffine-parser.json as plain json\n",
      "error loading _jsonnet (this is expected on Windows), treating C:\\Users\\fandi\\Anaconda3\\Anaconda3\\envs\\workspace\\Lib\\site-packages\\allennlp_models\\modelcards\\structured-prediction-constituency-parser.json as plain json\n",
      "error loading _jsonnet (this is expected on Windows), treating C:\\Users\\fandi\\Anaconda3\\Anaconda3\\envs\\workspace\\Lib\\site-packages\\allennlp_models\\modelcards\\structured-prediction-srl-bert.json as plain json\n",
      "error loading _jsonnet (this is expected on Windows), treating C:\\Users\\fandi\\Anaconda3\\Anaconda3\\envs\\workspace\\Lib\\site-packages\\allennlp_models\\modelcards\\structured-prediction-srl.json as plain json\n",
      "error loading _jsonnet (this is expected on Windows), treating C:\\Users\\fandi\\Anaconda3\\Anaconda3\\envs\\workspace\\Lib\\site-packages\\allennlp_models\\modelcards\\tagging-elmo-crf-tagger.json as plain json\n",
      "error loading _jsonnet (this is expected on Windows), treating C:\\Users\\fandi\\Anaconda3\\Anaconda3\\envs\\workspace\\Lib\\site-packages\\allennlp_models\\modelcards\\tagging-fine-grained-crf-tagger.json as plain json\n",
      "error loading _jsonnet (this is expected on Windows), treating C:\\Users\\fandi\\Anaconda3\\Anaconda3\\envs\\workspace\\Lib\\site-packages\\allennlp_models\\modelcards\\tagging-fine-grained-transformer-crf-tagger.json as plain json\n",
      "error loading _jsonnet (this is expected on Windows), treating C:\\Users\\fandi\\Anaconda3\\Anaconda3\\envs\\workspace\\Lib\\site-packages\\allennlp_models\\modelcards\\ve-vilbert.json as plain json\n",
      "error loading _jsonnet (this is expected on Windows), treating C:\\Users\\fandi\\Anaconda3\\Anaconda3\\envs\\workspace\\Lib\\site-packages\\allennlp_models\\modelcards\\vqa-vilbert.json as plain json\n"
     ]
    },
    {
     "data": {
      "application/vnd.jupyter.widget-view+json": {
       "model_id": "53f4b9214b0d4c48a30994c938755395",
       "version_major": 2,
       "version_minor": 0
      },
      "text/plain": [
       "downloading:   0%|          | 0/1345986155 [00:00<?, ?B/s]"
      ]
     },
     "metadata": {},
     "output_type": "display_data"
    },
    {
     "name": "stderr",
     "output_type": "stream",
     "text": [
      "error loading _jsonnet (this is expected on Windows), treating C:\\Users\\fandi\\AppData\\Local\\Temp\\tmp7vasu21a\\config.json as plain json\n"
     ]
    },
    {
     "data": {
      "application/vnd.jupyter.widget-view+json": {
       "model_id": "51f92924f57345ea81e09e9a55c0e2ab",
       "version_major": 2,
       "version_minor": 0
      },
      "text/plain": [
       "Downloading:   0%|          | 0.00/414 [00:00<?, ?B/s]"
      ]
     },
     "metadata": {},
     "output_type": "display_data"
    },
    {
     "data": {
      "application/vnd.jupyter.widget-view+json": {
       "model_id": "3a4fe0352ce44427b987dca84e4ad83a",
       "version_major": 2,
       "version_minor": 0
      },
      "text/plain": [
       "Downloading:   0%|          | 0.00/213k [00:00<?, ?B/s]"
      ]
     },
     "metadata": {},
     "output_type": "display_data"
    },
    {
     "data": {
      "application/vnd.jupyter.widget-view+json": {
       "model_id": "b2af6b9782104c74a95a883470c8e141",
       "version_major": 2,
       "version_minor": 0
      },
      "text/plain": [
       "Downloading:   0%|          | 0.00/665M [00:00<?, ?B/s]"
      ]
     },
     "metadata": {},
     "output_type": "display_data"
    },
    {
     "name": "stderr",
     "output_type": "stream",
     "text": [
      "Some weights of BertModel were not initialized from the model checkpoint at SpanBERT/spanbert-large-cased and are newly initialized: ['bert.pooler.dense.weight', 'bert.pooler.dense.bias']\n",
      "You should probably TRAIN this model on a down-stream task to be able to use it for predictions and inference.\n"
     ]
    }
   ],
   "source": [
    "model=pretrained.load_predictor(\"coref-spanbert\")"
   ]
  },
  {
   "cell_type": "code",
   "execution_count": 102,
   "id": "nervous-south",
   "metadata": {},
   "outputs": [
    {
     "data": {
      "text/plain": [
       "'[Contract Overview: This is an Amendment and Restatement of the Master Services Cost bubbletea Agreement and service schedules (the Attachments).  This agreement covers services provided between and amongst ABC\\'s Canadian and US legal entities for which there are (or will be) cost recovery \"Transfer Pricing\" between the providers and recipients of the services.  This update, part of the Cardinal project, further incorporates ABC restaurant USA as both a service provider and a service recipient.   The Attachments herein have been organized based on ABCs Functional Groups and Strategic Business Units (as applicable) in India and US Region and each of these have been formally approved by their respective Senior Executives.];[Sourcing Rationale: Regulatory];[Key T&C’s: 5-Year Term, auto renews for 1-year\\nServices Schedule outlines the services provided, along with standards, reporting and Transfer pricing methodology and agreements that are implicit in this.];[Pricing Terms: Transfer Pricing based on cost allocations through transfer pricing agreements, guided by the Allocation Notes described in the Attachments.  Generally Cost Reimbursement and consistent with Regulation W principles.]'"
      ]
     },
     "execution_count": 102,
     "metadata": {},
     "output_type": "execute_result"
    }
   ],
   "source": [
    "df_new['contract_overview'][0]"
   ]
  },
  {
   "cell_type": "code",
   "execution_count": 104,
   "id": "pacific-artist",
   "metadata": {},
   "outputs": [],
   "source": [
    "data=model.predict(df_new['contract_overview'][0])"
   ]
  },
  {
   "cell_type": "code",
   "execution_count": 112,
   "id": "mexican-conservation",
   "metadata": {},
   "outputs": [
    {
     "data": {
      "text/html": [
       "<style>\n",
       "\n",
       ".highlight {\n",
       "  border: 2px solid;\n",
       "  color: #232323;\n",
       "  margin: 4px 6px 4px 3px;\n",
       "  vertical-align: middle;\n",
       "  box-shadow: 2px 4px 20px rgba(0,0,0,0.1);\n",
       "  position: relative;\n",
       "  cursor: default;\n",
       "  min-width: 26px;\n",
       "  line-height: 22px;\n",
       "  display: inline-flex;\n",
       "}\n",
       "\n",
       ".highlight:last-child {\n",
       "  margin-right: 4px;\n",
       "}\n",
       "\n",
       ".highlight:first-child {\n",
       "  margin-left: 0;\n",
       "}\n",
       "\n",
       ".highlight,\n",
       ".highlight span {\n",
       "  transition: background-color .1s ease,\n",
       "              color .1s ease,\n",
       "              box-shadow .1s ease,\n",
       "              opacity .1s ease;\n",
       "}\n",
       "\n",
       ".highlight.short-text {\n",
       "  text-align: center;\n",
       "}\n",
       "\n",
       ".highlight__label {\n",
       "  align-items: center;\n",
       "  justify-content: center;\n",
       "  padding: 0 8px;\n",
       "  text-align: center;\n",
       "  user-select: none;\n",
       "}\n",
       "\n",
       ".highlight__label strong,\n",
       ".highlight__label span.highlight__label__secondary-label {\n",
       "  display: block;\n",
       "  font-size: 11px;\n",
       "  color: #fff;\n",
       "  -webkit-font-smoothing: subpixel-antialiased;\n",
       "  letter-spacing: 0.1em;\n",
       "}\n",
       "\n",
       ".highlight__label strong {\n",
       "  text-transform: uppercase;\n",
       "}\n",
       "\n",
       ".highlight__label span.highlight__label__secondary-label {\n",
       "  opacity: .75;\n",
       "  padding-left: 6px;\n",
       "}\n",
       "\n",
       ".highlight__content {\n",
       "  flex-wrap: wrap;\n",
       "  align-items: center;\n",
       "  padding: 2px 2px 2px 6px;\n",
       "}\n",
       "\n",
       "\n",
       ".highlight-container.highlight-container--bottom-labels .highlight.bottom {\n",
       "  margin-top: 6px;\n",
       "}\n",
       "\n",
       ".highlight.bottom {\n",
       "  display: block;\n",
       "  white-space: normal;\n",
       "}\n",
       "\n",
       ".highlight.bottom .highlight__content:after {\n",
       "  content: \" \";\n",
       "  padding-right: 3px;\n",
       "}\n",
       "\n",
       ".highlight.bottom .highlight__label {\n",
       "  line-height: 14px;\n",
       "  padding-top: 1px;\n",
       "}\n",
       "\n",
       "\n",
       ".highlight.top {\n",
       "  flex-direction: column;\n",
       "  white-space: normal;\n",
       "}\n",
       "\n",
       ".highlight.top .highlight__label {\n",
       "  min-height: 22px;\n",
       "}\n",
       "\n",
       "\n",
       ".highlight.active,\n",
       ".highlight.active span {\n",
       "  color: #fff;\n",
       "}\n",
       "\n",
       ".highlight.active .highlight:not(.active) span {\n",
       "  color: #232323;\n",
       "}\n",
       "\n",
       ".highlight.clickable {\n",
       "  cursor: pointer;\n",
       "}\n",
       "\n",
       ".highlight.clickable.clickable.selected {\n",
       "  cursor: default;\n",
       "}\n",
       "\n",
       ".highlight.clickable.clicking {\n",
       "  opacity: 0.66;\n",
       "  transition-duration: 0s;\n",
       "}\n",
       "\n",
       ".clicking .highlight,\n",
       ".clicking .highlight span,\n",
       ".clicking .highlight:before,\n",
       ".clicking .highlight:after {\n",
       "  transition-duration: 0s;\n",
       "}\n",
       "\n",
       "\n",
       ".highlight.gray {\n",
       "  background: #f2f4f6;\n",
       "}\n",
       "\n",
       ".highlight.gray,\n",
       ".highlight-arrow--gray .highlight-arrow__triangle {\n",
       "  border-color: #a0aab5;\n",
       "}\n",
       "\n",
       ".highlight.gray .highlight__label,\n",
       ".highlight-arrow--gray .highlight-arrow__stalk,\n",
       ".highlight.gray .highlight__button .highlight__button__body {\n",
       "  background-color: #a0aab5;\n",
       "}\n",
       "\n",
       ".highlight.gray.active {\n",
       "  background: #a0aab5;\n",
       "}\n",
       "\n",
       ".highlight.gray.active .highlight__label {\n",
       "  background-color: #aab3bd;\n",
       "}\n",
       "\n",
       ".highlight.gray .highlight__button svg {\n",
       "  fill: #a0aab5;\n",
       "}\n",
       "\n",
       "\n",
       "\n",
       ".highlight.blue {\n",
       "  background: #edf4fa;\n",
       "}\n",
       "\n",
       ".highlight.blue,\n",
       ".highlight-arrow--blue .highlight-arrow__triangle {\n",
       "  border-color: #4db1f7;\n",
       "}\n",
       "\n",
       ".highlight.blue > .highlight__label,\n",
       ".highlight-arrow--blue .highlight-arrow__stalk,\n",
       ".highlight.blue .highlight__button .highlight__button__body {\n",
       "  background-color: #4db1f7;\n",
       "}\n",
       "\n",
       ".highlight.blue.active {\n",
       "  background: #4db1f7;\n",
       "}\n",
       "\n",
       ".highlight.blue.active > .highlight__label {\n",
       "  background-color: #5fb9f8;\n",
       "}\n",
       "\n",
       ".highlight.blue .highlight__button svg {\n",
       "  fill: #4db1f7;\n",
       "}\n",
       "\n",
       "\n",
       ".highlight.green {\n",
       "  background: #f1f4f1;\n",
       "}\n",
       "\n",
       ".highlight.green,\n",
       ".highlight-arrow--green .highlight-arrow__triangle {\n",
       "  border-color: #90ac4e;\n",
       "}\n",
       "\n",
       ".highlight.green > .highlight__label,\n",
       ".highlight-arrow--green .highlight-arrow__stalk,\n",
       ".highlight.green .highlight__button .highlight__button__body {\n",
       "  background-color: #90ac4e;\n",
       "}\n",
       "\n",
       ".highlight.green.active {\n",
       "  background: #90ac4e;\n",
       "}\n",
       "\n",
       ".highlight.green.active > .highlight__label {\n",
       "  background-color: #9bb460;\n",
       "}\n",
       "\n",
       ".highlight.green .highlight__button svg {\n",
       "  fill: #90ac4e;\n",
       "}\n",
       "\n",
       "\n",
       ".highlight.pink {\n",
       "  background: #f4f1f4;\n",
       "}\n",
       "\n",
       ".highlight.pink,\n",
       ".highlight-arrow--pink .highlight-arrow__triangle {\n",
       "  border-color: #ce6587;\n",
       "}\n",
       "\n",
       ".highlight.pink > .highlight__label,\n",
       ".highlight-arrow--pink .highlight-arrow__stalk,\n",
       ".highlight.pink .highlight__button .highlight__button__body {\n",
       "  background-color: #ce6587;\n",
       "}\n",
       "\n",
       ".highlight.pink.active {\n",
       "  background: #ce6587;\n",
       "}\n",
       "\n",
       ".highlight.pink.active > .highlight__label {\n",
       "  background-color: #d37593;\n",
       "}\n",
       "\n",
       ".highlight.pink .highlight__button svg {\n",
       "  fill: #ce6587;\n",
       "}\n",
       "\n",
       "\n",
       ".highlight.orange {\n",
       "  background: #f2f4f4;\n",
       "}\n",
       "\n",
       ".highlight.orange,\n",
       ".highlight-arrow--orange .highlight-arrow__triangle {\n",
       "  border-color: #dd9e3e;\n",
       "}\n",
       "\n",
       ".highlight.orange > .highlight__label,\n",
       ".highlight-arrow--orange .highlight-arrow__stalk,\n",
       ".highlight.orange .highlight__button .highlight__button__body {\n",
       "  background-color: #dd9e3e;\n",
       "}\n",
       "\n",
       ".highlight.orange.active {\n",
       "  background: #dd9e3e;\n",
       "}\n",
       "\n",
       ".highlight.orange.active > .highlight__label {\n",
       "  background-color: #e0a852;\n",
       "}\n",
       "\n",
       ".highlight.orange .highlight__button svg {\n",
       "  fill: #dd9e3e;\n",
       "}\n",
       "\n",
       "\n",
       ".highlight.purple {\n",
       "  background: #f1f0f7;\n",
       "}\n",
       "\n",
       ".highlight.purple,\n",
       ".highlight-arrow--purple .highlight-arrow__triangle {\n",
       "  border-color: #9a5eba;\n",
       "}\n",
       "\n",
       ".highlight.purple > .highlight__label,\n",
       ".highlight-arrow--purple .highlight-arrow__stalk,\n",
       ".highlight.purple .highlight__button .highlight__button__body {\n",
       "  background-color: #9a5eba;\n",
       "}\n",
       "\n",
       ".highlight.purple.active {\n",
       "  background: #9a5eba;\n",
       "}\n",
       "\n",
       ".highlight.purple.active > .highlight__label {\n",
       "  background-color: #a46ec1;\n",
       "}\n",
       "\n",
       ".highlight.purple .highlight__button svg {\n",
       "  fill: #9a5eba;\n",
       "}\n",
       "\n",
       "\n",
       ".highlight.teal {\n",
       "  background: #eef4f6;\n",
       "}\n",
       "\n",
       ".highlight.teal,\n",
       ".highlight-arrow--teal .highlight-arrow__triangle {\n",
       "  border-color: #5bb1ad;\n",
       "}\n",
       "\n",
       ".highlight.teal > .highlight__label,\n",
       ".highlight-arrow--teal .highlight-arrow__stalk,\n",
       ".highlight.teal .highlight__button .highlight__button__body {\n",
       "  background-color: #5bb1ad;\n",
       "}\n",
       "\n",
       ".highlight.teal.active {\n",
       "  background: #5bb1ad;\n",
       "}\n",
       "\n",
       ".highlight.teal.active > .highlight__label {\n",
       "  background-color: #6cb9b5;\n",
       "}\n",
       "\n",
       ".highlight.teal .highlight__button svg {\n",
       "  fill: #5bb1ad;\n",
       "}\n",
       "\n",
       "\n",
       ".highlight.tan {\n",
       "  background: #f2f4f4;\n",
       "}\n",
       "\n",
       ".highlight.tan,\n",
       ".highlight-arrow--tan .highlight-arrow__triangle {\n",
       "  border-color: #b0a481;\n",
       "}\n",
       "\n",
       ".highlight.tan > .highlight__label,\n",
       ".highlight-arrow--tan .highlight-arrow__stalk,\n",
       ".highlight.tan .highlight__button .highlight__button__body {\n",
       "  background-color: #b0a481;\n",
       "}\n",
       "\n",
       ".highlight.tan.active {\n",
       "  background: #b0a481;\n",
       "}\n",
       "\n",
       ".highlight.tan.active > .highlight__label {\n",
       "  background-color: #b8ad8e;\n",
       "}\n",
       "\n",
       ".highlight.tan .highlight__button svg {\n",
       "  fill: #b0a481;\n",
       "}\n",
       "\n",
       "\n",
       ".highlight.red {\n",
       "  background: #f5eef0;\n",
       "}\n",
       "\n",
       ".highlight.red,\n",
       ".highlight-arrow--red .highlight-arrow__triangle {\n",
       "  border-color: #df3838;\n",
       "}\n",
       "\n",
       ".highlight.red > .highlight__label,\n",
       ".highlight-arrow--red .highlight-arrow__stalk,\n",
       ".highlight.red .highlight__button .highlight__button__body {\n",
       "  background-color: #df3838;\n",
       "}\n",
       "\n",
       ".highlight.red.active {\n",
       "  background: #df3838;\n",
       "}\n",
       "\n",
       ".highlight.red.active > .highlight__label {\n",
       "  background-color: #e24c4c;\n",
       "}\n",
       "\n",
       ".highlight.red .highlight__button svg {\n",
       "  fill: #df3838;\n",
       "}\n",
       "\n",
       "\n",
       ".highlight.cobalt {\n",
       "  background: #eef0f5;\n",
       "}\n",
       "\n",
       ".highlight.cobalt,\n",
       ".highlight-arrow--cobalt .highlight-arrow__triangle {\n",
       "  border-color: #5f5b97;\n",
       "}\n",
       "\n",
       ".highlight.cobalt > .highlight__label,\n",
       ".highlight-arrow--cobalt .highlight-arrow__stalk,\n",
       ".highlight.cobalt .highlight__button .highlight__button__body {\n",
       "  background-color: #5f5b97;\n",
       "}\n",
       "\n",
       ".highlight.cobalt.active {\n",
       "  background: #5f5b97;\n",
       "}\n",
       "\n",
       ".highlight.cobalt.active > .highlight__label {\n",
       "  background-color: #6f6ca2;\n",
       "}\n",
       "\n",
       ".highlight.cobalt .highlight__button svg {\n",
       "  fill: #5f5b97;\n",
       "}\n",
       "\n",
       "\n",
       ".highlight.brown {\n",
       "  background: #f2f4f6;\n",
       "}\n",
       "\n",
       ".highlight.brown,\n",
       ".highlight-arrow--brown .highlight-arrow__triangle {\n",
       "  border-color: #6a4e3d;\n",
       "}\n",
       "\n",
       ".highlight.brown > .highlight__label,\n",
       ".highlight-arrow--brown .highlight-arrow__stalk,\n",
       ".highlight.brown .highlight__button .highlight__button__body {\n",
       "  background-color: #6a4e3d;\n",
       "}\n",
       "\n",
       ".highlight.brown.active {\n",
       "  background: #6a4e3d;\n",
       "}\n",
       "\n",
       ".highlight.brown.active > .highlight__label {\n",
       "  background-color: #796051;\n",
       "}\n",
       "\n",
       ".highlight.brown .highlight__button svg {\n",
       "  fill: #6a4e3d;\n",
       "}\n",
       "\n",
       "\n",
       ".highlight.slate {\n",
       "  background: #eceff1;\n",
       "}\n",
       "\n",
       ".highlight.slate,\n",
       ".highlight-arrow--slate .highlight-arrow__triangle {\n",
       "  border-color: #3b4247;\n",
       "}\n",
       "\n",
       ".highlight.slate > .highlight__label,\n",
       ".highlight-arrow--slate .highlight-arrow__stalk,\n",
       ".highlight.slate .highlight__button .highlight__button__body {\n",
       "  background-color: #3b4247;\n",
       "}\n",
       "\n",
       ".highlight.slate.active {\n",
       "  background: #3b4247;\n",
       "}\n",
       "\n",
       ".highlight.slate.active > .highlight__label {\n",
       "  background-color: #4f555a;\n",
       "}\n",
       "\n",
       ".highlight.slate .highlight__button svg {\n",
       "  fill: #3b4247;\n",
       "}\n",
       "\n",
       ".highlight.fuchsia {\n",
       "  background: #f5f1f9;\n",
       "}\n",
       "\n",
       ".highlight.fuchsia,\n",
       ".highlight-arrow--fuchsia .highlight-arrow__triangle {\n",
       "  border-color: #e875e8;\n",
       "}\n",
       "\n",
       ".highlight.fuchsia > .highlight__label,\n",
       ".highlight-arrow--fuchsia .highlight-arrow__stalk,\n",
       ".highlight.fuchsia .highlight__button .highlight__button__body {\n",
       "  background-color: #e875e8;\n",
       "}\n",
       "\n",
       ".highlight.fuchsia.active {\n",
       "  background: #e875e8;\n",
       "}\n",
       "\n",
       ".highlight.fuchsia.active > .highlight__label {\n",
       "  background-color: #ea83ea;\n",
       "}\n",
       "\n",
       ".highlight.fuchsia .highlight__button svg {\n",
       "  fill: #e875e8;\n",
       "}\n",
       "\n",
       "\n",
       ".highlight__tooltip {\n",
       "  display: block;\n",
       "  position: absolute;\n",
       "  box-shadow: 0 0 30px rgba(0,0,0,.2);\n",
       "  border-radius: 6px;\n",
       "  background: rgba(70,70,70,.9);\n",
       "  padding: 4px 9px 5px 9px;\n",
       "  opacity: 0;\n",
       "  z-index: -9;\n",
       "  left: 50%;\n",
       "  top: 100%;\n",
       "  margin-top: 10px;\n",
       "  font-size: 14px;\n",
       "  color: #fff;\n",
       "  transform: translate(-50%, -6px);\n",
       "  transition: opacity .2s ease,\n",
       "              z-index .2s ease,\n",
       "              transform .2s ease .3s;\n",
       "  font-weight: bold;\n",
       "  white-space: nowrap;\n",
       "  user-select: none;\n",
       "  cursor: default;\n",
       "}\n",
       "\n",
       ".highlight__tooltip:before {\n",
       "  display: block;\n",
       "  position: absolute;\n",
       "  left: 50%;\n",
       "  top: 0;\n",
       "  margin-top: -6px;\n",
       "  margin-left: -6px;\n",
       "  content: \"\";\n",
       "  width: 0;\n",
       "  height: 0;\n",
       "  border-style: solid;\n",
       "  border-width: 0 6px 6px 6px;\n",
       "  border-color: transparent transparent rgba(70,70,70,.9) transparent;\n",
       "}\n",
       "\n",
       ".highlight:hover .highlight__tooltip {\n",
       "  z-index: 9;\n",
       "  opacity: 1;\n",
       "  transform: translate(-50%, 0);\n",
       "  transition-delay: 0s;\n",
       "}\n",
       "\n",
       ".highlight__tooltip:hover {\n",
       "  z-index: -9 !important;\n",
       "}\n",
       "\n",
       ".highlight-container {\n",
       "  line-height: 42px !important;\n",
       "  align-items: center;\n",
       "  display: flex;\n",
       "  flex-wrap: wrap;\n",
       "  white-space: pre;\n",
       "  cursor: default;\n",
       "}\n",
       "\n",
       "\n",
       ".highlight-container.highlight-container--bottom-labels {\n",
       "  padding: 10px 1.125em;\n",
       "  align-items: flex-start;\n",
       "}\n",
       "\n",
       ".highlight-container.highlight-container--diagram {\n",
       "  align-items: flex-start;\n",
       "}\n",
       "\n",
       ".highlight-container.highlight-container--diagram.passage.model__content__summary {\n",
       "  background: transparent;\n",
       "  align-items: stretch;\n",
       "  padding: 0;\n",
       "}\n",
       "\n",
       "</style>"
      ],
      "text/plain": [
       "<IPython.core.display.HTML object>"
      ]
     },
     "metadata": {},
     "output_type": "display_data"
    },
    {
     "data": {
      "text/html": [
       "<script>\n",
       "    \n",
       "function handleHighlightMouseOver(el) {\n",
       "    $('[id='+el.getAttribute('id')+']').addClass('active');\n",
       "  }\n",
       "\n",
       "function handleHighlightMouseOut(el) {\n",
       "    $('[id='+el.getAttribute('id')+']').removeClass('active');\n",
       "}\n",
       "  \n",
       "</script>"
      ],
      "text/plain": [
       "<IPython.core.display.HTML object>"
      ]
     },
     "metadata": {},
     "output_type": "display_data"
    }
   ],
   "source": [
    "from IPython.core.display import display, HTML\n",
    "# Add css styles and js events to DOM, so that they are available to rendered html\n",
    "import pandas as pd\n",
    "display(HTML(open('visualization/highlight.css').read()))\n",
    "display(HTML(open('visualization/highlight.js').read()))\n",
    "\n",
    "import visualization"
   ]
  },
  {
   "cell_type": "code",
   "execution_count": 115,
   "id": "nuclear-citizen",
   "metadata": {},
   "outputs": [],
   "source": [
    "html = visualization.render(data, allen=True, jupyter=False)\n",
    "# data.append({'sample_idx': idx, \n",
    "#              'model': 'AllenNlp',\n",
    "#              'annotation': html})"
   ]
  },
  {
   "cell_type": "code",
   "execution_count": 117,
   "id": "frequent-delight",
   "metadata": {},
   "outputs": [
    {
     "data": {
      "text/html": [
       "<div style=\"padding: 16px;\"><span>[ </span><span>Contract </span><span>Overview </span><span>: </span><span key=4 class=\"highlight green\" depth=0 id=1 onmouseover=\"handleHighlightMouseOver(this)\"                 onmouseout=\"handleHighlightMouseOut(this)\" labelPosition=\"left\">                <span class=\"highlight__label\"><strong>1</strong></span>                <span class=\"highlight__content\"><span>This </span></span></span><span>is </span><span>an </span><span>Amendment </span><span>and </span><span>Restatement </span><span>of </span><span key=11 class=\"highlight blue\" depth=0 id=0 onmouseover=\"handleHighlightMouseOver(this)\"                 onmouseout=\"handleHighlightMouseOut(this)\" labelPosition=\"left\">                <span class=\"highlight__label\"><strong>0</strong></span>                <span class=\"highlight__content\"><span>the </span> <span>Master </span> <span>Services </span> <span>Cost </span> <span>bubbletea </span> <span>Agreement </span></span></span><span>and </span><span key=13 class=\"highlight pink\" depth=0 id=2 onmouseover=\"handleHighlightMouseOver(this)\"                 onmouseout=\"handleHighlightMouseOut(this)\" labelPosition=\"left\">                <span class=\"highlight__label\"><strong>2</strong></span>                <span class=\"highlight__content\"><span>service </span> <span>schedules </span> <span>( </span> <span>the </span> <span>Attachments </span></span></span><span>) </span><span>. </span><span>  </span><span key=17 class=\"highlight blue\" depth=0 id=0 onmouseover=\"handleHighlightMouseOver(this)\"                 onmouseout=\"handleHighlightMouseOut(this)\" labelPosition=\"left\">                <span class=\"highlight__label\"><strong>0</strong></span>                <span class=\"highlight__content\"><span>This </span> <span>agreement </span></span></span><span>covers </span><span>services </span><span>provided </span><span>between </span><span>and </span><span>amongst </span><span key=24 class=\"highlight orange\" depth=0 id=3 onmouseover=\"handleHighlightMouseOver(this)\"                 onmouseout=\"handleHighlightMouseOut(this)\" labelPosition=\"left\">                <span class=\"highlight__label\"><strong>3</strong></span>                <span class=\"highlight__content\"><span>ABC </span> <span>'s </span></span></span><span>Canadian </span><span>and </span><span>US </span><span>legal </span><span>entities </span><span>for </span><span>which </span><span>there </span><span>are </span><span>( </span><span>or </span><span>will </span><span>be </span><span>) </span><span>cost </span><span>recovery </span><span>\" </span><span>Transfer </span><span>Pricing </span><span>\" </span><span>between </span><span>the </span><span>providers </span><span>and </span><span>recipients </span><span>of </span><span>the </span><span>services </span><span>. </span><span>  </span><span key=55 class=\"highlight green\" depth=0 id=1 onmouseover=\"handleHighlightMouseOver(this)\"                 onmouseout=\"handleHighlightMouseOut(this)\" labelPosition=\"left\">                <span class=\"highlight__label\"><strong>1</strong></span>                <span class=\"highlight__content\"><span key=0 class=\"highlight green\" depth=1 id=1 onmouseover=\"handleHighlightMouseOver(this)\"                 onmouseout=\"handleHighlightMouseOut(this)\" labelPosition=\"left\">                <span class=\"highlight__label\"><strong>1</strong></span>                <span class=\"highlight__content\"><span>This </span> <span>update </span> <span>, </span> <span>part </span> <span>of </span> <span>the </span> <span>Cardinal </span> <span>project </span></span></span> <span>, </span></span></span><span>further </span><span>incorporates </span><span>ABC </span><span>restaurant </span><span>USA </span><span>as </span><span>both </span><span>a </span><span>service </span><span>provider </span><span>and </span><span>a </span><span>service </span><span>recipient </span><span>. </span><span>   </span><span key=72 class=\"highlight pink\" depth=0 id=2 onmouseover=\"handleHighlightMouseOver(this)\"                 onmouseout=\"handleHighlightMouseOut(this)\" labelPosition=\"left\">                <span class=\"highlight__label\"><strong>2</strong></span>                <span class=\"highlight__content\"><span>The </span> <span>Attachments </span> <span>herein </span></span></span><span>have </span><span>been </span><span>organized </span><span>based </span><span>on </span><span key=78 class=\"highlight orange\" depth=0 id=3 onmouseover=\"handleHighlightMouseOver(this)\"                 onmouseout=\"handleHighlightMouseOut(this)\" labelPosition=\"left\">                <span class=\"highlight__label\"><strong>3</strong></span>                <span class=\"highlight__content\"><span>ABCs </span></span></span><span>Functional </span><span>Groups </span><span>and </span><span>Strategic </span><span>Business </span><span>Units </span><span>( </span><span>as </span><span>applicable </span><span>) </span><span>in </span><span>India </span><span>and </span><span>US </span><span>Region </span><span>and </span><span>each </span><span>of </span><span key=97 class=\"highlight pink\" depth=0 id=2 onmouseover=\"handleHighlightMouseOver(this)\"                 onmouseout=\"handleHighlightMouseOut(this)\" labelPosition=\"left\">                <span class=\"highlight__label\"><strong>2</strong></span>                <span class=\"highlight__content\"><span>these </span></span></span><span>have </span><span>been </span><span>formally </span><span>approved </span><span>by </span><span key=103 class=\"highlight pink\" depth=0 id=2 onmouseover=\"handleHighlightMouseOver(this)\"                 onmouseout=\"handleHighlightMouseOut(this)\" labelPosition=\"left\">                <span class=\"highlight__label\"><strong>2</strong></span>                <span class=\"highlight__content\"><span>their </span></span></span><span>respective </span><span>Senior </span><span>Executives.];[Sourcing </span><span>Rationale </span><span>: </span><span>Regulatory];[Key </span><span>T&C </span><span>’s </span><span>: </span><span>5 </span><span>- </span><span>Year </span><span>Term </span><span>, </span><span>auto </span><span>renews </span><span>for </span><span>1 </span><span>- </span><span>year </span><span>\n",
       " </span><span>Services </span><span>Schedule </span><span>outlines </span><span>the </span><span>services </span><span>provided </span><span>, </span><span>along </span><span>with </span><span>standards </span><span>, </span><span>reporting </span><span>and </span><span>Transfer </span><span>pricing </span><span>methodology </span><span>and </span><span>agreements </span><span>that </span><span>are </span><span>implicit </span><span>in </span><span>this.];[Pricing </span><span>Terms </span><span>: </span><span>Transfer </span><span>Pricing </span><span>based </span><span>on </span><span>cost </span><span>allocations </span><span>through </span><span>transfer </span><span>pricing </span><span>agreements </span><span>, </span><span>guided </span><span>by </span><span>the </span><span>Allocation </span><span>Notes </span><span>described </span><span>in </span><span key=168 class=\"highlight pink\" depth=0 id=2 onmouseover=\"handleHighlightMouseOver(this)\"                 onmouseout=\"handleHighlightMouseOut(this)\" labelPosition=\"left\">                <span class=\"highlight__label\"><strong>2</strong></span>                <span class=\"highlight__content\"><span>the </span> <span>Attachments </span></span></span><span>. </span><span>  </span><span>Generally </span><span>Cost </span><span>Reimbursement </span><span>and </span><span>consistent </span><span>with </span><span>Regulation </span><span>W </span><span>principles </span><span>. </span><span>] </span></div>"
      ],
      "text/plain": [
       "<IPython.core.display.HTML object>"
      ]
     },
     "execution_count": 117,
     "metadata": {},
     "output_type": "execute_result"
    }
   ],
   "source": [
    "HTML(html)"
   ]
  },
  {
   "cell_type": "code",
   "execution_count": 120,
   "id": "multiple-profit",
   "metadata": {},
   "outputs": [
    {
     "data": {
      "text/html": [
       "<div style=\"padding: 16px;\"><span>[ </span><span>Contract </span><span>Overview </span><span>: </span><span>Purchase </span><span>of </span><span>eighty </span><span>( </span><span>80 </span><span>) </span><span>TestSupplier2 </span><span>Golden </span><span>Gate </span><span>- </span><span>Processor </span><span>Perpetual </span><span>licenses </span><span>and </span><span>first </span><span>year </span><span>maintenance </span><span>and </span><span>support </span><span>. </span><span>This </span><span>is </span><span>a </span><span>good </span><span>deal </span><span>for </span><span>the </span><span>restaurant </span><span>; </span><span>83 </span><span>% </span><span>discount </span><span>off </span><span>the </span><span>list </span><span>license </span><span>, </span><span>one </span><span>time </span><span>maintenance </span><span>/ </span><span>support </span><span>credit </span><span>, </span><span>technical </span><span>support </span><span>cap </span><span>0 </span><span>% </span><span>for </span><span>first </span><span>and </span><span>second </span><span>term </span><span>renewal </span><span>and </span><span>a </span><span>two </span><span>( </span><span>2 </span><span>) </span><span>year </span><span>73 </span><span>% </span><span>price </span><span>hold </span><span>. </span><span>Total </span><span>financial </span><span>obligation </span><span>of </span><span>this </span><span>agreement </span><span>for </span><span>software </span><span>and </span><span>first </span><span>year </span><span>support </span><span>/ </span><span>maintenance </span><span>$ </span><span>291.103.95 </span><span>USD </span><span>( </span><span>taxes </span><span>included).];[Sourcing </span><span>Rationale </span><span>: </span><span>Current </span><span>supplier </span><span>of </span><span>software.];[Key </span><span>T&C </span><span>’s </span><span>: </span><span key=100 class=\"highlight blue\" depth=0 id=0 onmouseover=\"handleHighlightMouseOver(this)\"                 onmouseout=\"handleHighlightMouseOut(this)\" labelPosition=\"left\">                <span class=\"highlight__label\"><strong>0</strong></span>                <span class=\"highlight__content\"><span>Agreement </span> <span>to </span> <span>be </span> <span>governing </span> <span>by </span> <span>the </span> <span>Master </span> <span>( </span> <span>OLSA </span> <span>) </span></span></span><span>\n",
       " </span><span>50 </span><span>% </span><span>discount </span><span>off </span><span>licenses </span><span>\n",
       " </span><span>0 </span><span>% </span><span>cap </span><span>on </span><span>maintenance </span><span>first </span><span>and </span><span>second </span><span>year </span><span>renewal </span><span>\n",
       " </span><span>One </span><span>time </span><span>maintenance </span><span>/ </span><span>support </span><span>credit </span><span>in </span><span>the </span><span>amount </span><span>of </span><span>$ </span><span>33333.33 </span><span>( </span><span>plus </span><span>taxes </span><span>) </span><span>\n",
       " </span><span>73 </span><span>% </span><span>price </span><span>hold </span><span>for </span><span>two </span><span>( </span><span>2 </span><span>) </span><span>years];[Pricing </span><span>Terms </span><span>: </span><span>Supplier </span><span>may </span><span>invoice </span><span>for </span><span>software </span><span>and </span><span>first </span><span>year </span><span>maintenance </span><span>and </span><span>support </span><span>upon </span><span>execution </span><span>of </span><span key=162 class=\"highlight blue\" depth=0 id=0 onmouseover=\"handleHighlightMouseOver(this)\"                 onmouseout=\"handleHighlightMouseOut(this)\" labelPosition=\"left\">                <span class=\"highlight__label\"><strong>0</strong></span>                <span class=\"highlight__content\"><span>the </span> <span>agreement </span></span></span><span>. </span><span>] </span></div>"
      ],
      "text/plain": [
       "<IPython.core.display.HTML object>"
      ]
     },
     "execution_count": 120,
     "metadata": {},
     "output_type": "execute_result"
    }
   ],
   "source": [
    "data2=model.predict(df_new['contract_overview'][2])\n",
    "html = visualization.render(data2, allen=True, jupyter=False)\n",
    "HTML(html)"
   ]
  },
  {
   "cell_type": "code",
   "execution_count": 124,
   "id": "therapeutic-narrow",
   "metadata": {},
   "outputs": [
    {
     "data": {
      "text/html": [
       "<div style=\"padding: 16px;\"><span>[ </span><span>Contract </span><span>Overview </span><span>: </span><span>NDA </span><span>for </span><span>Bubbletea </span><span>project </span><span>. </span><span>\n",
       " </span><span>An </span><span>integrated </span><span>technical </span><span>solution </span><span>; </span><span>( </span><span>i </span><span>) </span><span>to </span><span>replace </span><span>soon </span><span>to </span><span>be </span><span>unsupported </span><span>core </span><span>operating </span><span>/ </span><span>trading </span><span>systems </span><span>and </span><span>( </span><span>ii </span><span>) </span><span>develop </span><span>Cayrestaurant </span><span>’s </span><span>own </span><span>USD </span><span>General </span><span>Ledger </span><span>framework </span><span>. </span><span>] </span></div>"
      ],
      "text/plain": [
       "<IPython.core.display.HTML object>"
      ]
     },
     "execution_count": 124,
     "metadata": {},
     "output_type": "execute_result"
    }
   ],
   "source": [
    "data3=model.predict(df_new['contract_overview'][4])\n",
    "html = visualization.render(data3, allen=True, jupyter=False)\n",
    "HTML(html)"
   ]
  },
  {
   "cell_type": "code",
   "execution_count": 127,
   "id": "elementary-saint",
   "metadata": {},
   "outputs": [
    {
     "data": {
      "text/html": [
       "<div style=\"padding: 16px;\"><span>[ </span><span>Contract </span><span>Overview </span><span>: </span><span key=4 class=\"highlight green\" depth=0 id=1 onmouseover=\"handleHighlightMouseOver(this)\"                 onmouseout=\"handleHighlightMouseOut(this)\" labelPosition=\"left\">                <span class=\"highlight__label\"><strong>1</strong></span>                <span class=\"highlight__content\"><span>Randomname </span></span></span><span>is </span><span>an </span><span>Order </span><span>Management </span><span>System </span><span>provider </span><span>to </span><span key=12 class=\"highlight blue\" depth=0 id=0 onmouseover=\"handleHighlightMouseOver(this)\"                 onmouseout=\"handleHighlightMouseOut(this)\" labelPosition=\"left\">                <span class=\"highlight__label\"><strong>0</strong></span>                <span class=\"highlight__content\"><span>one </span> <span>of </span> <span>our </span> <span>Equity </span> <span>clients </span></span></span><span>. </span><span>  </span><span>In </span><span>order </span><span>to </span><span>onboard </span><span key=19 class=\"highlight blue\" depth=0 id=0 onmouseover=\"handleHighlightMouseOver(this)\"                 onmouseout=\"handleHighlightMouseOut(this)\" labelPosition=\"left\">                <span class=\"highlight__label\"><strong>0</strong></span>                <span class=\"highlight__content\"><span>the </span> <span>client </span></span></span><span>, </span><span key=21 class=\"highlight green\" depth=0 id=1 onmouseover=\"handleHighlightMouseOver(this)\"                 onmouseout=\"handleHighlightMouseOut(this)\" labelPosition=\"left\">                <span class=\"highlight__label\"><strong>1</strong></span>                <span class=\"highlight__content\"><span>Randomname </span></span></span><span>must </span><span>perform </span><span>configuration </span><span>work </span><span>and </span><span>establish </span><span>connectivity </span><span>using </span><span>FIX </span><span>protocol </span><span>with </span><span>ABC </span><span>for </span><span>which </span><span key=36 class=\"highlight green\" depth=0 id=1 onmouseover=\"handleHighlightMouseOver(this)\"                 onmouseout=\"handleHighlightMouseOut(this)\" labelPosition=\"left\">                <span class=\"highlight__label\"><strong>1</strong></span>                <span class=\"highlight__content\"><span>they </span></span></span><span>require </span><span>a </span><span>term </span><span>agreement.];[Sourcing </span><span>Rationale </span><span>: </span><span>Dash </span><span>financial </span><span>needs </span><span>Info </span><span>reach </span><span>to </span><span>establish </span><span>connectivity];[Key </span><span>T&C </span><span>’s </span><span>: </span><span key=54 class=\"highlight pink\" depth=0 id=2 onmouseover=\"handleHighlightMouseOver(this)\"                 onmouseout=\"handleHighlightMouseOut(this)\" labelPosition=\"left\">                <span class=\"highlight__label\"><strong>2</strong></span>                <span class=\"highlight__content\"><span>The </span> <span>contract </span></span></span><span>is </span><span>for </span><span>one </span><span>year </span><span>with </span><span>automatic </span><span>one </span><span>year </span><span>renewals </span><span>after </span><span>the </span><span>initial </span><span>period </span><span>unless </span><span key=69 class=\"highlight pink\" depth=0 id=2 onmouseover=\"handleHighlightMouseOver(this)\"                 onmouseout=\"handleHighlightMouseOut(this)\" labelPosition=\"left\">                <span class=\"highlight__label\"><strong>2</strong></span>                <span class=\"highlight__content\"><span>it </span></span></span><span>is </span><span>terminated </span><span>in </span><span>writing </span><span>30 </span><span>days </span><span>before </span><span>the </span><span>renewal </span><span>date </span><span>. </span><span>the </span><span>initial </span><span>setup </span><span>cost </span><span>is </span><span>2,220.00 </span><span>+ </span><span>tax </span><span>and </span><span>then </span><span>a </span><span>$ </span><span>666.00 </span><span>+ </span><span>tax </span><span>subscription </span><span>cost </span><span>per </span><span>month.];[Pricing </span><span>Terms </span><span>: </span><span>$ </span><span>333.00 </span><span>+ </span><span>tax </span><span>per </span><span>month </span><span>for </span><span>the </span><span>subscription </span><span>. </span><span>] </span></div>"
      ],
      "text/plain": [
       "<IPython.core.display.HTML object>"
      ]
     },
     "execution_count": 127,
     "metadata": {},
     "output_type": "execute_result"
    }
   ],
   "source": [
    "data3=model.predict(df_new['contract_overview'][6])\n",
    "html = visualization.render(data3, allen=True, jupyter=False)\n",
    "HTML(html)"
   ]
  },
  {
   "cell_type": "code",
   "execution_count": 130,
   "id": "indonesian-eligibility",
   "metadata": {},
   "outputs": [
    {
     "name": "stderr",
     "output_type": "stream",
     "text": [
      "<ipython-input-130-02f3202cf741>:1: FutureWarning: Your version of xlrd is 1.2.0. In xlrd >= 2.0, only the xls format is supported. As a result, the openpyxl engine will be used if it is installed and the engine argument is not specified. Install openpyxl instead.\n",
      "  df=pd.read_excel('data_masking.xlsx')\n"
     ]
    }
   ],
   "source": [
    "df=pd.read_excel('data_masking.xlsx')"
   ]
  },
  {
   "cell_type": "code",
   "execution_count": 132,
   "id": "tender-chance",
   "metadata": {},
   "outputs": [
    {
     "data": {
      "text/html": [
       "<div style=\"padding: 16px;\"><span>[ </span><span>Contract </span><span>Overview </span><span>: </span><span>Beta </span><span>Test </span><span>of </span><span>Compare </span><span>Test </span><span>( </span><span>CT </span><span>) </span><span>- </span><span>Org </span><span>Confirmations.];[Sourcing </span><span>Rationale </span><span>: </span><span>Execute </span><span key=18 class=\"highlight blue\" depth=0 id=0 onmouseover=\"handleHighlightMouseOver(this)\"                 onmouseout=\"handleHighlightMouseOut(this)\" labelPosition=\"left\">                <span class=\"highlight__label\"><strong>0</strong></span>                <span class=\"highlight__content\"><span>a </span> <span>BPO </span> <span>DOW </span></span></span><span>under </span><span>the </span><span>existing </span><span>XYZ </span><span>Tower </span><span>Agreement];[Key </span><span>T&C </span><span>'s </span><span>: </span><span key=28 class=\"highlight blue\" depth=0 id=0 onmouseover=\"handleHighlightMouseOver(this)\"                 onmouseout=\"handleHighlightMouseOut(this)\" labelPosition=\"left\">                <span class=\"highlight__label\"><strong>0</strong></span>                <span class=\"highlight__content\"><span>This </span> <span>DOW </span></span></span><span>is </span><span>governed </span><span>by </span><span key=32 class=\"highlight green\" depth=0 id=1 onmouseover=\"handleHighlightMouseOver(this)\"                 onmouseout=\"handleHighlightMouseOut(this)\" labelPosition=\"left\">                <span class=\"highlight__label\"><strong>1</strong></span>                <span class=\"highlight__content\"><span>the </span> <span>XYZ </span> <span>RR </span> <span>Agreement </span></span></span><span>and </span><span>is </span><span>bound </span><span>by </span><span>all </span><span>terms </span><span>under </span><span>the </span><span>EMA </span><span>. </span><span>A </span><span>separate </span><span>legal </span><span>summary </span><span>for </span><span key=48 class=\"highlight blue\" depth=0 id=0 onmouseover=\"handleHighlightMouseOver(this)\"                 onmouseout=\"handleHighlightMouseOut(this)\" labelPosition=\"left\">                <span class=\"highlight__label\"><strong>0</strong></span>                <span class=\"highlight__content\"><span>this </span> <span>DOW </span></span></span><span>was </span><span>produced </span><span>by </span><span>external </span><span>legal </span><span>counsel </span><span>, </span><span>Torys </span><span>. </span><span>  </span><span>The </span><span>500 </span><span>% </span><span>Annual </span><span>Productivity </span><span>Improvement </span><span>will </span><span>not </span><span>apply </span><span>until </span><span>either </span><span>: </span><span>a </span><span>) </span><span>an </span><span>Amendment </span><span>to </span><span key=76 class=\"highlight blue\" depth=0 id=0 onmouseover=\"handleHighlightMouseOver(this)\"                 onmouseout=\"handleHighlightMouseOut(this)\" labelPosition=\"left\">                <span class=\"highlight__label\"><strong>0</strong></span>                <span class=\"highlight__content\"><span>this </span> <span>DOW </span></span></span><span>is </span><span>executed </span><span>, </span><span>or </span><span>b </span><span>) </span><span>a </span><span>new </span><span>DOW </span><span>under </span><span key=87 class=\"highlight green\" depth=0 id=1 onmouseover=\"handleHighlightMouseOver(this)\"                 onmouseout=\"handleHighlightMouseOut(this)\" labelPosition=\"left\">                <span class=\"highlight__label\"><strong>1</strong></span>                <span class=\"highlight__content\"><span>the </span> <span>RR </span> <span>Agreement </span></span></span><span>is </span><span>executed </span><span>, </span><span>in </span><span>either </span><span>case </span><span>equivalent </span><span>to </span><span>25 </span><span>FTE.];[Pricing </span><span>Terms </span><span>: </span><span>As </span><span>per </span><span>legal </span><span>summary </span><span>provided </span><span>by </span><span>external </span><span>counsel </span><span>. </span><span>] </span></div>"
      ],
      "text/plain": [
       "<IPython.core.display.HTML object>"
      ]
     },
     "execution_count": 132,
     "metadata": {},
     "output_type": "execute_result"
    }
   ],
   "source": [
    "data3=model.predict(df['overview'][0])\n",
    "html = visualization.render(data3, allen=True, jupyter=False)\n",
    "HTML(html)"
   ]
  },
  {
   "cell_type": "code",
   "execution_count": null,
   "id": "polish-tradition",
   "metadata": {},
   "outputs": [],
   "source": []
  }
 ],
 "metadata": {
  "kernelspec": {
   "display_name": "Python 3",
   "language": "python",
   "name": "python3"
  },
  "language_info": {
   "codemirror_mode": {
    "name": "ipython",
    "version": 3
   },
   "file_extension": ".py",
   "mimetype": "text/x-python",
   "name": "python",
   "nbconvert_exporter": "python",
   "pygments_lexer": "ipython3",
   "version": "3.8.5"
  }
 },
 "nbformat": 4,
 "nbformat_minor": 5
}
